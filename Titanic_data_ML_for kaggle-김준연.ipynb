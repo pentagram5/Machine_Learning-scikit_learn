{
 "cells": [
  {
   "cell_type": "code",
   "execution_count": 146,
   "metadata": {},
   "outputs": [],
   "source": [
    "import numpy as np\n",
    "import pandas as pd\n",
    "import seaborn as sns\n",
    "import matplotlib.pyplot as plt\n",
    "from matplotlib import font_manager, rc\n",
    "%matplotlib inline\n",
    "font_name=font_manager.FontProperties(fname=\"c:/Windows/Fonts/malgun.ttf\").get_name()\n",
    "rc(\"font\",family=font_name)"
   ]
  },
  {
   "cell_type": "code",
   "execution_count": 147,
   "metadata": {},
   "outputs": [],
   "source": [
    "from sklearn.model_selection import train_test_split\n",
    "from sklearn.metrics import accuracy_score\n",
    "from sklearn.tree import DecisionTreeClassifier\n",
    "import mglearn"
   ]
  },
  {
   "cell_type": "code",
   "execution_count": 148,
   "metadata": {},
   "outputs": [],
   "source": [
    "titanic_train = pd.read_csv('../data/titanic/train.csv')\n",
    "titanic_test = pd.read_csv('../data/titanic/test.csv')\n",
    "titanic_test_result = pd.read_csv('../data/titanic/gender_submission.csv')"
   ]
  },
  {
   "cell_type": "code",
   "execution_count": 149,
   "metadata": {},
   "outputs": [],
   "source": [
    "titanic_test = pd.merge(titanic_test, titanic_test_result, how='outer')"
   ]
  },
  {
   "cell_type": "code",
   "execution_count": 150,
   "metadata": {},
   "outputs": [],
   "source": [
    "def titanic_data(raw_data):\n",
    "    tmp = []\n",
    "    for each in raw_data['Sex']:\n",
    "        if each == 'female':\n",
    "            tmp.append(0)\n",
    "        elif each == 'male':\n",
    "            tmp.append(1)\n",
    "        else:\n",
    "            tmp.append(np.nan)\n",
    "            \n",
    "    tmp_age = []\n",
    "    for each in raw_data['Age']:\n",
    "        if each < 10:\n",
    "            tmp_age.append(0)\n",
    "        elif (10 <=each) & (each<20) :\n",
    "            tmp_age.append(1)\n",
    "        elif (20<=each) & (each<30 ):\n",
    "            tmp_age.append(2)\n",
    "        elif (30 <=each) & (each<40) :\n",
    "            tmp_age.append(3)\n",
    "        elif (40 <=each) & (each<50) :\n",
    "            tmp_age.append(4)\n",
    "        elif (50 <=each) & (each<60) :\n",
    "            tmp_age.append(6)\n",
    "        elif (60 <=each) & (each<70) :\n",
    "            tmp_age.append(7)\n",
    "            \n",
    "        elif (70 <=each) & (each<=80) :\n",
    "            tmp_age.append(8)\n",
    "        else:\n",
    "            tmp_age.append(np.nan)\n",
    "            \n",
    "    \n",
    "    raw_data['sex'] = tmp\n",
    "    raw_data['Age'] = tmp_age\n",
    "    raw_data['Survived'] = raw_data['Survived'].astype('float')\n",
    "    raw_data['Pclass'] = raw_data['Pclass'].astype('float')\n",
    "    raw_data['sex'] = raw_data['sex'].astype('float')\n",
    "    raw_data['SibSp'] = raw_data['SibSp'].astype('float')\n",
    "    raw_data['Parch'] = raw_data['Parch'].astype('float')\n",
    "    raw_data['Fare'] = raw_data['Fare'].astype('float')\n",
    "    raw_data['Age'] = raw_data['Age'].astype('float')\n",
    "    return raw_data"
   ]
  },
  {
   "cell_type": "code",
   "execution_count": 151,
   "metadata": {},
   "outputs": [],
   "source": [
    "titanic_train_data = titanic_data(titanic_train)\n",
    "titanic_test_data = titanic_data(titanic_test)"
   ]
  },
  {
   "cell_type": "code",
   "execution_count": 152,
   "metadata": {},
   "outputs": [
    {
     "name": "stderr",
     "output_type": "stream",
     "text": [
      "C:\\Users\\A\\Anaconda3\\lib\\site-packages\\ipykernel_launcher.py:7: SettingWithCopyWarning: \n",
      "A value is trying to be set on a copy of a slice from a DataFrame.\n",
      "Try using .loc[row_indexer,col_indexer] = value instead\n",
      "\n",
      "See the caveats in the documentation: https://pandas.pydata.org/pandas-docs/stable/user_guide/indexing.html#returning-a-view-versus-a-copy\n",
      "  import sys\n"
     ]
    }
   ],
   "source": [
    "from sklearn.preprocessing import StandardScaler\n",
    "standard_scaler = StandardScaler()\n",
    "\n",
    "y_train  = titanic_train_data['Survived'].astype(float)\n",
    "X_train = titanic_train_data[['Pclass', 'sex', 'Age', 'SibSp', 'Parch', 'Fare']]\n",
    "X_train.isnull().sum()\n",
    "X_train['Age'] = X_train['Age'].fillna(X_train['Age'].mean())\n",
    "\n",
    "standard_scaler.fit(X_train)\n",
    "X_train_scaled_standard = standard_scaler.transform(X_train)\n"
   ]
  },
  {
   "cell_type": "code",
   "execution_count": 153,
   "metadata": {
    "scrolled": true
   },
   "outputs": [
    {
     "name": "stderr",
     "output_type": "stream",
     "text": [
      "C:\\Users\\A\\Anaconda3\\lib\\site-packages\\ipykernel_launcher.py:4: SettingWithCopyWarning: \n",
      "A value is trying to be set on a copy of a slice from a DataFrame.\n",
      "Try using .loc[row_indexer,col_indexer] = value instead\n",
      "\n",
      "See the caveats in the documentation: https://pandas.pydata.org/pandas-docs/stable/user_guide/indexing.html#returning-a-view-versus-a-copy\n",
      "  after removing the cwd from sys.path.\n",
      "C:\\Users\\A\\Anaconda3\\lib\\site-packages\\ipykernel_launcher.py:5: SettingWithCopyWarning: \n",
      "A value is trying to be set on a copy of a slice from a DataFrame.\n",
      "Try using .loc[row_indexer,col_indexer] = value instead\n",
      "\n",
      "See the caveats in the documentation: https://pandas.pydata.org/pandas-docs/stable/user_guide/indexing.html#returning-a-view-versus-a-copy\n",
      "  \"\"\"\n"
     ]
    }
   ],
   "source": [
    "y_test = titanic_test_data['Survived'].astype(float)\n",
    "X_test = titanic_test_data[['Pclass', 'sex', 'Age', 'SibSp', 'Parch', 'Fare']]\n",
    "X_test.isnull().sum()\n",
    "X_test['Age'] = X_test['Age'].fillna(X_test['Age'].mean())\n",
    "X_test['Fare'] = X_test['Fare'].fillna(X_test['Fare'].mean())\n",
    "X_test_scaled_standard = standard_scaler.transform(X_test)"
   ]
  },
  {
   "cell_type": "markdown",
   "metadata": {},
   "source": [
    "# DecisionTreeClassifier"
   ]
  },
  {
   "cell_type": "code",
   "execution_count": 173,
   "metadata": {},
   "outputs": [
    {
     "data": {
      "text/plain": [
       "DecisionTreeClassifier(class_weight=None, criterion='gini', max_depth=3,\n",
       "            max_features=None, max_leaf_nodes=None,\n",
       "            min_impurity_decrease=0.0, min_impurity_split=None,\n",
       "            min_samples_leaf=1, min_samples_split=2,\n",
       "            min_weight_fraction_leaf=0.0, presort=False, random_state=0,\n",
       "            splitter='best')"
      ]
     },
     "execution_count": 173,
     "metadata": {},
     "output_type": "execute_result"
    }
   ],
   "source": [
    "from sklearn.tree import DecisionTreeClassifier\n",
    "tree_clf = DecisionTreeClassifier(max_depth=3, random_state=0)\n",
    "tree_clf.fit(X_train, y_train)"
   ]
  },
  {
   "cell_type": "code",
   "execution_count": 174,
   "metadata": {},
   "outputs": [
    {
     "name": "stdout",
     "output_type": "stream",
     "text": [
      "기본 titanic 정제 데이터 점수:\n",
      "Train Score:0.8305274971941639\n",
      "Test Score: 0.9641148325358851\n"
     ]
    }
   ],
   "source": [
    "print('기본 titanic 정제 데이터 점수:')\n",
    "print('Train Score:{}'.format(tree_clf.score(X_train, y_train)))\n",
    "print('Test Score: {}'.format(tree_clf.score(X_test, y_test)))"
   ]
  },
  {
   "cell_type": "code",
   "execution_count": 184,
   "metadata": {},
   "outputs": [
    {
     "data": {
      "text/html": [
       "<div>\n",
       "<style scoped>\n",
       "    .dataframe tbody tr th:only-of-type {\n",
       "        vertical-align: middle;\n",
       "    }\n",
       "\n",
       "    .dataframe tbody tr th {\n",
       "        vertical-align: top;\n",
       "    }\n",
       "\n",
       "    .dataframe thead th {\n",
       "        text-align: right;\n",
       "    }\n",
       "</style>\n",
       "<table border=\"1\" class=\"dataframe\">\n",
       "  <thead>\n",
       "    <tr style=\"text-align: right;\">\n",
       "      <th></th>\n",
       "      <th>PassengerId</th>\n",
       "      <th>Survived</th>\n",
       "    </tr>\n",
       "  </thead>\n",
       "  <tbody>\n",
       "    <tr>\n",
       "      <th>0</th>\n",
       "      <td>892</td>\n",
       "      <td>0</td>\n",
       "    </tr>\n",
       "    <tr>\n",
       "      <th>1</th>\n",
       "      <td>893</td>\n",
       "      <td>1</td>\n",
       "    </tr>\n",
       "    <tr>\n",
       "      <th>2</th>\n",
       "      <td>894</td>\n",
       "      <td>0</td>\n",
       "    </tr>\n",
       "    <tr>\n",
       "      <th>3</th>\n",
       "      <td>895</td>\n",
       "      <td>0</td>\n",
       "    </tr>\n",
       "    <tr>\n",
       "      <th>4</th>\n",
       "      <td>896</td>\n",
       "      <td>1</td>\n",
       "    </tr>\n",
       "  </tbody>\n",
       "</table>\n",
       "</div>"
      ],
      "text/plain": [
       "   PassengerId  Survived\n",
       "0          892         0\n",
       "1          893         1\n",
       "2          894         0\n",
       "3          895         0\n",
       "4          896         1"
      ]
     },
     "execution_count": 184,
     "metadata": {},
     "output_type": "execute_result"
    }
   ],
   "source": [
    "result = tree_clf.predict(X_test)\n",
    "output = pd.DataFrame({'PassengerId' : titanic_test_data['PassengerId'],\n",
    "                      'Survived' : result})\n",
    "output['Survived'] = output['Survived'].astype(int)\n",
    "output.to_csv('my_submission_decision_tree.csv', index=False)\n",
    "output.head()"
   ]
  },
  {
   "cell_type": "markdown",
   "metadata": {},
   "source": [
    "# 랜덤 포레스트"
   ]
  },
  {
   "cell_type": "code",
   "execution_count": 178,
   "metadata": {},
   "outputs": [
    {
     "data": {
      "application/vnd.jupyter.widget-view+json": {
       "model_id": "4edd43e2e6e147ff8bf4ddfc99307277",
       "version_major": 2,
       "version_minor": 0
      },
      "text/plain": [
       "HBox(children=(IntProgress(value=0, max=199), HTML(value='')))"
      ]
     },
     "metadata": {},
     "output_type": "display_data"
    },
    {
     "name": "stdout",
     "output_type": "stream",
     "text": [
      "\n"
     ]
    },
    {
     "data": {
      "text/html": [
       "<div>\n",
       "<style scoped>\n",
       "    .dataframe tbody tr th:only-of-type {\n",
       "        vertical-align: middle;\n",
       "    }\n",
       "\n",
       "    .dataframe tbody tr th {\n",
       "        vertical-align: top;\n",
       "    }\n",
       "\n",
       "    .dataframe thead th {\n",
       "        text-align: right;\n",
       "    }\n",
       "</style>\n",
       "<table border=\"1\" class=\"dataframe\">\n",
       "  <thead>\n",
       "    <tr style=\"text-align: right;\">\n",
       "      <th></th>\n",
       "      <th>n_estimators</th>\n",
       "      <th>trainScore</th>\n",
       "      <th>TestScore</th>\n",
       "    </tr>\n",
       "  </thead>\n",
       "  <tbody>\n",
       "    <tr>\n",
       "      <th>19</th>\n",
       "      <td>20</td>\n",
       "      <td>0.946128</td>\n",
       "      <td>0.858852</td>\n",
       "    </tr>\n",
       "  </tbody>\n",
       "</table>\n",
       "</div>"
      ],
      "text/plain": [
       "    n_estimators  trainScore  TestScore\n",
       "19            20    0.946128   0.858852"
      ]
     },
     "execution_count": 178,
     "metadata": {},
     "output_type": "execute_result"
    }
   ],
   "source": [
    "estimators = []\n",
    "trainScore =[]\n",
    "TestScore = []\n",
    "from sklearn.ensemble import RandomForestClassifier\n",
    "from tqdm import tqdm_notebook\n",
    "for i in tqdm_notebook(range(1,200)):\n",
    "    forest = RandomForestClassifier(n_estimators = i, random_state = 0)\n",
    "    forest.fit(X_train, y_train)\n",
    "    estimators.append(i)\n",
    "    trainScore.append(format(forest.score(X_train, y_train)))\n",
    "    TestScore.append(format(forest.score(X_test, y_test)))\n",
    "    \n",
    "all_forest = pd.DataFrame({'n_estimators' : estimators,\n",
    "                          'trainScore' : trainScore,\n",
    "                          'TestScore': TestScore})\n",
    "all_forest['trainScore'] = all_forest['trainScore'].astype(float)\n",
    "all_forest['TestScore'] = all_forest['TestScore'].astype(float)\n",
    "all_forest[all_forest['TestScore'] == all_forest['TestScore'].max()]            "
   ]
  },
  {
   "cell_type": "code",
   "execution_count": 182,
   "metadata": {},
   "outputs": [
    {
     "data": {
      "text/html": [
       "<div>\n",
       "<style scoped>\n",
       "    .dataframe tbody tr th:only-of-type {\n",
       "        vertical-align: middle;\n",
       "    }\n",
       "\n",
       "    .dataframe tbody tr th {\n",
       "        vertical-align: top;\n",
       "    }\n",
       "\n",
       "    .dataframe thead th {\n",
       "        text-align: right;\n",
       "    }\n",
       "</style>\n",
       "<table border=\"1\" class=\"dataframe\">\n",
       "  <thead>\n",
       "    <tr style=\"text-align: right;\">\n",
       "      <th></th>\n",
       "      <th>PassengerId</th>\n",
       "      <th>Survived</th>\n",
       "    </tr>\n",
       "  </thead>\n",
       "  <tbody>\n",
       "    <tr>\n",
       "      <th>0</th>\n",
       "      <td>892</td>\n",
       "      <td>1</td>\n",
       "    </tr>\n",
       "    <tr>\n",
       "      <th>1</th>\n",
       "      <td>893</td>\n",
       "      <td>0</td>\n",
       "    </tr>\n",
       "    <tr>\n",
       "      <th>2</th>\n",
       "      <td>894</td>\n",
       "      <td>0</td>\n",
       "    </tr>\n",
       "    <tr>\n",
       "      <th>3</th>\n",
       "      <td>895</td>\n",
       "      <td>0</td>\n",
       "    </tr>\n",
       "    <tr>\n",
       "      <th>4</th>\n",
       "      <td>896</td>\n",
       "      <td>0</td>\n",
       "    </tr>\n",
       "  </tbody>\n",
       "</table>\n",
       "</div>"
      ],
      "text/plain": [
       "   PassengerId  Survived\n",
       "0          892         1\n",
       "1          893         0\n",
       "2          894         0\n",
       "3          895         0\n",
       "4          896         0"
      ]
     },
     "execution_count": 182,
     "metadata": {},
     "output_type": "execute_result"
    }
   ],
   "source": [
    "forest = RandomForestClassifier(n_estimators = 20, random_state = 0)\n",
    "forest.fit(X_train, y_train)\n",
    "result = forest.predict(X_test)\n",
    "output = pd.DataFrame({'PassengerId' : titanic_test_data['PassengerId'],\n",
    "                      'Survived' : result})\n",
    "output['Survived'] = output['Survived'].astype(int)\n",
    "output.to_csv('my_submission_RandomForestClassifier', index=False)\n",
    "output.head()"
   ]
  },
  {
   "cell_type": "markdown",
   "metadata": {},
   "source": [
    "# 그레이디언트 부스트 회귀 트리"
   ]
  },
  {
   "cell_type": "code",
   "execution_count": 206,
   "metadata": {},
   "outputs": [
    {
     "data": {
      "application/vnd.jupyter.widget-view+json": {
       "model_id": "6650fe472b6e4ad8ab9fec385f68e1a0",
       "version_major": 2,
       "version_minor": 0
      },
      "text/plain": [
       "HBox(children=(IntProgress(value=0, max=49), HTML(value='')))"
      ]
     },
     "metadata": {},
     "output_type": "display_data"
    },
    {
     "name": "stdout",
     "output_type": "stream",
     "text": [
      "\n"
     ]
    },
    {
     "data": {
      "text/html": [
       "<div>\n",
       "<style scoped>\n",
       "    .dataframe tbody tr th:only-of-type {\n",
       "        vertical-align: middle;\n",
       "    }\n",
       "\n",
       "    .dataframe tbody tr th {\n",
       "        vertical-align: top;\n",
       "    }\n",
       "\n",
       "    .dataframe thead th {\n",
       "        text-align: right;\n",
       "    }\n",
       "</style>\n",
       "<table border=\"1\" class=\"dataframe\">\n",
       "  <thead>\n",
       "    <tr style=\"text-align: right;\">\n",
       "      <th></th>\n",
       "      <th>n_estimators</th>\n",
       "      <th>trainScore</th>\n",
       "      <th>TestScore</th>\n",
       "    </tr>\n",
       "  </thead>\n",
       "  <tbody>\n",
       "    <tr>\n",
       "      <th>13</th>\n",
       "      <td>14</td>\n",
       "      <td>0.833895</td>\n",
       "      <td>0.961722</td>\n",
       "    </tr>\n",
       "    <tr>\n",
       "      <th>18</th>\n",
       "      <td>19</td>\n",
       "      <td>0.837262</td>\n",
       "      <td>0.961722</td>\n",
       "    </tr>\n",
       "    <tr>\n",
       "      <th>19</th>\n",
       "      <td>20</td>\n",
       "      <td>0.837262</td>\n",
       "      <td>0.961722</td>\n",
       "    </tr>\n",
       "    <tr>\n",
       "      <th>20</th>\n",
       "      <td>21</td>\n",
       "      <td>0.837262</td>\n",
       "      <td>0.961722</td>\n",
       "    </tr>\n",
       "  </tbody>\n",
       "</table>\n",
       "</div>"
      ],
      "text/plain": [
       "    n_estimators  trainScore  TestScore\n",
       "13            14    0.833895   0.961722\n",
       "18            19    0.837262   0.961722\n",
       "19            20    0.837262   0.961722\n",
       "20            21    0.837262   0.961722"
      ]
     },
     "execution_count": 206,
     "metadata": {},
     "output_type": "execute_result"
    }
   ],
   "source": [
    "estimators = []\n",
    "trainScore =[]\n",
    "TestScore = []\n",
    "from tqdm import tqdm_notebook\n",
    "from sklearn.ensemble import GradientBoostingClassifier\n",
    "for i in tqdm_notebook(range(1,50)):\n",
    "    gbrt = GradientBoostingClassifier(n_estimators= i, random_state= 0)\n",
    "    gbrt.fit(X_train, y_train)\n",
    "    estimators.append(i)\n",
    "    trainScore.append(format(gbrt.score(X_train, y_train)))\n",
    "    TestScore.append(format(gbrt.score(X_test, y_test)))\n",
    "all_Gradient = pd.DataFrame({'n_estimators' : estimators,\n",
    "                          'trainScore' : trainScore,\n",
    "                          'TestScore': TestScore})\n",
    "all_Gradient['trainScore'] = all_Gradient['trainScore'].astype(float)\n",
    "all_Gradient['TestScore'] = all_Gradient['TestScore'].astype(float)\n",
    "all_Gradient[all_Gradient['TestScore'] == all_Gradient['TestScore'].max()]"
   ]
  },
  {
   "cell_type": "code",
   "execution_count": 207,
   "metadata": {},
   "outputs": [
    {
     "data": {
      "text/html": [
       "<div>\n",
       "<style scoped>\n",
       "    .dataframe tbody tr th:only-of-type {\n",
       "        vertical-align: middle;\n",
       "    }\n",
       "\n",
       "    .dataframe tbody tr th {\n",
       "        vertical-align: top;\n",
       "    }\n",
       "\n",
       "    .dataframe thead th {\n",
       "        text-align: right;\n",
       "    }\n",
       "</style>\n",
       "<table border=\"1\" class=\"dataframe\">\n",
       "  <thead>\n",
       "    <tr style=\"text-align: right;\">\n",
       "      <th></th>\n",
       "      <th>PassengerId</th>\n",
       "      <th>Survived</th>\n",
       "    </tr>\n",
       "  </thead>\n",
       "  <tbody>\n",
       "    <tr>\n",
       "      <th>0</th>\n",
       "      <td>892</td>\n",
       "      <td>0</td>\n",
       "    </tr>\n",
       "    <tr>\n",
       "      <th>1</th>\n",
       "      <td>893</td>\n",
       "      <td>1</td>\n",
       "    </tr>\n",
       "    <tr>\n",
       "      <th>2</th>\n",
       "      <td>894</td>\n",
       "      <td>0</td>\n",
       "    </tr>\n",
       "    <tr>\n",
       "      <th>3</th>\n",
       "      <td>895</td>\n",
       "      <td>0</td>\n",
       "    </tr>\n",
       "    <tr>\n",
       "      <th>4</th>\n",
       "      <td>896</td>\n",
       "      <td>1</td>\n",
       "    </tr>\n",
       "  </tbody>\n",
       "</table>\n",
       "</div>"
      ],
      "text/plain": [
       "   PassengerId  Survived\n",
       "0          892         0\n",
       "1          893         1\n",
       "2          894         0\n",
       "3          895         0\n",
       "4          896         1"
      ]
     },
     "execution_count": 207,
     "metadata": {},
     "output_type": "execute_result"
    }
   ],
   "source": [
    "gbrt = GradientBoostingClassifier(n_estimators= 14, random_state= 0)\n",
    "gbrt.fit(X_train, y_train)\n",
    "result = gbrt.predict(X_test)\n",
    "output = pd.DataFrame({'PassengerId' : titanic_test_data['PassengerId'],\n",
    "                      'Survived' : result})\n",
    "output['Survived'] = output['Survived'].astype(int)\n",
    "output.to_csv('my_submission_Gradient.csv', index=False)\n",
    "output.head()"
   ]
  },
  {
   "cell_type": "markdown",
   "metadata": {},
   "source": [
    "# 배깅"
   ]
  },
  {
   "cell_type": "code",
   "execution_count": 204,
   "metadata": {
    "scrolled": true
   },
   "outputs": [
    {
     "data": {
      "application/vnd.jupyter.widget-view+json": {
       "model_id": "15cffc36d8b046f588df0dca639f343f",
       "version_major": 2,
       "version_minor": 0
      },
      "text/plain": [
       "HBox(children=(IntProgress(value=0, max=1), HTML(value='')))"
      ]
     },
     "metadata": {},
     "output_type": "display_data"
    },
    {
     "name": "stdout",
     "output_type": "stream",
     "text": [
      "\n"
     ]
    }
   ],
   "source": [
    "estimators = []\n",
    "trainScore =[]\n",
    "TestScore = []\n",
    "from tqdm import tqdm_notebook\n",
    "from sklearn.ensemble import BaggingClassifier\n",
    "for i in tqdm_notebook(range(1,2)):\n",
    "    bagg = BaggingClassifier( DecisionTreeClassifier(),n_estimators= 125, random_state = 0)\n",
    "    bagg.fit(X_train_scaled_standard, y_train)\n",
    "    estimators.append(i)\n",
    "    trainScore.append(format(bagg.score(X_train_scaled_standard, y_train)))\n",
    "    TestScore.append(format(bagg.score(X_test_scaled_standard, y_test)))\n",
    "    \n"
   ]
  },
  {
   "cell_type": "code",
   "execution_count": 205,
   "metadata": {},
   "outputs": [
    {
     "data": {
      "text/html": [
       "<div>\n",
       "<style scoped>\n",
       "    .dataframe tbody tr th:only-of-type {\n",
       "        vertical-align: middle;\n",
       "    }\n",
       "\n",
       "    .dataframe tbody tr th {\n",
       "        vertical-align: top;\n",
       "    }\n",
       "\n",
       "    .dataframe thead th {\n",
       "        text-align: right;\n",
       "    }\n",
       "</style>\n",
       "<table border=\"1\" class=\"dataframe\">\n",
       "  <thead>\n",
       "    <tr style=\"text-align: right;\">\n",
       "      <th></th>\n",
       "      <th>Max_depth</th>\n",
       "      <th>trainScore</th>\n",
       "      <th>TestScore</th>\n",
       "    </tr>\n",
       "  </thead>\n",
       "  <tbody>\n",
       "    <tr>\n",
       "      <th>0</th>\n",
       "      <td>1</td>\n",
       "      <td>0.95174</td>\n",
       "      <td>0.863636</td>\n",
       "    </tr>\n",
       "  </tbody>\n",
       "</table>\n",
       "</div>"
      ],
      "text/plain": [
       "   Max_depth  trainScore  TestScore\n",
       "0          1     0.95174   0.863636"
      ]
     },
     "execution_count": 205,
     "metadata": {},
     "output_type": "execute_result"
    }
   ],
   "source": [
    "all_bagg = pd.DataFrame({'Max_depth' : estimators,\n",
    "                          'trainScore' : trainScore,\n",
    "                          'TestScore': TestScore})\n",
    "all_bagg['trainScore'] = all_bagg['trainScore'].astype(float)\n",
    "all_bagg['TestScore'] = all_bagg['TestScore'].astype(float)\n",
    "all_bagg[all_bagg['TestScore'] == all_bagg['TestScore'].max()]\n"
   ]
  }
 ],
 "metadata": {
  "kernelspec": {
   "display_name": "Python 3",
   "language": "python",
   "name": "python3"
  },
  "language_info": {
   "codemirror_mode": {
    "name": "ipython",
    "version": 3
   },
   "file_extension": ".py",
   "mimetype": "text/x-python",
   "name": "python",
   "nbconvert_exporter": "python",
   "pygments_lexer": "ipython3",
   "version": "3.7.0"
  }
 },
 "nbformat": 4,
 "nbformat_minor": 2
}
