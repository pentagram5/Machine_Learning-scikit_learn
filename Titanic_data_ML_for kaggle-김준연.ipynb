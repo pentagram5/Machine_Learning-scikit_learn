{
 "cells": [
  {
   "cell_type": "code",
   "execution_count": 565,
   "metadata": {},
   "outputs": [],
   "source": [
    "import numpy as np\n",
    "import pandas as pd\n",
    "import seaborn as sns\n",
    "import matplotlib.pyplot as plt\n",
    "from matplotlib import font_manager, rc\n",
    "%matplotlib inline\n",
    "font_name=font_manager.FontProperties(fname=\"c:/Windows/Fonts/malgun.ttf\").get_name()\n",
    "rc(\"font\",family=font_name)"
   ]
  },
  {
   "cell_type": "code",
   "execution_count": 566,
   "metadata": {},
   "outputs": [],
   "source": [
    "from sklearn.model_selection import train_test_split\n",
    "from sklearn.metrics import accuracy_score\n",
    "from sklearn.tree import DecisionTreeClassifier\n",
    "import mglearn"
   ]
  },
  {
   "cell_type": "code",
   "execution_count": 567,
   "metadata": {},
   "outputs": [],
   "source": [
    "titanic_train = pd.read_csv('../data/titanic/train.csv')\n",
    "titanic_test = pd.read_csv('../data/titanic/test.csv')\n",
    "titanic_test_result = pd.read_csv('../data/titanic/gender_submission.csv')"
   ]
  },
  {
   "cell_type": "code",
   "execution_count": 568,
   "metadata": {},
   "outputs": [
    {
     "data": {
      "text/plain": [
       "array(['S', 'C', 'Q', nan], dtype=object)"
      ]
     },
     "execution_count": 568,
     "metadata": {},
     "output_type": "execute_result"
    }
   ],
   "source": [
    "titanic_train.Embarked.unique()"
   ]
  },
  {
   "cell_type": "code",
   "execution_count": 569,
   "metadata": {},
   "outputs": [],
   "source": [
    "titanic_test = pd.merge(titanic_test, titanic_test_result, how='outer')\n"
   ]
  },
  {
   "cell_type": "code",
   "execution_count": 570,
   "metadata": {},
   "outputs": [],
   "source": [
    "def titanic_data(raw_data):\n",
    "    tmp = []\n",
    "    for each in raw_data['Sex']:\n",
    "        if each == 'female':\n",
    "            tmp.append(0)\n",
    "        elif each == 'male':\n",
    "            tmp.append(1)\n",
    "        else:\n",
    "            tmp.append(np.nan)\n",
    "            \n",
    "\n",
    "    tmp_emp =[]    \n",
    "    for each in raw_data['Embarked']:\n",
    "        if each == 'S':\n",
    "            tmp_emp.append(0)\n",
    "        elif each == 'C':\n",
    "            tmp_emp.append(1)\n",
    "        elif each == 'Q':\n",
    "            tmp_emp.append(2)\n",
    "        else: tmp_emp.append(0)\n",
    "\n",
    "            \n",
    "    raw_data['Embarked'] = tmp_emp\n",
    "    raw_data['sex'] = tmp\n",
    "    #raw_data['Age'] = tmp_age\n",
    "    raw_data['Survived'] = raw_data['Survived'].astype('float')\n",
    "    raw_data['Pclass'] = raw_data['Pclass'].astype('float')\n",
    "    raw_data['sex'] = raw_data['sex'].astype('float')\n",
    "    raw_data['SibSp'] = raw_data['SibSp'].astype('float')\n",
    "    raw_data['Parch'] = raw_data['Parch'].astype('float')\n",
    "    raw_data['Fare'] = raw_data['Fare'].astype('float')\n",
    "    raw_data['Age'] = raw_data['Age'].astype('float')\n",
    "    raw_data['Name'] = raw_data['Name'].map(lambda x: x.split(',')[1].split('.')[0].strip())\n",
    "    \n",
    "    name_age = pd.DataFrame(raw_data.groupby('Name').Age.median())\n",
    "    raw_data['Age'].fillna(-1, inplace=True)\n",
    "\n",
    "    for i in raw_data[raw_data['Age'].isnull()].index:\n",
    "        for j in name_age.index:\n",
    "            if raw_data.loc[i]['Name'] == j:\n",
    "                raw_data.loc[i]['Age']=name_age.loc[j]['median']\n",
    "                \n",
    "    tmp_age = []\n",
    "    for each in raw_data['Age']:\n",
    "        if each < 10:\n",
    "            tmp_age.append(0)\n",
    "        elif (10 <=each) & (each<20) :\n",
    "            tmp_age.append(1)\n",
    "        elif (20<=each) & (each<30 ):\n",
    "            tmp_age.append(2)\n",
    "        elif (30 <=each) & (each<40) :\n",
    "            tmp_age.append(3)\n",
    "        elif (40 <=each) & (each<50) :\n",
    "            tmp_age.append(4)\n",
    "        elif (50 <=each) & (each<60) :\n",
    "            tmp_age.append(5)\n",
    "        elif (60 <=each) & (each<70) :\n",
    "            tmp_age.append(6)\n",
    "        elif (70 <=each) & (each<=80) :\n",
    "            tmp_age.append(7)\n",
    "    raw_data['Age'] = tmp_age\n",
    "\n",
    "    \n",
    "    \n",
    "    \n",
    "    tmp_name =[]    \n",
    "    for each in raw_data['Name']:\n",
    "        if each == 'Mr':\n",
    "            tmp_name.append(5)\n",
    "        elif each == 'Miss':\n",
    "            tmp_name.append(4)\n",
    "        elif each == 'Mrs':\n",
    "            tmp_name.append(3)\n",
    "        elif each == 'Master':\n",
    "            tmp_name.append(2)\n",
    "        elif (each == 'Dr') or (each == 'Rev'):\n",
    "            tmp_name.append(1)\n",
    "        else: tmp_name.append(0)\n",
    "            \n",
    "    raw_data['Name'] = tmp_name\n",
    "    # 미스터, 미세스와 같이 호칭별로 분류\n",
    "\n",
    "    return raw_data"
   ]
  },
  {
   "cell_type": "code",
   "execution_count": 571,
   "metadata": {},
   "outputs": [],
   "source": [
    "titanic_train_data = titanic_data(titanic_train)\n",
    "titanic_test_data = titanic_data(titanic_test)"
   ]
  },
  {
   "cell_type": "code",
   "execution_count": 572,
   "metadata": {},
   "outputs": [
    {
     "data": {
      "text/html": [
       "<div>\n",
       "<style scoped>\n",
       "    .dataframe tbody tr th:only-of-type {\n",
       "        vertical-align: middle;\n",
       "    }\n",
       "\n",
       "    .dataframe tbody tr th {\n",
       "        vertical-align: top;\n",
       "    }\n",
       "\n",
       "    .dataframe thead th {\n",
       "        text-align: right;\n",
       "    }\n",
       "</style>\n",
       "<table border=\"1\" class=\"dataframe\">\n",
       "  <thead>\n",
       "    <tr style=\"text-align: right;\">\n",
       "      <th></th>\n",
       "      <th>PassengerId</th>\n",
       "      <th>Survived</th>\n",
       "      <th>Pclass</th>\n",
       "      <th>Name</th>\n",
       "      <th>Sex</th>\n",
       "      <th>Age</th>\n",
       "      <th>SibSp</th>\n",
       "      <th>Parch</th>\n",
       "      <th>Ticket</th>\n",
       "      <th>Fare</th>\n",
       "      <th>Cabin</th>\n",
       "      <th>Embarked</th>\n",
       "      <th>sex</th>\n",
       "    </tr>\n",
       "  </thead>\n",
       "  <tbody>\n",
       "    <tr>\n",
       "      <th>0</th>\n",
       "      <td>1</td>\n",
       "      <td>0.0</td>\n",
       "      <td>3.0</td>\n",
       "      <td>5</td>\n",
       "      <td>male</td>\n",
       "      <td>2</td>\n",
       "      <td>1.0</td>\n",
       "      <td>0.0</td>\n",
       "      <td>A/5 21171</td>\n",
       "      <td>7.2500</td>\n",
       "      <td>NaN</td>\n",
       "      <td>0</td>\n",
       "      <td>1.0</td>\n",
       "    </tr>\n",
       "    <tr>\n",
       "      <th>1</th>\n",
       "      <td>2</td>\n",
       "      <td>1.0</td>\n",
       "      <td>1.0</td>\n",
       "      <td>3</td>\n",
       "      <td>female</td>\n",
       "      <td>3</td>\n",
       "      <td>1.0</td>\n",
       "      <td>0.0</td>\n",
       "      <td>PC 17599</td>\n",
       "      <td>71.2833</td>\n",
       "      <td>C85</td>\n",
       "      <td>1</td>\n",
       "      <td>0.0</td>\n",
       "    </tr>\n",
       "    <tr>\n",
       "      <th>2</th>\n",
       "      <td>3</td>\n",
       "      <td>1.0</td>\n",
       "      <td>3.0</td>\n",
       "      <td>4</td>\n",
       "      <td>female</td>\n",
       "      <td>2</td>\n",
       "      <td>0.0</td>\n",
       "      <td>0.0</td>\n",
       "      <td>STON/O2. 3101282</td>\n",
       "      <td>7.9250</td>\n",
       "      <td>NaN</td>\n",
       "      <td>0</td>\n",
       "      <td>0.0</td>\n",
       "    </tr>\n",
       "    <tr>\n",
       "      <th>3</th>\n",
       "      <td>4</td>\n",
       "      <td>1.0</td>\n",
       "      <td>1.0</td>\n",
       "      <td>3</td>\n",
       "      <td>female</td>\n",
       "      <td>3</td>\n",
       "      <td>1.0</td>\n",
       "      <td>0.0</td>\n",
       "      <td>113803</td>\n",
       "      <td>53.1000</td>\n",
       "      <td>C123</td>\n",
       "      <td>0</td>\n",
       "      <td>0.0</td>\n",
       "    </tr>\n",
       "    <tr>\n",
       "      <th>4</th>\n",
       "      <td>5</td>\n",
       "      <td>0.0</td>\n",
       "      <td>3.0</td>\n",
       "      <td>5</td>\n",
       "      <td>male</td>\n",
       "      <td>3</td>\n",
       "      <td>0.0</td>\n",
       "      <td>0.0</td>\n",
       "      <td>373450</td>\n",
       "      <td>8.0500</td>\n",
       "      <td>NaN</td>\n",
       "      <td>0</td>\n",
       "      <td>1.0</td>\n",
       "    </tr>\n",
       "  </tbody>\n",
       "</table>\n",
       "</div>"
      ],
      "text/plain": [
       "   PassengerId  Survived  Pclass  Name     Sex  Age  SibSp  Parch  \\\n",
       "0            1       0.0     3.0     5    male    2    1.0    0.0   \n",
       "1            2       1.0     1.0     3  female    3    1.0    0.0   \n",
       "2            3       1.0     3.0     4  female    2    0.0    0.0   \n",
       "3            4       1.0     1.0     3  female    3    1.0    0.0   \n",
       "4            5       0.0     3.0     5    male    3    0.0    0.0   \n",
       "\n",
       "             Ticket     Fare Cabin  Embarked  sex  \n",
       "0         A/5 21171   7.2500   NaN         0  1.0  \n",
       "1          PC 17599  71.2833   C85         1  0.0  \n",
       "2  STON/O2. 3101282   7.9250   NaN         0  0.0  \n",
       "3            113803  53.1000  C123         0  0.0  \n",
       "4            373450   8.0500   NaN         0  1.0  "
      ]
     },
     "execution_count": 572,
     "metadata": {},
     "output_type": "execute_result"
    }
   ],
   "source": [
    "titanic_train_data.head()"
   ]
  },
  {
   "cell_type": "code",
   "execution_count": 573,
   "metadata": {},
   "outputs": [
    {
     "data": {
      "text/plain": [
       "array([2, 3, 0, 5, 1, 4, 6, 7], dtype=int64)"
      ]
     },
     "execution_count": 573,
     "metadata": {},
     "output_type": "execute_result"
    }
   ],
   "source": [
    "titanic_train_data.Age.unique()"
   ]
  },
  {
   "cell_type": "code",
   "execution_count": 574,
   "metadata": {},
   "outputs": [
    {
     "data": {
      "text/plain": [
       "PassengerId      0\n",
       "Survived         0\n",
       "Pclass           0\n",
       "Name             0\n",
       "Sex              0\n",
       "Age              0\n",
       "SibSp            0\n",
       "Parch            0\n",
       "Ticket           0\n",
       "Fare             0\n",
       "Cabin          687\n",
       "Embarked         0\n",
       "sex              0\n",
       "dtype: int64"
      ]
     },
     "execution_count": 574,
     "metadata": {},
     "output_type": "execute_result"
    }
   ],
   "source": [
    "titanic_train_data.isnull().sum()"
   ]
  },
  {
   "cell_type": "markdown",
   "metadata": {},
   "source": [
    "titanic_train_data.groupby('Name').Survived.count()"
   ]
  },
  {
   "cell_type": "code",
   "execution_count": 575,
   "metadata": {},
   "outputs": [
    {
     "data": {
      "text/plain": [
       "<matplotlib.axes._subplots.AxesSubplot at 0x175800d9fd0>"
      ]
     },
     "execution_count": 575,
     "metadata": {},
     "output_type": "execute_result"
    },
    {
     "data": {
      "image/png": "[encoded data removed]",
      "text/plain": [
       "<Figure size 432x288 with 1 Axes>"
      ]
     },
     "metadata": {
      "needs_background": "light"
     },
     "output_type": "display_data"
    }
   ],
   "source": [
    "import seaborn as sns\n",
    "sns.countplot('Embarked', data=titanic_train_data, hue= 'Survived')"
   ]
  },
  {
   "cell_type": "code",
   "execution_count": 576,
   "metadata": {},
   "outputs": [
    {
     "data": {
      "text/plain": [
       "\"y_train  = titanic_train_data['Survived'].astype(float)\\nX_train = titanic_train_data[['Pclass', 'sex', 'Age', 'SibSp', 'Parch', 'Fare', 'Embarked']]\\nX_train.isnull().sum()\\nX_train['Age'] = X_train['Age'].fillna(X_train['Age'].mean())\""
      ]
     },
     "execution_count": 576,
     "metadata": {},
     "output_type": "execute_result"
    }
   ],
   "source": [
    "\n",
    "\n",
    "'''y_train  = titanic_train_data['Survived'].astype(float)\n",
    "X_train = titanic_train_data[['Pclass', 'sex', 'Age', 'SibSp', 'Parch', 'Fare', 'Embarked']]\n",
    "X_train.isnull().sum()\n",
    "X_train['Age'] = X_train['Age'].fillna(X_train['Age'].mean())'''\n",
    "\n",
    "\n"
   ]
  },
  {
   "cell_type": "code",
   "execution_count": 577,
   "metadata": {},
   "outputs": [
    {
     "name": "stderr",
     "output_type": "stream",
     "text": [
      "C:\\Users\\A\\Anaconda3\\lib\\site-packages\\sklearn\\model_selection\\_split.py:2026: FutureWarning: From version 0.21, test_size will always complement train_size unless both are specified.\n",
      "  FutureWarning)\n"
     ]
    }
   ],
   "source": [
    "from sklearn.model_selection import train_test_split\n",
    "\n",
    "X_train, X_test, y_train, y_test = train_test_split(titanic_train_data[['Pclass', 'sex', 'Age', 'SibSp', 'Parch', 'Fare',  'Name']], \n",
    "                                                    titanic_train_data['Survived'].astype(float), \n",
    "                                                    stratify = titanic_train_data['Survived'].astype(float), random_state = 0,\n",
    "                                                    train_size=0.6)\n"
   ]
  },
  {
   "cell_type": "code",
   "execution_count": 578,
   "metadata": {
    "scrolled": true
   },
   "outputs": [
    {
     "name": "stderr",
     "output_type": "stream",
     "text": [
      "C:\\Users\\A\\Anaconda3\\lib\\site-packages\\ipykernel_launcher.py:3: SettingWithCopyWarning: \n",
      "A value is trying to be set on a copy of a slice from a DataFrame.\n",
      "Try using .loc[row_indexer,col_indexer] = value instead\n",
      "\n",
      "See the caveats in the documentation: https://pandas.pydata.org/pandas-docs/stable/user_guide/indexing.html#returning-a-view-versus-a-copy\n",
      "  This is separate from the ipykernel package so we can avoid doing imports until\n"
     ]
    },
    {
     "data": {
      "text/plain": [
       "Pclass    0\n",
       "sex       0\n",
       "Age       0\n",
       "SibSp     0\n",
       "Parch     0\n",
       "Fare      0\n",
       "Name      0\n",
       "dtype: int64"
      ]
     },
     "execution_count": 578,
     "metadata": {},
     "output_type": "execute_result"
    }
   ],
   "source": [
    "y_target_test = titanic_test_data['Survived'].astype(float)\n",
    "X_target_test = titanic_test_data[['Pclass', 'sex', 'Age', 'SibSp', 'Parch', 'Fare',  'Name']]\n",
    "X_target_test['Fare'] = X_target_test['Fare'].fillna(X_target_test['Fare'].median())\n",
    "X_target_test.isnull().sum()"
   ]
  },
  {
   "cell_type": "code",
   "execution_count": 579,
   "metadata": {},
   "outputs": [
    {
     "data": {
      "text/plain": [
       "array([3, 4, 6, 2, 1, 0, 5, 7], dtype=int64)"
      ]
     },
     "execution_count": 579,
     "metadata": {},
     "output_type": "execute_result"
    }
   ],
   "source": [
    "X_target_test.Age.unique()"
   ]
  },
  {
   "cell_type": "markdown",
   "metadata": {},
   "source": [
    "# SVC"
   ]
  },
  {
   "cell_type": "code",
   "execution_count": 580,
   "metadata": {},
   "outputs": [
    {
     "name": "stdout",
     "output_type": "stream",
     "text": [
      "훈련 세트 정확도 : 0.899\n",
      "테스트 세트 정확도 : 0.773\n"
     ]
    }
   ],
   "source": [
    "from sklearn.svm import SVC\n",
    "svc =SVC()\n",
    "svc.fit(X_train, y_train)\n",
    "print('훈련 세트 정확도 : {:.3f}'.format(svc.score(X_train, y_train)))\n",
    "print('테스트 세트 정확도 : {:.3f}'.format(svc.score(X_test, y_test)))"
   ]
  },
  {
   "cell_type": "code",
   "execution_count": 581,
   "metadata": {},
   "outputs": [
    {
     "name": "stdout",
     "output_type": "stream",
     "text": [
      "특성별 최솟값\n",
      " Pclass    0.0\n",
      "sex       0.0\n",
      "Age       0.0\n",
      "SibSp     0.0\n",
      "Parch     0.0\n",
      "Fare      0.0\n",
      "Name      0.0\n",
      "dtype: float64\n",
      "\n",
      "스케일 전 특성별 최솟값:\n",
      " Pclass    1.0\n",
      "sex       0.0\n",
      "Age       0.0\n",
      "SibSp     0.0\n",
      "Parch     0.0\n",
      "Fare      0.0\n",
      "Name      0.0\n",
      "dtype: float64\n",
      "\n",
      "\n",
      "특성별 최댓값\n",
      " Pclass    1.0\n",
      "sex       1.0\n",
      "Age       1.0\n",
      "SibSp     1.0\n",
      "Parch     1.0\n",
      "Fare      1.0\n",
      "Name      1.0\n",
      "dtype: float64\n",
      "\n",
      "스케일 전 특성별 최댓값:\n",
      " Pclass      3.0000\n",
      "sex         1.0000\n",
      "Age         7.0000\n",
      "SibSp       8.0000\n",
      "Parch       5.0000\n",
      "Fare      512.3292\n",
      "Name        5.0000\n",
      "dtype: float64\n",
      "훈련 세트 정확도 : 0.788\n",
      "테스트 세트 정확도 : 0.784\n"
     ]
    }
   ],
   "source": [
    "#g훈련 세트에서 특성별 최솟값 계산\n",
    "min_on_training = X_train.min(axis =0)\n",
    "\n",
    "#훈련 세트에서 특성별 (최대값 - 최소값) 범위 계산\n",
    "range_on_training = (X_train - min_on_training).max(axis = 0)\n",
    "\n",
    "# 훈련데이터에 최솟값을 빼고 범위로 나누면 \n",
    "# 각 특성에 대해 최솟값은 0 최댓값은 1입니다.\n",
    "X_train_scaled = (X_train - min_on_training) /range_on_training\n",
    "print('특성별 최솟값\\n', X_train_scaled.min(axis = 0))\n",
    "print('\\n스케일 전 특성별 최솟값:\\n', X_train.min(axis = 0))\n",
    "print('\\n\\n특성별 최댓값\\n', X_train_scaled.max(axis = 0))\n",
    "print('\\n스케일 전 특성별 최댓값:\\n', X_train.max(axis = 0))\n",
    "X_test_scled = (X_test - min_on_training) / range_on_training\n",
    "\n",
    "svc = SVC()\n",
    "svc.fit(X_train_scaled, y_train)\n",
    "\n",
    "print('훈련 세트 정확도 : {:.3f}'.format(svc.score(X_train_scaled, y_train)))\n",
    "print('테스트 세트 정확도 : {:.3f}'.format(svc.score(X_test_scled, y_test)))"
   ]
  },
  {
   "cell_type": "markdown",
   "metadata": {},
   "source": [
    "# DecisionTreeClassifier"
   ]
  },
  {
   "cell_type": "code",
   "execution_count": 582,
   "metadata": {},
   "outputs": [
    {
     "data": {
      "application/vnd.jupyter.widget-view+json": {
       "model_id": "2839e0dd7e234cce8a0a379404291df4",
       "version_major": 2,
       "version_minor": 0
      },
      "text/plain": [
       "HBox(children=(IntProgress(value=0, max=99), HTML(value='')))"
      ]
     },
     "metadata": {},
     "output_type": "display_data"
    },
    {
     "name": "stdout",
     "output_type": "stream",
     "text": [
      "\n"
     ]
    },
    {
     "data": {
      "text/html": [
       "<div>\n",
       "<style scoped>\n",
       "    .dataframe tbody tr th:only-of-type {\n",
       "        vertical-align: middle;\n",
       "    }\n",
       "\n",
       "    .dataframe tbody tr th {\n",
       "        vertical-align: top;\n",
       "    }\n",
       "\n",
       "    .dataframe thead th {\n",
       "        text-align: right;\n",
       "    }\n",
       "</style>\n",
       "<table border=\"1\" class=\"dataframe\">\n",
       "  <thead>\n",
       "    <tr style=\"text-align: right;\">\n",
       "      <th></th>\n",
       "      <th>n_estimators</th>\n",
       "      <th>trainScore</th>\n",
       "      <th>TestScore</th>\n",
       "    </tr>\n",
       "  </thead>\n",
       "  <tbody>\n",
       "    <tr>\n",
       "      <th>3</th>\n",
       "      <td>4</td>\n",
       "      <td>0.938202</td>\n",
       "      <td>0.851541</td>\n",
       "    </tr>\n",
       "  </tbody>\n",
       "</table>\n",
       "</div>"
      ],
      "text/plain": [
       "   n_estimators  trainScore  TestScore\n",
       "3             4    0.938202   0.851541"
      ]
     },
     "execution_count": 582,
     "metadata": {},
     "output_type": "execute_result"
    }
   ],
   "source": [
    "from sklearn.tree import DecisionTreeClassifier\n",
    "\n",
    "for i in tqdm_notebook(range(1,100)):\n",
    "    tree_clf = DecisionTreeClassifier(random_state=0, max_depth = i )\n",
    "    tree_clf.fit(X_train, y_train)\n",
    "    estimators.append(i)\n",
    "    trainScore.append(format(tree_clf.score(X_train, y_train)))\n",
    "    TestScore.append(format(tree_clf.score(X_test, y_test)))\n",
    "    \n",
    "all_decision = pd.DataFrame({'n_estimators' : estimators,\n",
    "                          'trainScore' : trainScore,\n",
    "                          'TestScore': TestScore})\n",
    "all_decision['trainScore'] = all_decision['trainScore'].astype(float)\n",
    "all_decision['TestScore'] = all_decision['TestScore'].astype(float)\n",
    "all_decision[all_decision['TestScore'] == all_decision['TestScore'].max()]  "
   ]
  },
  {
   "cell_type": "code",
   "execution_count": 583,
   "metadata": {},
   "outputs": [
    {
     "data": {
      "text/html": [
       "<div>\n",
       "<style scoped>\n",
       "    .dataframe tbody tr th:only-of-type {\n",
       "        vertical-align: middle;\n",
       "    }\n",
       "\n",
       "    .dataframe tbody tr th {\n",
       "        vertical-align: top;\n",
       "    }\n",
       "\n",
       "    .dataframe thead th {\n",
       "        text-align: right;\n",
       "    }\n",
       "</style>\n",
       "<table border=\"1\" class=\"dataframe\">\n",
       "  <thead>\n",
       "    <tr style=\"text-align: right;\">\n",
       "      <th></th>\n",
       "      <th>PassengerId</th>\n",
       "      <th>Survived</th>\n",
       "    </tr>\n",
       "  </thead>\n",
       "  <tbody>\n",
       "    <tr>\n",
       "      <th>0</th>\n",
       "      <td>892</td>\n",
       "      <td>0</td>\n",
       "    </tr>\n",
       "    <tr>\n",
       "      <th>1</th>\n",
       "      <td>893</td>\n",
       "      <td>0</td>\n",
       "    </tr>\n",
       "    <tr>\n",
       "      <th>2</th>\n",
       "      <td>894</td>\n",
       "      <td>1</td>\n",
       "    </tr>\n",
       "    <tr>\n",
       "      <th>3</th>\n",
       "      <td>895</td>\n",
       "      <td>0</td>\n",
       "    </tr>\n",
       "    <tr>\n",
       "      <th>4</th>\n",
       "      <td>896</td>\n",
       "      <td>0</td>\n",
       "    </tr>\n",
       "  </tbody>\n",
       "</table>\n",
       "</div>"
      ],
      "text/plain": [
       "   PassengerId  Survived\n",
       "0          892         0\n",
       "1          893         0\n",
       "2          894         1\n",
       "3          895         0\n",
       "4          896         0"
      ]
     },
     "execution_count": 583,
     "metadata": {},
     "output_type": "execute_result"
    }
   ],
   "source": [
    "tree_clf = DecisionTreeClassifier(max_depth=69, random_state=0)\n",
    "tree_clf.fit(X_train, y_train)\n",
    "result = tree_clf.predict(X_target_test)\n",
    "output = pd.DataFrame({'PassengerId' : titanic_test_data['PassengerId'],\n",
    "                      'Survived' : result})\n",
    "output['Survived'] = output['Survived'].astype(int)\n",
    "output.to_csv('my_submission_decision_tree.csv', index=False)\n",
    "output.head()"
   ]
  },
  {
   "cell_type": "markdown",
   "metadata": {},
   "source": [
    "# 랜덤 포레스트"
   ]
  },
  {
   "cell_type": "code",
   "execution_count": 584,
   "metadata": {},
   "outputs": [
    {
     "data": {
      "application/vnd.jupyter.widget-view+json": {
       "model_id": "ff1a760a9ba44e9381a83fe9bd44c11a",
       "version_major": 2,
       "version_minor": 0
      },
      "text/plain": [
       "HBox(children=(IntProgress(value=0, max=49), HTML(value='')))"
      ]
     },
     "metadata": {},
     "output_type": "display_data"
    },
    {
     "name": "stdout",
     "output_type": "stream",
     "text": [
      "\n"
     ]
    },
    {
     "data": {
      "text/html": [
       "<div>\n",
       "<style scoped>\n",
       "    .dataframe tbody tr th:only-of-type {\n",
       "        vertical-align: middle;\n",
       "    }\n",
       "\n",
       "    .dataframe tbody tr th {\n",
       "        vertical-align: top;\n",
       "    }\n",
       "\n",
       "    .dataframe thead th {\n",
       "        text-align: right;\n",
       "    }\n",
       "</style>\n",
       "<table border=\"1\" class=\"dataframe\">\n",
       "  <thead>\n",
       "    <tr style=\"text-align: right;\">\n",
       "      <th></th>\n",
       "      <th>n_estimators</th>\n",
       "      <th>trainScore</th>\n",
       "      <th>TestScore</th>\n",
       "    </tr>\n",
       "  </thead>\n",
       "  <tbody>\n",
       "    <tr>\n",
       "      <th>0</th>\n",
       "      <td>1</td>\n",
       "      <td>0.949438</td>\n",
       "      <td>0.773109</td>\n",
       "    </tr>\n",
       "    <tr>\n",
       "      <th>1</th>\n",
       "      <td>2</td>\n",
       "      <td>0.949438</td>\n",
       "      <td>0.773109</td>\n",
       "    </tr>\n",
       "    <tr>\n",
       "      <th>2</th>\n",
       "      <td>3</td>\n",
       "      <td>0.949438</td>\n",
       "      <td>0.773109</td>\n",
       "    </tr>\n",
       "    <tr>\n",
       "      <th>3</th>\n",
       "      <td>4</td>\n",
       "      <td>0.949438</td>\n",
       "      <td>0.773109</td>\n",
       "    </tr>\n",
       "    <tr>\n",
       "      <th>4</th>\n",
       "      <td>5</td>\n",
       "      <td>0.949438</td>\n",
       "      <td>0.773109</td>\n",
       "    </tr>\n",
       "    <tr>\n",
       "      <th>5</th>\n",
       "      <td>6</td>\n",
       "      <td>0.949438</td>\n",
       "      <td>0.773109</td>\n",
       "    </tr>\n",
       "    <tr>\n",
       "      <th>6</th>\n",
       "      <td>7</td>\n",
       "      <td>0.949438</td>\n",
       "      <td>0.773109</td>\n",
       "    </tr>\n",
       "    <tr>\n",
       "      <th>7</th>\n",
       "      <td>8</td>\n",
       "      <td>0.949438</td>\n",
       "      <td>0.773109</td>\n",
       "    </tr>\n",
       "    <tr>\n",
       "      <th>8</th>\n",
       "      <td>9</td>\n",
       "      <td>0.949438</td>\n",
       "      <td>0.773109</td>\n",
       "    </tr>\n",
       "    <tr>\n",
       "      <th>9</th>\n",
       "      <td>10</td>\n",
       "      <td>0.949438</td>\n",
       "      <td>0.773109</td>\n",
       "    </tr>\n",
       "    <tr>\n",
       "      <th>10</th>\n",
       "      <td>11</td>\n",
       "      <td>0.949438</td>\n",
       "      <td>0.773109</td>\n",
       "    </tr>\n",
       "    <tr>\n",
       "      <th>11</th>\n",
       "      <td>12</td>\n",
       "      <td>0.949438</td>\n",
       "      <td>0.773109</td>\n",
       "    </tr>\n",
       "    <tr>\n",
       "      <th>12</th>\n",
       "      <td>13</td>\n",
       "      <td>0.949438</td>\n",
       "      <td>0.773109</td>\n",
       "    </tr>\n",
       "    <tr>\n",
       "      <th>13</th>\n",
       "      <td>14</td>\n",
       "      <td>0.949438</td>\n",
       "      <td>0.773109</td>\n",
       "    </tr>\n",
       "    <tr>\n",
       "      <th>14</th>\n",
       "      <td>15</td>\n",
       "      <td>0.949438</td>\n",
       "      <td>0.773109</td>\n",
       "    </tr>\n",
       "    <tr>\n",
       "      <th>15</th>\n",
       "      <td>16</td>\n",
       "      <td>0.949438</td>\n",
       "      <td>0.773109</td>\n",
       "    </tr>\n",
       "    <tr>\n",
       "      <th>16</th>\n",
       "      <td>17</td>\n",
       "      <td>0.949438</td>\n",
       "      <td>0.773109</td>\n",
       "    </tr>\n",
       "    <tr>\n",
       "      <th>17</th>\n",
       "      <td>18</td>\n",
       "      <td>0.949438</td>\n",
       "      <td>0.773109</td>\n",
       "    </tr>\n",
       "    <tr>\n",
       "      <th>18</th>\n",
       "      <td>19</td>\n",
       "      <td>0.949438</td>\n",
       "      <td>0.773109</td>\n",
       "    </tr>\n",
       "    <tr>\n",
       "      <th>19</th>\n",
       "      <td>20</td>\n",
       "      <td>0.949438</td>\n",
       "      <td>0.773109</td>\n",
       "    </tr>\n",
       "    <tr>\n",
       "      <th>20</th>\n",
       "      <td>21</td>\n",
       "      <td>0.949438</td>\n",
       "      <td>0.773109</td>\n",
       "    </tr>\n",
       "    <tr>\n",
       "      <th>21</th>\n",
       "      <td>22</td>\n",
       "      <td>0.949438</td>\n",
       "      <td>0.773109</td>\n",
       "    </tr>\n",
       "    <tr>\n",
       "      <th>22</th>\n",
       "      <td>23</td>\n",
       "      <td>0.949438</td>\n",
       "      <td>0.773109</td>\n",
       "    </tr>\n",
       "    <tr>\n",
       "      <th>23</th>\n",
       "      <td>24</td>\n",
       "      <td>0.949438</td>\n",
       "      <td>0.773109</td>\n",
       "    </tr>\n",
       "    <tr>\n",
       "      <th>24</th>\n",
       "      <td>25</td>\n",
       "      <td>0.949438</td>\n",
       "      <td>0.773109</td>\n",
       "    </tr>\n",
       "    <tr>\n",
       "      <th>25</th>\n",
       "      <td>26</td>\n",
       "      <td>0.949438</td>\n",
       "      <td>0.773109</td>\n",
       "    </tr>\n",
       "    <tr>\n",
       "      <th>26</th>\n",
       "      <td>27</td>\n",
       "      <td>0.949438</td>\n",
       "      <td>0.773109</td>\n",
       "    </tr>\n",
       "    <tr>\n",
       "      <th>27</th>\n",
       "      <td>28</td>\n",
       "      <td>0.949438</td>\n",
       "      <td>0.773109</td>\n",
       "    </tr>\n",
       "    <tr>\n",
       "      <th>28</th>\n",
       "      <td>29</td>\n",
       "      <td>0.949438</td>\n",
       "      <td>0.773109</td>\n",
       "    </tr>\n",
       "    <tr>\n",
       "      <th>29</th>\n",
       "      <td>30</td>\n",
       "      <td>0.949438</td>\n",
       "      <td>0.773109</td>\n",
       "    </tr>\n",
       "    <tr>\n",
       "      <th>30</th>\n",
       "      <td>31</td>\n",
       "      <td>0.949438</td>\n",
       "      <td>0.773109</td>\n",
       "    </tr>\n",
       "    <tr>\n",
       "      <th>31</th>\n",
       "      <td>32</td>\n",
       "      <td>0.949438</td>\n",
       "      <td>0.773109</td>\n",
       "    </tr>\n",
       "    <tr>\n",
       "      <th>32</th>\n",
       "      <td>33</td>\n",
       "      <td>0.949438</td>\n",
       "      <td>0.773109</td>\n",
       "    </tr>\n",
       "    <tr>\n",
       "      <th>33</th>\n",
       "      <td>34</td>\n",
       "      <td>0.949438</td>\n",
       "      <td>0.773109</td>\n",
       "    </tr>\n",
       "    <tr>\n",
       "      <th>34</th>\n",
       "      <td>35</td>\n",
       "      <td>0.949438</td>\n",
       "      <td>0.773109</td>\n",
       "    </tr>\n",
       "    <tr>\n",
       "      <th>35</th>\n",
       "      <td>36</td>\n",
       "      <td>0.949438</td>\n",
       "      <td>0.773109</td>\n",
       "    </tr>\n",
       "    <tr>\n",
       "      <th>36</th>\n",
       "      <td>37</td>\n",
       "      <td>0.949438</td>\n",
       "      <td>0.773109</td>\n",
       "    </tr>\n",
       "    <tr>\n",
       "      <th>37</th>\n",
       "      <td>38</td>\n",
       "      <td>0.949438</td>\n",
       "      <td>0.773109</td>\n",
       "    </tr>\n",
       "    <tr>\n",
       "      <th>38</th>\n",
       "      <td>39</td>\n",
       "      <td>0.949438</td>\n",
       "      <td>0.773109</td>\n",
       "    </tr>\n",
       "    <tr>\n",
       "      <th>39</th>\n",
       "      <td>40</td>\n",
       "      <td>0.949438</td>\n",
       "      <td>0.773109</td>\n",
       "    </tr>\n",
       "    <tr>\n",
       "      <th>40</th>\n",
       "      <td>41</td>\n",
       "      <td>0.949438</td>\n",
       "      <td>0.773109</td>\n",
       "    </tr>\n",
       "    <tr>\n",
       "      <th>41</th>\n",
       "      <td>42</td>\n",
       "      <td>0.949438</td>\n",
       "      <td>0.773109</td>\n",
       "    </tr>\n",
       "    <tr>\n",
       "      <th>42</th>\n",
       "      <td>43</td>\n",
       "      <td>0.949438</td>\n",
       "      <td>0.773109</td>\n",
       "    </tr>\n",
       "    <tr>\n",
       "      <th>43</th>\n",
       "      <td>44</td>\n",
       "      <td>0.949438</td>\n",
       "      <td>0.773109</td>\n",
       "    </tr>\n",
       "    <tr>\n",
       "      <th>44</th>\n",
       "      <td>45</td>\n",
       "      <td>0.949438</td>\n",
       "      <td>0.773109</td>\n",
       "    </tr>\n",
       "    <tr>\n",
       "      <th>45</th>\n",
       "      <td>46</td>\n",
       "      <td>0.949438</td>\n",
       "      <td>0.773109</td>\n",
       "    </tr>\n",
       "    <tr>\n",
       "      <th>46</th>\n",
       "      <td>47</td>\n",
       "      <td>0.949438</td>\n",
       "      <td>0.773109</td>\n",
       "    </tr>\n",
       "    <tr>\n",
       "      <th>47</th>\n",
       "      <td>48</td>\n",
       "      <td>0.949438</td>\n",
       "      <td>0.773109</td>\n",
       "    </tr>\n",
       "    <tr>\n",
       "      <th>48</th>\n",
       "      <td>49</td>\n",
       "      <td>0.949438</td>\n",
       "      <td>0.773109</td>\n",
       "    </tr>\n",
       "  </tbody>\n",
       "</table>\n",
       "</div>"
      ],
      "text/plain": [
       "    n_estimators  trainScore  TestScore\n",
       "0              1    0.949438   0.773109\n",
       "1              2    0.949438   0.773109\n",
       "2              3    0.949438   0.773109\n",
       "3              4    0.949438   0.773109\n",
       "4              5    0.949438   0.773109\n",
       "5              6    0.949438   0.773109\n",
       "6              7    0.949438   0.773109\n",
       "7              8    0.949438   0.773109\n",
       "8              9    0.949438   0.773109\n",
       "9             10    0.949438   0.773109\n",
       "10            11    0.949438   0.773109\n",
       "11            12    0.949438   0.773109\n",
       "12            13    0.949438   0.773109\n",
       "13            14    0.949438   0.773109\n",
       "14            15    0.949438   0.773109\n",
       "15            16    0.949438   0.773109\n",
       "16            17    0.949438   0.773109\n",
       "17            18    0.949438   0.773109\n",
       "18            19    0.949438   0.773109\n",
       "19            20    0.949438   0.773109\n",
       "20            21    0.949438   0.773109\n",
       "21            22    0.949438   0.773109\n",
       "22            23    0.949438   0.773109\n",
       "23            24    0.949438   0.773109\n",
       "24            25    0.949438   0.773109\n",
       "25            26    0.949438   0.773109\n",
       "26            27    0.949438   0.773109\n",
       "27            28    0.949438   0.773109\n",
       "28            29    0.949438   0.773109\n",
       "29            30    0.949438   0.773109\n",
       "30            31    0.949438   0.773109\n",
       "31            32    0.949438   0.773109\n",
       "32            33    0.949438   0.773109\n",
       "33            34    0.949438   0.773109\n",
       "34            35    0.949438   0.773109\n",
       "35            36    0.949438   0.773109\n",
       "36            37    0.949438   0.773109\n",
       "37            38    0.949438   0.773109\n",
       "38            39    0.949438   0.773109\n",
       "39            40    0.949438   0.773109\n",
       "40            41    0.949438   0.773109\n",
       "41            42    0.949438   0.773109\n",
       "42            43    0.949438   0.773109\n",
       "43            44    0.949438   0.773109\n",
       "44            45    0.949438   0.773109\n",
       "45            46    0.949438   0.773109\n",
       "46            47    0.949438   0.773109\n",
       "47            48    0.949438   0.773109\n",
       "48            49    0.949438   0.773109"
      ]
     },
     "execution_count": 584,
     "metadata": {},
     "output_type": "execute_result"
    }
   ],
   "source": [
    "estimators = []\n",
    "trainScore =[]\n",
    "TestScore = []\n",
    "from sklearn.ensemble import RandomForestClassifier\n",
    "from tqdm import tqdm_notebook\n",
    "for i in tqdm_notebook(range(1,50)):\n",
    "    forest = RandomForestClassifier(n_estimators = i, random_state = 0, max_depth = 14)\n",
    "    forest.fit(X_train, y_train)\n",
    "    estimators.append(i)\n",
    "    trainScore.append(format(forest.score(X_train, y_train)))\n",
    "    TestScore.append(format(forest.score(X_test, y_test)))\n",
    "    \n",
    "all_forest = pd.DataFrame({'n_estimators' : estimators,\n",
    "                          'trainScore' : trainScore,\n",
    "                          'TestScore': TestScore})\n",
    "all_forest['trainScore'] = all_forest['trainScore'].astype(float)\n",
    "all_forest['TestScore'] = all_forest['TestScore'].astype(float)\n",
    "all_forest[all_forest['TestScore'] == all_forest['TestScore'].max()]            "
   ]
  },
  {
   "cell_type": "code",
   "execution_count": 585,
   "metadata": {},
   "outputs": [
    {
     "data": {
      "text/html": [
       "<div>\n",
       "<style scoped>\n",
       "    .dataframe tbody tr th:only-of-type {\n",
       "        vertical-align: middle;\n",
       "    }\n",
       "\n",
       "    .dataframe tbody tr th {\n",
       "        vertical-align: top;\n",
       "    }\n",
       "\n",
       "    .dataframe thead th {\n",
       "        text-align: right;\n",
       "    }\n",
       "</style>\n",
       "<table border=\"1\" class=\"dataframe\">\n",
       "  <thead>\n",
       "    <tr style=\"text-align: right;\">\n",
       "      <th></th>\n",
       "      <th>PassengerId</th>\n",
       "      <th>Survived</th>\n",
       "    </tr>\n",
       "  </thead>\n",
       "  <tbody>\n",
       "    <tr>\n",
       "      <th>0</th>\n",
       "      <td>892</td>\n",
       "      <td>0</td>\n",
       "    </tr>\n",
       "    <tr>\n",
       "      <th>1</th>\n",
       "      <td>893</td>\n",
       "      <td>0</td>\n",
       "    </tr>\n",
       "    <tr>\n",
       "      <th>2</th>\n",
       "      <td>894</td>\n",
       "      <td>1</td>\n",
       "    </tr>\n",
       "    <tr>\n",
       "      <th>3</th>\n",
       "      <td>895</td>\n",
       "      <td>0</td>\n",
       "    </tr>\n",
       "    <tr>\n",
       "      <th>4</th>\n",
       "      <td>896</td>\n",
       "      <td>0</td>\n",
       "    </tr>\n",
       "    <tr>\n",
       "      <th>...</th>\n",
       "      <td>...</td>\n",
       "      <td>...</td>\n",
       "    </tr>\n",
       "    <tr>\n",
       "      <th>413</th>\n",
       "      <td>1305</td>\n",
       "      <td>0</td>\n",
       "    </tr>\n",
       "    <tr>\n",
       "      <th>414</th>\n",
       "      <td>1306</td>\n",
       "      <td>1</td>\n",
       "    </tr>\n",
       "    <tr>\n",
       "      <th>415</th>\n",
       "      <td>1307</td>\n",
       "      <td>0</td>\n",
       "    </tr>\n",
       "    <tr>\n",
       "      <th>416</th>\n",
       "      <td>1308</td>\n",
       "      <td>0</td>\n",
       "    </tr>\n",
       "    <tr>\n",
       "      <th>417</th>\n",
       "      <td>1309</td>\n",
       "      <td>1</td>\n",
       "    </tr>\n",
       "  </tbody>\n",
       "</table>\n",
       "<p>418 rows × 2 columns</p>\n",
       "</div>"
      ],
      "text/plain": [
       "     PassengerId  Survived\n",
       "0            892         0\n",
       "1            893         0\n",
       "2            894         1\n",
       "3            895         0\n",
       "4            896         0\n",
       "..           ...       ...\n",
       "413         1305         0\n",
       "414         1306         1\n",
       "415         1307         0\n",
       "416         1308         0\n",
       "417         1309         1\n",
       "\n",
       "[418 rows x 2 columns]"
      ]
     },
     "execution_count": 585,
     "metadata": {},
     "output_type": "execute_result"
    }
   ],
   "source": [
    "forest = RandomForestClassifier(n_estimators = 8, random_state = 0, max_depth = 14)\n",
    "forest.fit(X_train, y_train)\n",
    "result = forest.predict(X_target_test)\n",
    "output = pd.DataFrame({'PassengerId' : titanic_test_data['PassengerId'],\n",
    "                      'Survived' : result})\n",
    "output['Survived'] = output['Survived'].astype(int)\n",
    "output.to_csv('my_submission_RandomForestClassifier.csv', index=False)\n",
    "output"
   ]
  },
  {
   "cell_type": "markdown",
   "metadata": {},
   "source": [
    "# 그레이디언트 부스트 회귀 트리"
   ]
  },
  {
   "cell_type": "code",
   "execution_count": 586,
   "metadata": {},
   "outputs": [
    {
     "data": {
      "application/vnd.jupyter.widget-view+json": {
       "model_id": "86477493b8e34ecea148e6efe3dfbe2e",
       "version_major": 2,
       "version_minor": 0
      },
      "text/plain": [
       "HBox(children=(IntProgress(value=0, max=99), HTML(value='')))"
      ]
     },
     "metadata": {},
     "output_type": "display_data"
    },
    {
     "name": "stdout",
     "output_type": "stream",
     "text": [
      "\n"
     ]
    },
    {
     "data": {
      "text/html": [
       "<div>\n",
       "<style scoped>\n",
       "    .dataframe tbody tr th:only-of-type {\n",
       "        vertical-align: middle;\n",
       "    }\n",
       "\n",
       "    .dataframe tbody tr th {\n",
       "        vertical-align: top;\n",
       "    }\n",
       "\n",
       "    .dataframe thead th {\n",
       "        text-align: right;\n",
       "    }\n",
       "</style>\n",
       "<table border=\"1\" class=\"dataframe\">\n",
       "  <thead>\n",
       "    <tr style=\"text-align: right;\">\n",
       "      <th></th>\n",
       "      <th>n_estimators</th>\n",
       "      <th>trainScore</th>\n",
       "      <th>TestScore</th>\n",
       "    </tr>\n",
       "  </thead>\n",
       "  <tbody>\n",
       "    <tr>\n",
       "      <th>3</th>\n",
       "      <td>4</td>\n",
       "      <td>0.938202</td>\n",
       "      <td>0.851541</td>\n",
       "    </tr>\n",
       "  </tbody>\n",
       "</table>\n",
       "</div>"
      ],
      "text/plain": [
       "   n_estimators  trainScore  TestScore\n",
       "3             4    0.938202   0.851541"
      ]
     },
     "execution_count": 586,
     "metadata": {},
     "output_type": "execute_result"
    }
   ],
   "source": [
    "estimators = []\n",
    "trainScore =[]\n",
    "TestScore = []\n",
    "from tqdm import tqdm_notebook\n",
    "from sklearn.ensemble import GradientBoostingClassifier\n",
    "for i in tqdm_notebook(range(1,100)):\n",
    "    gbrt = GradientBoostingClassifier(n_estimators= 78, random_state= 0, max_depth=i)\n",
    "    gbrt.fit(X_train, y_train)\n",
    "    estimators.append(i)\n",
    "    trainScore.append(format(gbrt.score(X_train, y_train)))\n",
    "    TestScore.append(format(gbrt.score(X_test, y_test)))\n",
    "all_Gradient = pd.DataFrame({'n_estimators' : estimators,\n",
    "                          'trainScore' : trainScore,\n",
    "                          'TestScore': TestScore})\n",
    "all_Gradient['trainScore'] = all_Gradient['trainScore'].astype(float)\n",
    "all_Gradient['TestScore'] = all_Gradient['TestScore'].astype(float)\n",
    "all_Gradient[all_Gradient['TestScore'] == all_Gradient['TestScore'].max()]"
   ]
  },
  {
   "cell_type": "code",
   "execution_count": 587,
   "metadata": {},
   "outputs": [
    {
     "data": {
      "text/html": [
       "<div>\n",
       "<style scoped>\n",
       "    .dataframe tbody tr th:only-of-type {\n",
       "        vertical-align: middle;\n",
       "    }\n",
       "\n",
       "    .dataframe tbody tr th {\n",
       "        vertical-align: top;\n",
       "    }\n",
       "\n",
       "    .dataframe thead th {\n",
       "        text-align: right;\n",
       "    }\n",
       "</style>\n",
       "<table border=\"1\" class=\"dataframe\">\n",
       "  <thead>\n",
       "    <tr style=\"text-align: right;\">\n",
       "      <th></th>\n",
       "      <th>PassengerId</th>\n",
       "      <th>Survived</th>\n",
       "    </tr>\n",
       "  </thead>\n",
       "  <tbody>\n",
       "    <tr>\n",
       "      <th>0</th>\n",
       "      <td>892</td>\n",
       "      <td>0</td>\n",
       "    </tr>\n",
       "    <tr>\n",
       "      <th>1</th>\n",
       "      <td>893</td>\n",
       "      <td>0</td>\n",
       "    </tr>\n",
       "    <tr>\n",
       "      <th>2</th>\n",
       "      <td>894</td>\n",
       "      <td>0</td>\n",
       "    </tr>\n",
       "    <tr>\n",
       "      <th>3</th>\n",
       "      <td>895</td>\n",
       "      <td>0</td>\n",
       "    </tr>\n",
       "    <tr>\n",
       "      <th>4</th>\n",
       "      <td>896</td>\n",
       "      <td>1</td>\n",
       "    </tr>\n",
       "  </tbody>\n",
       "</table>\n",
       "</div>"
      ],
      "text/plain": [
       "   PassengerId  Survived\n",
       "0          892         0\n",
       "1          893         0\n",
       "2          894         0\n",
       "3          895         0\n",
       "4          896         1"
      ]
     },
     "execution_count": 587,
     "metadata": {},
     "output_type": "execute_result"
    }
   ],
   "source": [
    "gbrt = GradientBoostingClassifier(n_estimators= 78, random_state= 0, max_depth=4)\n",
    "gbrt.fit(X_train, y_train)\n",
    "result = gbrt.predict(X_target_test)\n",
    "output = pd.DataFrame({'PassengerId' : titanic_test_data['PassengerId'],\n",
    "                      'Survived' : result})\n",
    "output['Survived'] = output['Survived'].astype(int)\n",
    "output.to_csv('my_submission_Gradient.csv', index=False)\n",
    "output.head()"
   ]
  },
  {
   "cell_type": "markdown",
   "metadata": {},
   "source": [
    "# 배깅"
   ]
  },
  {
   "cell_type": "code",
   "execution_count": 588,
   "metadata": {
    "scrolled": true
   },
   "outputs": [
    {
     "data": {
      "application/vnd.jupyter.widget-view+json": {
       "model_id": "d458efbf90d14d65816befab499ec893",
       "version_major": 2,
       "version_minor": 0
      },
      "text/plain": [
       "HBox(children=(IntProgress(value=0, max=99), HTML(value='')))"
      ]
     },
     "metadata": {},
     "output_type": "display_data"
    },
    {
     "name": "stdout",
     "output_type": "stream",
     "text": [
      "\n"
     ]
    },
    {
     "data": {
      "text/html": [
       "<div>\n",
       "<style scoped>\n",
       "    .dataframe tbody tr th:only-of-type {\n",
       "        vertical-align: middle;\n",
       "    }\n",
       "\n",
       "    .dataframe tbody tr th {\n",
       "        vertical-align: top;\n",
       "    }\n",
       "\n",
       "    .dataframe thead th {\n",
       "        text-align: right;\n",
       "    }\n",
       "</style>\n",
       "<table border=\"1\" class=\"dataframe\">\n",
       "  <thead>\n",
       "    <tr style=\"text-align: right;\">\n",
       "      <th></th>\n",
       "      <th>Max_depth</th>\n",
       "      <th>trainScore</th>\n",
       "      <th>TestScore</th>\n",
       "    </tr>\n",
       "  </thead>\n",
       "  <tbody>\n",
       "    <tr>\n",
       "      <th>89</th>\n",
       "      <td>90</td>\n",
       "      <td>0.970037</td>\n",
       "      <td>0.815126</td>\n",
       "    </tr>\n",
       "    <tr>\n",
       "      <th>92</th>\n",
       "      <td>93</td>\n",
       "      <td>0.970037</td>\n",
       "      <td>0.815126</td>\n",
       "    </tr>\n",
       "    <tr>\n",
       "      <th>95</th>\n",
       "      <td>96</td>\n",
       "      <td>0.970037</td>\n",
       "      <td>0.815126</td>\n",
       "    </tr>\n",
       "    <tr>\n",
       "      <th>98</th>\n",
       "      <td>99</td>\n",
       "      <td>0.970037</td>\n",
       "      <td>0.815126</td>\n",
       "    </tr>\n",
       "  </tbody>\n",
       "</table>\n",
       "</div>"
      ],
      "text/plain": [
       "    Max_depth  trainScore  TestScore\n",
       "89         90    0.970037   0.815126\n",
       "92         93    0.970037   0.815126\n",
       "95         96    0.970037   0.815126\n",
       "98         99    0.970037   0.815126"
      ]
     },
     "execution_count": 588,
     "metadata": {},
     "output_type": "execute_result"
    }
   ],
   "source": [
    "estimators = []\n",
    "trainScore =[]\n",
    "TestScore = []\n",
    "from tqdm import tqdm_notebook\n",
    "from sklearn.ensemble import BaggingClassifier\n",
    "for i in tqdm_notebook(range(1,100)):\n",
    "    bagg = BaggingClassifier( DecisionTreeClassifier(),n_estimators= i, random_state = 0)\n",
    "    bagg.fit(X_train, y_train)\n",
    "    estimators.append(i)\n",
    "    trainScore.append(format(bagg.score(X_train, y_train)))\n",
    "    TestScore.append(format(bagg.score(X_test, y_test)))\n",
    "    \n",
    "all_bagg = pd.DataFrame({'Max_depth' : estimators,\n",
    "                          'trainScore' : trainScore,\n",
    "                          'TestScore': TestScore})\n",
    "all_bagg['trainScore'] = all_bagg['trainScore'].astype(float)\n",
    "all_bagg['TestScore'] = all_bagg['TestScore'].astype(float)\n",
    "all_bagg[all_bagg['TestScore'] == all_bagg['TestScore'].max()]\n",
    "    \n"
   ]
  },
  {
   "cell_type": "code",
   "execution_count": 590,
   "metadata": {},
   "outputs": [
    {
     "name": "stdout",
     "output_type": "stream",
     "text": [
      "SVC 훈련점수 : 0.90\n",
      "SVC 테스트점수 : 0.77\n"
     ]
    },
    {
     "data": {
      "text/html": [
       "<div>\n",
       "<style scoped>\n",
       "    .dataframe tbody tr th:only-of-type {\n",
       "        vertical-align: middle;\n",
       "    }\n",
       "\n",
       "    .dataframe tbody tr th {\n",
       "        vertical-align: top;\n",
       "    }\n",
       "\n",
       "    .dataframe thead th {\n",
       "        text-align: right;\n",
       "    }\n",
       "</style>\n",
       "<table border=\"1\" class=\"dataframe\">\n",
       "  <thead>\n",
       "    <tr style=\"text-align: right;\">\n",
       "      <th></th>\n",
       "      <th>PassengerId</th>\n",
       "      <th>Survived</th>\n",
       "    </tr>\n",
       "  </thead>\n",
       "  <tbody>\n",
       "    <tr>\n",
       "      <th>0</th>\n",
       "      <td>892</td>\n",
       "      <td>0</td>\n",
       "    </tr>\n",
       "    <tr>\n",
       "      <th>1</th>\n",
       "      <td>893</td>\n",
       "      <td>0</td>\n",
       "    </tr>\n",
       "    <tr>\n",
       "      <th>2</th>\n",
       "      <td>894</td>\n",
       "      <td>0</td>\n",
       "    </tr>\n",
       "    <tr>\n",
       "      <th>3</th>\n",
       "      <td>895</td>\n",
       "      <td>0</td>\n",
       "    </tr>\n",
       "    <tr>\n",
       "      <th>4</th>\n",
       "      <td>896</td>\n",
       "      <td>1</td>\n",
       "    </tr>\n",
       "  </tbody>\n",
       "</table>\n",
       "</div>"
      ],
      "text/plain": [
       "   PassengerId  Survived\n",
       "0          892         0\n",
       "1          893         0\n",
       "2          894         0\n",
       "3          895         0\n",
       "4          896         1"
      ]
     },
     "execution_count": 590,
     "metadata": {},
     "output_type": "execute_result"
    }
   ],
   "source": [
    "from sklearn.svm import SVC\n",
    " \n",
    "clf = SVC()\n",
    "\n",
    "clf.fit(X_train, y_train)\n",
    "\n",
    "print(\"SVC 훈련점수 : {:.2f}\".format(clf.score(X_train, y_train)))\n",
    "print(\"SVC 테스트점수 : {:.2f}\".format(clf.score(X_test, y_test)))\n",
    "\n",
    "result = clf.predict(X_target_test)\n",
    "output = pd.DataFrame({'PassengerId' : titanic_test_data['PassengerId'],\n",
    "                      'Survived' : result})\n",
    "output['Survived'] = output['Survived'].astype(int)\n",
    "output.to_csv('my_submission_SVC.csv', index=False)\n",
    "output.head()\n",
    "\n"
   ]
  }
 ],
 "metadata": {
  "kernelspec": {
   "display_name": "Python 3",
   "language": "python",
   "name": "python3"
  },
  "language_info": {
   "codemirror_mode": {
    "name": "ipython",
    "version": 3
   },
   "file_extension": ".py",
   "mimetype": "text/x-python",
   "name": "python",
   "nbconvert_exporter": "python",
   "pygments_lexer": "ipython3",
   "version": "3.7.0"
  }
 },
 "nbformat": 4,
 "nbformat_minor": 2
}
