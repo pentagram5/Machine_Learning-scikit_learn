{
 "cells": [
  {
   "cell_type": "markdown",
   "metadata": {},
   "source": [
    "* 이챕터에선 지도학습인 회귀와 분류에 집중할것으로, 모델 평가와 매개변수 선택에 대해 더 자세히 배워본다.\n",
    "* 모델이 훈련셋에 잘 맞는것 보다, 학습과정에 없던 데이터에 대해 예측을 얼마나 잘하냐가 중요하기 때문에,\n",
    "* 두가지 관점에서 평과 방법을 확장한다 1. 일반화 성능 측정 방식인 교차검증 2. score 메서드가 제공하는 정확도와 R^2 값 이외에 분류와 회귀성능 측정"
   ]
  },
  {
   "cell_type": "markdown",
   "metadata": {},
   "source": [
    "# 5.1 교차 검증\n",
    "* 일반화 성능을 재기위해, 데이터를 여러번 반복해서 나누고 여러모델을 학습하여 검증하는 방법 - k-겹 교차 검증\n",
    "* 폴드라는 크기가 비슷한 부분 집합으로 나누고, 그중 테스트셋을 바꿔가며 학습하는 방법. \n",
    "* 만약 5개의 폴드가 생기면, 각 다섯개의 정확도 값을 얻게 되는것이다."
   ]
  },
  {
   "cell_type": "code",
   "execution_count": 57,
   "metadata": {},
   "outputs": [
    {
     "data": {
      "image/png": "[encoded data removed]",
      "text/plain": [
       "<Figure size 864x144 with 1 Axes>"
      ]
     },
     "metadata": {
      "needs_background": "light"
     },
     "output_type": "display_data"
    }
   ],
   "source": [
    "from matplotlib import font_manager, rc\n",
    "font_name=font_manager.FontProperties(fname=\"c:/Windows/Fonts/malgun.ttf\").get_name()\n",
    "rc(\"font\",family=font_name)\n",
    "import mglearn\n",
    "from sklearn.ensemble import RandomForestClassifier\n",
    "from sklearn.datasets import make_moons\n",
    "import warnings\n",
    "warnings.filterwarnings(action = 'ignore')\n",
    "import mglearn\n",
    "mglearn.plots.plot_cross_validation()"
   ]
  },
  {
   "cell_type": "markdown",
   "metadata": {},
   "source": [
    "### 5.1.1. scikit_learn의 교차 검증\n",
    "* scikit_learn에서 교차검증은 cross_val_score 함수로 구현된다. iris 데어테셋에 적용한 Logistic Regression 평가 해보기 "
   ]
  },
  {
   "cell_type": "code",
   "execution_count": 58,
   "metadata": {},
   "outputs": [
    {
     "name": "stdout",
     "output_type": "stream",
     "text": [
      "교차 검증 점수 : [0.96078431 0.92156863 0.95833333]\n"
     ]
    }
   ],
   "source": [
    "from sklearn.model_selection import cross_val_score\n",
    "from sklearn.datasets import load_iris\n",
    "from sklearn.linear_model import LogisticRegression\n",
    "\n",
    "iris = load_iris()\n",
    "logreg = LogisticRegression()\n",
    "scores = cross_val_score(logreg, iris.data, iris.target)\n",
    "print('교차 검증 점수 :', scores)"
   ]
  },
  {
   "cell_type": "markdown",
   "metadata": {},
   "source": [
    "* 여기선 cross_val_score가 3-겹 교차 검증을 하였다 -기본값. 폴드의 수는 cv 매개변수로 변경한다."
   ]
  },
  {
   "cell_type": "code",
   "execution_count": 59,
   "metadata": {},
   "outputs": [
    {
     "name": "stdout",
     "output_type": "stream",
     "text": [
      "교차 검증 점수 : [1.         0.96666667 0.93333333 0.9        1.        ]\n",
      "교차 검증 평균 점수 :0.96\n"
     ]
    }
   ],
   "source": [
    "scores = cross_val_score(logreg, iris.data, iris.target, cv = 5)\n",
    "print('교차 검증 점수 :', scores)\n",
    "\n",
    "print('교차 검증 평균 점수 :{:.2f}'.format(scores.mean()))"
   ]
  },
  {
   "cell_type": "markdown",
   "metadata": {},
   "source": [
    "* 최소 5겹은 사용하는것이 좋으며, 교차검증의 정확도는 평균을 사용해 나타낼수 있다. \n",
    "* 폴드에 따라 비교적 스코어에 대한 차이가 큰데, 모델에 사용된 폴드에 매우 의존적이거나 데이터셋이 작기 떄문.\n",
    "* 교차검증에 cross_validate 함수를 사용해 분할마다 훈련과 테스트에 걸린 시간을 담는 딕셔너리를 반환해준다. "
   ]
  },
  {
   "cell_type": "code",
   "execution_count": 60,
   "metadata": {},
   "outputs": [
    {
     "data": {
      "text/plain": [
       "{'fit_time': array([0.00099969, 0.00099945, 0.00099921, 0.00099897, 0.        ]),\n",
       " 'score_time': array([0., 0., 0., 0., 0.]),\n",
       " 'test_score': array([1.        , 0.96666667, 0.93333333, 0.9       , 1.        ]),\n",
       " 'train_score': array([0.95      , 0.96666667, 0.96666667, 0.975     , 0.95833333])}"
      ]
     },
     "metadata": {},
     "output_type": "display_data"
    }
   ],
   "source": [
    "from sklearn.model_selection import cross_validate\n",
    "res=cross_validate(logreg,iris.data,iris.target,cv=5,return_train_score=True)\n",
    "display(res)"
   ]
  },
  {
   "cell_type": "code",
   "execution_count": 61,
   "metadata": {},
   "outputs": [
    {
     "data": {
      "text/html": [
       "<div>\n",
       "<style scoped>\n",
       "    .dataframe tbody tr th:only-of-type {\n",
       "        vertical-align: middle;\n",
       "    }\n",
       "\n",
       "    .dataframe tbody tr th {\n",
       "        vertical-align: top;\n",
       "    }\n",
       "\n",
       "    .dataframe thead th {\n",
       "        text-align: right;\n",
       "    }\n",
       "</style>\n",
       "<table border=\"1\" class=\"dataframe\">\n",
       "  <thead>\n",
       "    <tr style=\"text-align: right;\">\n",
       "      <th></th>\n",
       "      <th>fit_time</th>\n",
       "      <th>score_time</th>\n",
       "      <th>test_score</th>\n",
       "      <th>train_score</th>\n",
       "    </tr>\n",
       "  </thead>\n",
       "  <tbody>\n",
       "    <tr>\n",
       "      <th>0</th>\n",
       "      <td>0.001000</td>\n",
       "      <td>0.0</td>\n",
       "      <td>1.000000</td>\n",
       "      <td>0.950000</td>\n",
       "    </tr>\n",
       "    <tr>\n",
       "      <th>1</th>\n",
       "      <td>0.000999</td>\n",
       "      <td>0.0</td>\n",
       "      <td>0.966667</td>\n",
       "      <td>0.966667</td>\n",
       "    </tr>\n",
       "    <tr>\n",
       "      <th>2</th>\n",
       "      <td>0.000999</td>\n",
       "      <td>0.0</td>\n",
       "      <td>0.933333</td>\n",
       "      <td>0.966667</td>\n",
       "    </tr>\n",
       "    <tr>\n",
       "      <th>3</th>\n",
       "      <td>0.000999</td>\n",
       "      <td>0.0</td>\n",
       "      <td>0.900000</td>\n",
       "      <td>0.975000</td>\n",
       "    </tr>\n",
       "    <tr>\n",
       "      <th>4</th>\n",
       "      <td>0.000000</td>\n",
       "      <td>0.0</td>\n",
       "      <td>1.000000</td>\n",
       "      <td>0.958333</td>\n",
       "    </tr>\n",
       "  </tbody>\n",
       "</table>\n",
       "</div>"
      ],
      "text/plain": [
       "   fit_time  score_time  test_score  train_score\n",
       "0  0.001000         0.0    1.000000     0.950000\n",
       "1  0.000999         0.0    0.966667     0.966667\n",
       "2  0.000999         0.0    0.933333     0.966667\n",
       "3  0.000999         0.0    0.900000     0.975000\n",
       "4  0.000000         0.0    1.000000     0.958333"
      ]
     },
     "metadata": {},
     "output_type": "display_data"
    },
    {
     "name": "stdout",
     "output_type": "stream",
     "text": [
      "평균 시간과 점수 :\n",
      " fit_time       0.000799\n",
      "score_time     0.000000\n",
      "test_score     0.960000\n",
      "train_score    0.963333\n",
      "dtype: float64\n"
     ]
    }
   ],
   "source": [
    "import pandas as pd \n",
    "res_df = pd.DataFrame(res)\n",
    "display(res_df)\n",
    "print('평균 시간과 점수 :\\n', res_df.mean())"
   ]
  },
  {
   "cell_type": "markdown",
   "metadata": {},
   "source": [
    "< 교차 검증의 장점 >\n",
    "\n",
    "데이터를 훈련 세트와 테스트 세트로 한 번 나누는 것보다 교차 검증을 사용하면 몇 가지 장점이있다.\n",
    "\n",
    "먼저 train_test_split는 데이터를 무작위로 나눈다.\n",
    "데이터를 무작위로 나눌 떄 운좋게 훈련 세트에는 분류하기 어려운 샘플만 담기게 되었다고 생각해보자.\n",
    "\n",
    "이 경우 테스트 세트에는 분류하기 쉬운 샘플만 들어 있어서 테스트 세트의 정확도는 비현실적으로 높게 나올 수 있다.\n",
    "\n",
    "교차 검증을 사용하면 테스트 세트에 각 샘플이 정확하게 한 번씩 들어간다.\n",
    "각 샘플은 폴드 중 하나에 속하며, 각 폴드는 한 번씩 테스트 세트가 된다.\n",
    "그러기 때문에 모든 샘플에 대해 모델이 잘 일반화 된다.\n",
    "\n",
    "train_test_split를 사용하면 보통 데이터 중 75%를 훈련세트로 사용하고 25%를 평가에 사용하낟.\n",
    "5-겹 교차 검증을 사용하면 매 반복에서 80%의 데이터를 모델 학습에 사용한다.\n",
    "이는 보통 더 정확한 모델을 만들어 낸다.\n",
    "\n",
    "교차 검증의 주요 단점은 연산 비용이 늘어난다.\n",
    "모델을 k개 만들어야 하므로 데이터를 한 번 나눴을 때 보다 대략 k배 더 느리다."
   ]
  },
  {
   "cell_type": "markdown",
   "metadata": {},
   "source": [
    "### 5.1.3  계층별 k-겹 교차검증\n",
    "* iris 데이터 셋의 경우, target의 그룹이 폴드로 나눠진다할때 각 폴드에 0,1,2 만 속해 있는 경우가 발생하게 된다. 이러한 경우에는 단순한 k-겹 교차검증에 문제가 있기 때문에,이런 경우 계층별 k-겹 교차검증을 사용해야 한다. "
   ]
  },
  {
   "cell_type": "code",
   "execution_count": 62,
   "metadata": {},
   "outputs": [
    {
     "data": {
      "image/png": "[encoded data removed]",
      "text/plain": [
       "<Figure size 864x360 with 2 Axes>"
      ]
     },
     "metadata": {
      "needs_background": "light"
     },
     "output_type": "display_data"
    }
   ],
   "source": [
    "mglearn.plots.plot_stratified_cross_validation()"
   ]
  },
  {
   "cell_type": "markdown",
   "metadata": {},
   "source": [
    "* 대부분의 경우 회귀에서는 k-겹, 분류에서는 계층별 k-겹 교차검증이 잘작동하나. \n",
    "* 분류기의 일반화 성능을 측정할 때 k-겹 교차 검증보다 더 안정적인 계층별 k-겹 교차 검증을 사용하는 것이 좋다."
   ]
  },
  {
   "cell_type": "markdown",
   "metadata": {},
   "source": [
    "### 교차 검증 상세 옵션 "
   ]
  },
  {
   "cell_type": "code",
   "execution_count": 63,
   "metadata": {},
   "outputs": [
    {
     "name": "stdout",
     "output_type": "stream",
     "text": [
      "n_splits=3, cross validation score: [0. 0. 0.]\n",
      "n_splits=5, cross validation score: [1.         0.93333333 0.43333333 0.96666667 0.43333333]\n"
     ]
    }
   ],
   "source": [
    "from sklearn.model_selection import KFold\n",
    "\n",
    "kfold = KFold(n_splits=5) # KFold 객체 생성\n",
    "logreg = LogisticRegression() # 모델 객체 생성\n",
    "\n",
    "for n in [3, 5]:\n",
    "    kfold = KFold(n_splits=n)\n",
    "    scores = cross_val_score(logreg, iris.data, iris.target, cv=kfold)\n",
    "    print('n_splits={}, cross validation score: {}'.format(n, scores))"
   ]
  },
  {
   "cell_type": "markdown",
   "metadata": {},
   "source": [
    "* 다음과 같이, 폴드갯수를 지정하는 kFold객체를 생성하여 원하는 폴드의 갯수를 넘겨 줄 수 있다. 하지만 iris데이터셋의 target이 0,1,2 세개의 클래스를 지니고있어, 폴드수가 3개인경우 전혀 검증이 안된다. "
   ]
  },
  {
   "cell_type": "code",
   "execution_count": 64,
   "metadata": {},
   "outputs": [
    {
     "name": "stdout",
     "output_type": "stream",
     "text": [
      "n_splits=3, cross validation score: [0.9  0.96 0.96]\n",
      "n_splits=5, cross validation score: [0.96666667 0.9        0.96666667 0.96666667 0.93333333]\n"
     ]
    }
   ],
   "source": [
    "for n in [3, 5]:\n",
    "    kfold = KFold(n_splits=n, shuffle=True, random_state=0)\n",
    "    scores = cross_val_score(logreg, iris.data, iris.target, cv=kfold)\n",
    "    print('n_splits={}, cross validation score: {}'.format(n, scores))"
   ]
  },
  {
   "cell_type": "markdown",
   "metadata": {},
   "source": [
    "* 따라서 shuffle 옵션에 True를 넣어주어 데이터를 섞어서 샘플의 순서를 뒤죽박죽으로 만들어준다. 데이터를 분할하기 전에 섞어주면 결과가 더 좋게 나올 수 있다. "
   ]
  },
  {
   "cell_type": "markdown",
   "metadata": {},
   "source": [
    "### LOOCV\n",
    "* 폴드하나에 샘플 하나만 들어 있는 k-겹 교차검증으로 생각할 수 있는 검증방법이다. \n",
    "* 각 반복에서 하나의 데이터 포인트를 선택에 테스트 셋으로 사용하는데,\n",
    "* 데이터 셋이 클때는 시간이 매우 오래 걸리지만 작은 데이터셋에서는 이따금 더 좋은 결과를 내기도한다. "
   ]
  },
  {
   "cell_type": "code",
   "execution_count": 65,
   "metadata": {},
   "outputs": [
    {
     "name": "stdout",
     "output_type": "stream",
     "text": [
      "iris.data.shape \n",
      "(150, 4)\n",
      "교차 검증 분할 횟수 \n",
      "150\n",
      "평균 정확도 \n",
      "0.953\n"
     ]
    }
   ],
   "source": [
    "from sklearn.model_selection import LeaveOneOut, cross_val_score, KFold\n",
    "iris = load_iris()\n",
    "loo = LeaveOneOut()\n",
    "scores_loo = cross_val_score(logreg, iris.data, iris.target, cv=loo) \n",
    "\n",
    "print('iris.data.shape \\n{}'.format(iris.data.shape))\n",
    "print('교차 검증 분할 횟수 \\n{}'.format(len(scores_loo)))\n",
    "print('평균 정확도 \\n{:.3f}'.format(scores_loo.mean()))"
   ]
  },
  {
   "cell_type": "markdown",
   "metadata": {},
   "source": [
    "### 임의 분할 교차 검증 \n",
    "* train_size만큼의 포인트로 훈련 셋을 만들고, test_size만큼의 포인트로 테스트 셋을 만들도록 불할하는 방법. \n",
    "* 이 분할은 n_splits 횟수 만큼 반복된다. \n"
   ]
  },
  {
   "cell_type": "code",
   "execution_count": 66,
   "metadata": {},
   "outputs": [
    {
     "data": {
      "image/png": "[encoded data removed]",
      "text/plain": [
       "<Figure size 720x144 with 1 Axes>"
      ]
     },
     "metadata": {
      "needs_background": "light"
     },
     "output_type": "display_data"
    }
   ],
   "source": [
    "mglearn.plots.plot_shuffle_split()"
   ]
  },
  {
   "cell_type": "code",
   "execution_count": 67,
   "metadata": {},
   "outputs": [
    {
     "name": "stdout",
     "output_type": "stream",
     "text": [
      "교차 검증 점수 \n",
      "[0.97333333 0.92       0.96       0.96       0.92       0.96\n",
      " 0.92       0.94666667 0.88       0.70666667]\n",
      "교차 검증 점수 \n",
      "0.9146666666666668\n"
     ]
    }
   ],
   "source": [
    "from sklearn.model_selection import ShuffleSplit\n",
    "# create object\n",
    "shuffle_split = ShuffleSplit(test_size=0.5, train_size=0.5, n_splits=10) # ShuffleSplit 객체 생성\n",
    "# cv test\n",
    "scores = cross_val_score(logreg, iris.data, iris.target, cv=shuffle_split)\n",
    "# cv test result\n",
    "print('교차 검증 점수 \\n{}'.format(scores))\n",
    "print('교차 검증 점수 \\n{}'.format(scores.mean()))"
   ]
  },
  {
   "cell_type": "markdown",
   "metadata": {},
   "source": [
    "* 이런 경우, 데이터셋의 50프로를 훈련셋, 남은 50을 테스트 셋으로 10번 반복하여 분할해 검증한 결과이다. \n",
    "* 임의 분할 교차 검증은 반복 횟수를 훈련 세트나 테스트 세트의 크기와 독립적으로 조절해야 할때 유용함\n",
    "* 또한 train_size와 test_size의 합을 전체와 다르게 함으로써 전체 데이터의 일부만 사용할 수 있음\n",
    "* 이렇게 데이터를 subsampling부분 샘플링방식은 대규모 데이터셋으로 작업할 때 유용함"
   ]
  },
  {
   "cell_type": "markdown",
   "metadata": {},
   "source": [
    "### 그룹별 교차 검증 \n",
    "* 얼굴 사진에서 표정을 인식하는 시스템을 만들기위해 100명의 사진을 모았다,\n",
    "* 이데이터셋에 없는 사람의 표정을 정확히 구분하는 분류기를 만들려면\n",
    "* 훈련 셋과 테스트 셋에 서로 다른 사람의 사진이 들어가도록 해야한다. "
   ]
  },
  {
   "cell_type": "code",
   "execution_count": 68,
   "metadata": {},
   "outputs": [
    {
     "data": {
      "image/png": "[encoded data removed]",
      "text/plain": [
       "<Figure size 720x144 with 1 Axes>"
      ]
     },
     "metadata": {
      "needs_background": "light"
     },
     "output_type": "display_data"
    }
   ],
   "source": [
    "mglearn.plots.plot_group_kfold()"
   ]
  },
  {
   "cell_type": "code",
   "execution_count": 69,
   "metadata": {},
   "outputs": [
    {
     "name": "stdout",
     "output_type": "stream",
     "text": [
      "교차검증 점수 \n",
      "[0.75       0.8        0.66666667]\n"
     ]
    }
   ],
   "source": [
    "from sklearn.datasets import make_blobs\n",
    "from sklearn.model_selection import GroupKFold\n",
    "x, y = make_blobs(n_samples=12, random_state=0)\n",
    "gkfold = GroupKFold(n_splits=3) # GroupKFold\n",
    "groups = [0, 0, 0, 1, 1, 1, 1, 2, 2, 3, 3, 3] # group class\n",
    "# cv test\n",
    "scores = cross_val_score(logreg, x, y, groups, cv=gkfold)\n",
    "# cv test result\n",
    "print('교차검증 점수 \\n{}'.format(scores))"
   ]
  },
  {
   "cell_type": "code",
   "execution_count": null,
   "metadata": {},
   "outputs": [],
   "source": []
  },
  {
   "cell_type": "code",
   "execution_count": null,
   "metadata": {},
   "outputs": [],
   "source": []
  },
  {
   "cell_type": "code",
   "execution_count": null,
   "metadata": {},
   "outputs": [],
   "source": []
  },
  {
   "cell_type": "code",
   "execution_count": null,
   "metadata": {},
   "outputs": [],
   "source": []
  },
  {
   "cell_type": "markdown",
   "metadata": {},
   "source": [
    "## 5.2 그리드 서치 "
   ]
  },
  {
   "cell_type": "markdown",
   "metadata": {},
   "source": [
    "* 그리드 서치 매개변수를 튜닝하여 일반화 성능을 높이는 것이 목표입니다. 가장 널리 사용하는 방법은 grid search그리드 서치 이며 관심있는 매개변수들을 대상으로 가능한 모든 조합을 시도해보는 것 입니다"
   ]
  },
  {
   "cell_type": "code",
   "execution_count": 70,
   "metadata": {},
   "outputs": [
    {
     "name": "stdout",
     "output_type": "stream",
     "text": [
      "훈련 세트의 크기 :(112, 4), 테스트 세트의 크기:(38, 4)\n"
     ]
    }
   ],
   "source": [
    "from sklearn.svm import SVC\n",
    "from sklearn.model_selection import train_test_split\n",
    "from sklearn.datasets import load_iris\n",
    "iris = load_iris()\n",
    "X_train, X_test, y_train, y_test = \\\n",
    "  train_test_split(iris.data, iris.target,\n",
    "                    random_state=0)\n",
    "print('훈련 세트의 크기 :{}, 테스트 세트의 크기:{}'.format(X_train.shape, X_test.shape))"
   ]
  },
  {
   "cell_type": "code",
   "execution_count": 71,
   "metadata": {},
   "outputs": [
    {
     "name": "stdout",
     "output_type": "stream",
     "text": [
      "best score ==> 0.974\n",
      "best parameter ==> {'C': 100, 'gamma': 0.001}\n"
     ]
    }
   ],
   "source": [
    "best_score = 0\n",
    "for gamma in [0.001, 0.01, 0.1, 1, 10, 100]:\n",
    "    for C in [0.001, 0.01, 0.1, 1, 10, 100]:\n",
    "        #매개변수의 각 조합에 대해SVC를 훈련시킵니다\n",
    "        svm=SVC(gamma=gamma, C=C).fit(X_train, y_train)\n",
    "        score = svm.score(X_test, y_test)\n",
    "        if score > best_score:\n",
    "            best_score = score\n",
    "            best_param = {'C':C, 'gamma':gamma}\n",
    "print('best score ==> {:.3f}'.format(best_score))\n",
    "\n",
    "print('best parameter ==> {}'.format(best_param))"
   ]
  },
  {
   "cell_type": "markdown",
   "metadata": {},
   "source": [
    "grid search를 통해 C=100, gamma: 0.001일 때 가장 좋은 결과가 나온 것을 확인할 수 있습니다.\n",
    "이 결과를 보면 이 데이터셋에서 모델 정확도가 97.8%라고 보고할 수 있습니다.\n",
    "하지만 이런 주장은 다음과 같은 이유로 잘못될 수도 있습니다.\n",
    "\n",
    "1. 이 정확도는 새로운 데이터까지 이어지지 않을 수 있습니다.\n",
    "매개변수를 조정하기 위해 테스트 세트를 이미 사용했기 때문에 테스트세트는 모델이 얼마나 좋은지 평가하는 데 사용할 수 없습니다.\n",
    "즉 평가를 위해서는 모델을 만들 때 사용하지 않은 독립된 데이터셋이 필요하고 \n",
    "다음 장에서 독립된 데이터셋을 다루는 방법을 살펴보겠습니다."
   ]
  },
  {
   "cell_type": "markdown",
   "metadata": {},
   "source": [
    "모델을 만들 때 사용하지 않은 독립된 데이터셋이 필요하다고 했습니다.\n",
    "\n",
    "독립된 데이터셋을 사용하는 방법에는 2가지가 있습니다.\n",
    "\n",
    "첫 번째는 train_test_split을 2번 사용하여 데이터를 3등분하는 것이고\n",
    "\n",
    "두 번째는 cross-validation을 사용하는 것입니다."
   ]
  },
  {
   "cell_type": "code",
   "execution_count": 72,
   "metadata": {},
   "outputs": [
    {
     "data": {
      "image/png": "[encoded data removed]",
      "text/plain": [
       "<Figure size 1080x72 with 1 Axes>"
      ]
     },
     "metadata": {
      "needs_background": "light"
     },
     "output_type": "display_data"
    }
   ],
   "source": [
    "mglearn.plots.plot_threefold_split()"
   ]
  },
  {
   "cell_type": "code",
   "execution_count": 73,
   "metadata": {},
   "outputs": [
    {
     "name": "stdout",
     "output_type": "stream",
     "text": [
      "훈련 세트의 크기:84\n",
      "검증 세트의 크기:28\n",
      "테스트 세트의 크기:38\n"
     ]
    }
   ],
   "source": [
    "from sklearn.svm import SVC\n",
    "iris = load_iris()\n",
    "X_trainval, X_test, y_trainval, y_test=  train_test_split(iris.data, iris.target, random_state=0)\n",
    "X_train, X_valid, y_train, y_valid = train_test_split(X_trainval, y_trainval, random_state=1)  \n",
    "print('훈련 세트의 크기:{}\\n검증 세트의 크기:{}\\n테스트 세트의 크기:{}'.format(X_train.shape[0], X_valid.shape[0], X_test.shape[0]))"
   ]
  },
  {
   "cell_type": "code",
   "execution_count": 74,
   "metadata": {},
   "outputs": [
    {
     "name": "stdout",
     "output_type": "stream",
     "text": [
      "best score ==> 0.964\n",
      "best parameter ==> {'C': 10, 'gamma': 0.001}\n"
     ]
    }
   ],
   "source": [
    "best_score = 0\n",
    "for gamma in [0.001, 0.01, 0.1, 1, 10, 100]:\n",
    "    for C in [0.001, 0.01, 0.1, 1, 10, 100]:\n",
    "        #매개변수의 각 조합에 대해SVC를 훈련시킵니다\n",
    "        svm=SVC(gamma=gamma, C=C).fit(X_train, y_train)\n",
    "        score = svm.score(X_valid, y_valid)\n",
    "        if score > best_score:\n",
    "            best_score = score\n",
    "            best_param = {'C':C, 'gamma':gamma}\n",
    "print('best score ==> {:.3f}'.format(best_score))\n",
    "print('best parameter ==> {}'.format(best_param))"
   ]
  },
  {
   "cell_type": "code",
   "execution_count": 75,
   "metadata": {},
   "outputs": [
    {
     "name": "stdout",
     "output_type": "stream",
     "text": [
      "최적 매개변수 점수 ==> 0.964\n",
      "최적 매개변수 ==> {'C': 10, 'gamma': 0.001}\n",
      "최적 매개변수에서 test ==> 0.921\n"
     ]
    }
   ],
   "source": [
    "#훈련세트와 검증세트를 합쳐 모델을 다시 만든후\n",
    "#테스트 세트를 사용해 평가한다\n",
    "svm=SVC(**best_param).fit(X_trainval, y_trainval)\n",
    "test_score=svm.score(X_test,y_test)\n",
    "print('최적 매개변수 점수 ==> {:.3f}'.format(best_score))\n",
    "print('최적 매개변수 ==> {}'.format(best_param))\n",
    "print('최적 매개변수에서 test ==> {:.3f}'.format(test_score))"
   ]
  },
  {
   "cell_type": "markdown",
   "metadata": {},
   "source": [
    "최적 매개변수에서 최고점수는 96.4%이며 테스트 세트 점수는 92.1%입니다. \n",
    "즉 새로운 데이터에 대해 92.1%만 정확하게 분류한다고 볼 수 있습니다.\n",
    "테스트 세트로 둘 이상의 모델을 평가해서 그 중 더 나은 하나를 선택하는 것은 모델의 정확도를 매우 낙관적으로 추정하거나, overfitting이 생길 수 있으므로 주의해야합니다."
   ]
  },
  {
   "cell_type": "markdown",
   "metadata": {},
   "source": [
    "cross-validaion을 이용한 iris데이터의 grid search\n",
    "\n",
    "일반화 성능을 더 잘 평가하려면 훈련 세트와 검증 세트를 한 번만 나누지 않고 \n",
    "cross-validation을 사용해서 각 매개변수 조합의 성능을 평가할 수 있습니다.\n",
    "cross-validation을 통해 어떤 매개변수가 선택되는지를 살펴보면"
   ]
  },
  {
   "cell_type": "code",
   "execution_count": 76,
   "metadata": {},
   "outputs": [
    {
     "data": {
      "text/plain": [
       "SVC(C=100, cache_size=200, class_weight=None, coef0=0.0,\n",
       "  decision_function_shape='ovr', degree=3, gamma=0.01, kernel='rbf',\n",
       "  max_iter=-1, probability=False, random_state=None, shrinking=True,\n",
       "  tol=0.001, verbose=False)"
      ]
     },
     "execution_count": 76,
     "metadata": {},
     "output_type": "execute_result"
    }
   ],
   "source": [
    "import numpy as np\n",
    "for gamma in [0.001, 0.01, 0.1, 1, 10, 100]:\n",
    "    for C in [0.001, 0.01, 0.1, 1, 10, 100]:\n",
    "        #매개변수의 각 조합에 대해SVC를 훈련시킵니다\n",
    "        svm=SVC(gamma=gamma, C=C)\n",
    "        scores =cross_val_score(svm,X_trainval, y_trainval,cv=5)\n",
    "        score=np.mean(scores)\n",
    "        if score > best_score:\n",
    "            best_score = score\n",
    "            best_param = {'C':C, 'gamma':gamma}\n",
    "svm=SVC(**best_param)\n",
    "svm.fit(X_trainval,y_trainval)"
   ]
  },
  {
   "cell_type": "code",
   "execution_count": 77,
   "metadata": {},
   "outputs": [
    {
     "data": {
      "image/png": "[encoded data removed]",
      "text/plain": [
       "<Figure size 700x210 with 1 Axes>"
      ]
     },
     "metadata": {
      "needs_background": "light"
     },
     "output_type": "display_data"
    }
   ],
   "source": [
    "mglearn.plots.plot_grid_search_overview()"
   ]
  },
  {
   "cell_type": "markdown",
   "metadata": {},
   "source": [
    "cross-validation을 사용한 grid search를 매개변수 조정 방법으로 많이 사용하기 때문에\n",
    "scikit-learn은 GridSearchCV를 제공합니다.\n",
    "GridSearchCV는 딕셔너리 형태로 검색 대상 매개변수를 지정하며 필요한 모든 모델을 학습합니다. 아래 소스는 위의 소스와 같은 결과를 냅니다."
   ]
  },
  {
   "cell_type": "code",
   "execution_count": 78,
   "metadata": {},
   "outputs": [
    {
     "name": "stdout",
     "output_type": "stream",
     "text": [
      "매개변수 그리드: \n",
      " {'C': [0.001, 0.01, 0.1, 1, 10, 100], 'gamma': [0.001, 0.01, 0.1, 1, 10, 100]}\n"
     ]
    }
   ],
   "source": [
    "param_grid={\"C\":[0.001, 0.01, 0.1, 1, 10, 100],\n",
    "            \"gamma\":[0.001, 0.01, 0.1, 1, 10, 100]}\n",
    "print(\"매개변수 그리드: \\n\",param_grid)"
   ]
  },
  {
   "cell_type": "code",
   "execution_count": 79,
   "metadata": {},
   "outputs": [
    {
     "name": "stdout",
     "output_type": "stream",
     "text": [
      "트레인 세트 점수 : 0.98\n",
      "테스트 세트 점수 : 0.97\n",
      "최적 매개변수: {'C': 100, 'gamma': 0.01}\n",
      "최고 교차 검증 점수: 0.9732142857142857\n",
      "최고 성능 모델: SVC(C=100, cache_size=200, class_weight=None, coef0=0.0,\n",
      "  decision_function_shape='ovr', degree=3, gamma=0.01, kernel='rbf',\n",
      "  max_iter=-1, probability=False, random_state=None, shrinking=True,\n",
      "  tol=0.001, verbose=False)\n"
     ]
    }
   ],
   "source": [
    "from sklearn.model_selection import GridSearchCV\n",
    "from sklearn.svm import SVC\n",
    "grid_search=GridSearchCV(SVC(),param_grid,cv=5,return_train_score=True)\n",
    "X_train, X_test, y_train, y_test = train_test_split(iris.data, iris.target,random_state=0)\n",
    "grid_search.fit(X_train,y_train)\n",
    "print(\"트레인 세트 점수 : {:.2f}\".format(grid_search.score(X_train,y_train)))\n",
    "print(\"테스트 세트 점수 : {:.2f}\".format(grid_search.score(X_test,y_test)))\n",
    "\n",
    "print(\"최적 매개변수:\",grid_search.best_params_)\n",
    "print(\"최고 교차 검증 점수:\",grid_search.best_score_)\n",
    "\n",
    "print(\"최고 성능 모델:\",grid_search.best_estimator_)"
   ]
  },
  {
   "cell_type": "markdown",
   "metadata": {},
   "source": [
    "## 5.3 평가 지표와 측정 "
   ]
  },
  {
   "cell_type": "markdown",
   "metadata": {},
   "source": [
    "### 불균형 데이터셋 "
   ]
  },
  {
   "cell_type": "code",
   "execution_count": 80,
   "metadata": {},
   "outputs": [],
   "source": [
    "from sklearn.datasets import load_digits\n",
    "\n",
    "digits = load_digits()\n",
    "y = digits.target ==9\n",
    "\n",
    "X_train, X_test, y_train, y_test = train_test_split(digits.data,y,random_state=0)"
   ]
  },
  {
   "cell_type": "markdown",
   "metadata": {},
   "source": [
    "* 항상 다수의 클래스(9가 아닌)를 예측값으로 내놓는 DummyClassifier 를 사용해 정확도 계산"
   ]
  },
  {
   "cell_type": "code",
   "execution_count": 81,
   "metadata": {},
   "outputs": [
    {
     "name": "stdout",
     "output_type": "stream",
     "text": [
      "예측된 레이블의 고유값 :  [False]\n",
      "테스트 점수:0.90\n"
     ]
    }
   ],
   "source": [
    "from sklearn.dummy import DummyClassifier\n",
    "dummy_majority = DummyClassifier(strategy = 'most_frequent').fit(X_train, y_train)\n",
    "pred_most_frequent = dummy_majority.predict(X_test)\n",
    "print('예측된 레이블의 고유값 : ', np.unique(pred_most_frequent))\n",
    "print('테스트 점수:{:.2f}'.format(dummy_majority.score(X_test, y_test)))"
   ]
  },
  {
   "cell_type": "code",
   "execution_count": 82,
   "metadata": {},
   "outputs": [
    {
     "name": "stdout",
     "output_type": "stream",
     "text": [
      "테스트 점수:0.92\n"
     ]
    }
   ],
   "source": [
    "from sklearn.tree import DecisionTreeClassifier\n",
    "tree = DecisionTreeClassifier(max_depth =2).fit(X_train, y_train)\n",
    "pred_tree = tree.predict(X_test)\n",
    "print('테스트 점수:{:.2f}'.format(tree.score(X_test, y_test)))"
   ]
  },
  {
   "cell_type": "code",
   "execution_count": 83,
   "metadata": {},
   "outputs": [
    {
     "name": "stdout",
     "output_type": "stream",
     "text": [
      "dummy 점수:0.80\n",
      "logreg 점수 : 0.98\n"
     ]
    }
   ],
   "source": [
    "from sklearn.linear_model import LogisticRegression\n",
    "\n",
    "dummy = DummyClassifier().fit(X_train, y_train)\n",
    "pred_dummy = dummy.predict(X_test)\n",
    "print('dummy 점수:{:.2f}'.format(dummy.score(X_test, y_test)))\n",
    "\n",
    "logreg = LogisticRegression(C=0.1).fit(X_train, y_train)\n",
    "pred_logreg = logreg.predict(X_test)\n",
    "print('logreg 점수 : {:.2f}'.format(logreg.score(X_test, y_test)))"
   ]
  },
  {
   "cell_type": "markdown",
   "metadata": {},
   "source": [
    "* 이러한 더미분류기의 로우스코어와 다른 모델들의 하이스코어가 실제로 유용한 건지 판단하기가 모시 어렵다. \n",
    "* 불균형 데이터셋에서 예측 성능을 정량화 하는데 정확도는 적절한 측정 방법이 아니기 때문이다. \n",
    "* 모델 선택을 도와주는 다른 지표를 더욱 살펴보가로 한다. 특히 빈도나 무작위 기반 예측보다 얼마나 더나은지 알려주는 평가지표가 필요하다. \n",
    "* 모델을 평가하는 지표라면 이런 비상식적인 예측은 피할 수 있어야한다. \n",
    "* 정확도 - 모든 데이터에 대해 클래스 라벨을 얼마나 정확히 맞췄는가?"
   ]
  },
  {
   "cell_type": "markdown",
   "metadata": {},
   "source": [
    "## 오차 행렬\n",
    "* 오차행렬은 binary classfier 평가 결과를 나타낼 때 가장 많이 사용한다.\n",
    "* LogistinRegression의 예측결과를 오차행렬 함수를 사용해 나타내보자,"
   ]
  },
  {
   "cell_type": "code",
   "execution_count": 84,
   "metadata": {},
   "outputs": [
    {
     "name": "stdout",
     "output_type": "stream",
     "text": [
      "오차 행렬 :\n",
      " [[401   2]\n",
      " [  8  39]]\n"
     ]
    }
   ],
   "source": [
    "from sklearn.metrics import confusion_matrix\n",
    "confusion = confusion_matrix(y_test, pred_logreg)\n",
    "print('오차 행렬 :\\n', confusion)"
   ]
  },
  {
   "cell_type": "markdown",
   "metadata": {},
   "source": [
    "* 각 행은 정답클래스에 해당하고, 열은 예측클래스에 해당한다. 각 항목의 숫자는 행에 해당하는 클래스가 얼마나 많이 열에 해당하는 클래스로 분류되었는지 나타낸다."
   ]
  },
  {
   "cell_type": "code",
   "execution_count": 85,
   "metadata": {},
   "outputs": [
    {
     "data": {
      "image/png": "[encoded data removed]",
      "text/plain": [
       "<Figure size 576x576 with 1 Axes>"
      ]
     },
     "metadata": {
      "needs_background": "light"
     },
     "output_type": "display_data"
    }
   ],
   "source": [
    "mglearn.plots.plot_confusion_matrix_illustration()"
   ]
  },
  {
   "cell_type": "code",
   "execution_count": 86,
   "metadata": {},
   "outputs": [
    {
     "data": {
      "image/png": "[encoded data removed]",
      "text/plain": [
       "<Figure size 432x288 with 1 Axes>"
      ]
     },
     "metadata": {
      "needs_background": "light"
     },
     "output_type": "display_data"
    }
   ],
   "source": [
    "mglearn.plots.plot_binary_confusion_matrix()"
   ]
  },
  {
   "cell_type": "markdown",
   "metadata": {},
   "source": [
    "* 이러한 오차행렬로 앞서 만든 모델들 비교해보기 "
   ]
  },
  {
   "cell_type": "code",
   "execution_count": 87,
   "metadata": {},
   "outputs": [
    {
     "name": "stdout",
     "output_type": "stream",
     "text": [
      "빈도 기반 더미 모델:\n",
      "[[403   0]\n",
      " [ 47   0]]\n",
      "\n",
      " 무작위 더미 모델:\n",
      "[[363  40]\n",
      " [ 41   6]]\n",
      "\n",
      " 결정 트리 모델:\n",
      "[[390  13]\n",
      " [ 24  23]]\n",
      "\n",
      " 로지스틱 회귀 모델:\n",
      "[[401   2]\n",
      " [  8  39]]\n"
     ]
    }
   ],
   "source": [
    "print('빈도 기반 더미 모델:')\n",
    "print(confusion_matrix(y_test, pred_most_frequent))\n",
    "print('\\n 무작위 더미 모델:')\n",
    "print(confusion_matrix(y_test, pred_dummy))\n",
    "print('\\n 결정 트리 모델:')\n",
    "print(confusion_matrix(y_test, pred_tree))\n",
    "print('\\n 로지스틱 회귀 모델:')\n",
    "print(confusion_matrix(y_test, pred_logreg))"
   ]
  },
  {
   "cell_type": "markdown",
   "metadata": {},
   "source": [
    "* pred_most_frequent에선 항상 동일한 클래스를 예측해서 잘못됫다 볼수있다. \n",
    "* 각각의 모델에 대한 오차행렬을 살펴보는것은 너무 수동적이고 정성적이니\n",
    "* 다음절에서 오차행렬 정보를 요약할 수 있는 여러 방법을 살펴보겟다."
   ]
  },
  {
   "cell_type": "markdown",
   "metadata": {},
   "source": [
    "## 정확도와의 관계 \n",
    "* 정확도로 결과를 요약해보자! \n",
    "* 정확도 = (TP+TN)/(TP+TN+FP+FN) -> 정확히 예측한 수를 전체 샘플 수로 나눈 것\n",
    "\n",
    "## 정밀도, 재현율, f_점수\n",
    "* 정밀도  =(TP)/(TP+FP) 양성으로 예측된 것중 얼마나 많은 샘플이 양성인가? \n",
    "* 정밀도는 거짓 양성의 수를 줄이는 것이 목표일 때 성능 지표로 사용된다. 양성 예측도 라고도 한다. \n",
    "* 재현율 - TP/(TP+FN) - 전체 양성 샘플 중, 얼마나 많은 샘플이 양성클래스로 분류 되는가?\n",
    "* 재현율은 모든 양성 샘플을 식별해야 할 때 성능지표로 사용된다. 즉 거짓 음성(FN)을 피해야 하는 것이 중요할 때. - 민감도, 적중률, 진짜양성 비율이라고도 한다.\n",
    "\n",
    "* 정밀도와 재현율이 매우 중요한 측정방법이나, 둘중하나만으로 전체그림을 볼수 없기에 정밀도와 재현율의 조화 평균인 f-점수를 사용한다.\n",
    "* F = 2 x (정밀도 * 재현율) /(정밀도 + 재현율)\n",
    "* f1 스코어는 데이터가 언발란스 할때 좋은 수치로 여거진다. "
   ]
  },
  {
   "cell_type": "code",
   "execution_count": 88,
   "metadata": {},
   "outputs": [
    {
     "name": "stdout",
     "output_type": "stream",
     "text": [
      "빈도 기반 더미 모델의 f1 score:0.00\n",
      "무작위 더미 모델의 f1 score:0.13\n",
      "트리 모델의 f1 score:0.55\n",
      "로지스틱 회귀 모델의 f1 scor:0.89\n"
     ]
    }
   ],
   "source": [
    "from sklearn.metrics import f1_score\n",
    "\n",
    "print('빈도 기반 더미 모델의 f1 score:{:.2f}'.format(f1_score(y_test, pred_most_frequent)))\n",
    "print('무작위 더미 모델의 f1 score:{:.2f}'.format(f1_score(y_test, pred_dummy)))\n",
    "print('트리 모델의 f1 score:{:.2f}'.format(f1_score(y_test, pred_tree)))\n",
    "print('로지스틱 회귀 모델의 f1 scor:{:.2f}'.format(f1_score(y_test, pred_logreg)))"
   ]
  },
  {
   "cell_type": "markdown",
   "metadata": {},
   "source": [
    "### classfication_report 함수로 정밀도, 재현율, f1-점수를 모두 한번에 계산하여 출력해준다. "
   ]
  },
  {
   "cell_type": "code",
   "execution_count": 89,
   "metadata": {},
   "outputs": [
    {
     "name": "stdout",
     "output_type": "stream",
     "text": [
      "빈도 기반 더미 모델의 classification_report:\n",
      "               precision    recall  f1-score   support\n",
      "\n",
      "       9 아님       0.90      1.00      0.94       403\n",
      "          9       0.00      0.00      0.00        47\n",
      "\n",
      "avg / total       0.80      0.90      0.85       450\n",
      "\n",
      "무작위 더미 모델의 classification_report:\n",
      "               precision    recall  f1-score   support\n",
      "\n",
      "       9 아님       0.90      0.90      0.90       403\n",
      "          9       0.13      0.13      0.13        47\n",
      "\n",
      "avg / total       0.82      0.82      0.82       450\n",
      "\n",
      "트리 모델의 classification_report:\n",
      "               precision    recall  f1-score   support\n",
      "\n",
      "       9 아님       0.94      0.97      0.95       403\n",
      "          9       0.64      0.49      0.55        47\n",
      "\n",
      "avg / total       0.91      0.92      0.91       450\n",
      "\n",
      "로지스틱 회귀 모델의 classification_report:\n",
      "               precision    recall  f1-score   support\n",
      "\n",
      "       9 아님       0.98      1.00      0.99       403\n",
      "          9       0.95      0.83      0.89        47\n",
      "\n",
      "avg / total       0.98      0.98      0.98       450\n",
      "\n"
     ]
    }
   ],
   "source": [
    "from sklearn.metrics import classification_report\n",
    "print('빈도 기반 더미 모델의 classification_report:\\n ',classification_report(y_test, pred_most_frequent, target_names =['9 아님', '9']))\n",
    "print('무작위 더미 모델의 classification_report:\\n ',classification_report(y_test, pred_dummy, target_names =['9 아님', '9']))\n",
    "print('트리 모델의 classification_report:\\n ',classification_report(y_test, pred_tree, target_names =['9 아님', '9']))\n",
    "print('로지스틱 회귀 모델의 classification_report:\\n ',classification_report(y_test, pred_logreg, target_names =['9 아님', '9']))"
   ]
  },
  {
   "cell_type": "markdown",
   "metadata": {},
   "source": [
    "* 첫줄은 각각 정밀도, 재현율, f1_score를 출력해주고, 마지막 support는 각클래스의 지지도, 즉 이 클래스에 있는 진짜 샘플의 수이다.\n",
    "* 마지막 avg/total은 단순히 클래스별 평균을 내준것. "
   ]
  },
  {
   "cell_type": "markdown",
   "metadata": {},
   "source": [
    "### 정밀도를 높이려면? - 거짓 양성을 줄이자!\n",
    "### 재현율을 높이려면? - 거짓 음성을 줄이자!"
   ]
  },
  {
   "cell_type": "markdown",
   "metadata": {},
   "source": [
    "## 정밀도-재현율 곡선과 ROC 곡선"
   ]
  },
  {
   "cell_type": "code",
   "execution_count": 90,
   "metadata": {},
   "outputs": [
    {
     "ename": "TypeError",
     "evalue": "unsupported operand type(s) for //: 'tuple' and 'int'",
     "output_type": "error",
     "traceback": [
      "\u001b[1;31m---------------------------------------------------------------------------\u001b[0m",
      "\u001b[1;31mTypeError\u001b[0m                                 Traceback (most recent call last)",
      "\u001b[1;32m<ipython-input-90-38c92fc4a60e>\u001b[0m in \u001b[0;36m<module>\u001b[1;34m()\u001b[0m\n\u001b[0;32m      2\u001b[0m \u001b[1;32mfrom\u001b[0m \u001b[0msklearn\u001b[0m\u001b[1;33m.\u001b[0m\u001b[0mdatasets\u001b[0m \u001b[1;32mimport\u001b[0m \u001b[0mmake_blobs\u001b[0m\u001b[1;33m\u001b[0m\u001b[0m\n\u001b[0;32m      3\u001b[0m \u001b[1;33m\u001b[0m\u001b[0m\n\u001b[1;32m----> 4\u001b[1;33m \u001b[0mX\u001b[0m\u001b[1;33m,\u001b[0m \u001b[0my\u001b[0m \u001b[1;33m=\u001b[0m \u001b[0mmake_blobs\u001b[0m\u001b[1;33m(\u001b[0m\u001b[0mn_samples\u001b[0m\u001b[1;33m=\u001b[0m\u001b[1;33m(\u001b[0m\u001b[1;36m4000\u001b[0m\u001b[1;33m,\u001b[0m\u001b[1;36m500\u001b[0m\u001b[1;33m)\u001b[0m\u001b[1;33m,\u001b[0m \u001b[0mcluster_std\u001b[0m\u001b[1;33m=\u001b[0m\u001b[1;33m[\u001b[0m\u001b[1;36m7.0\u001b[0m\u001b[1;33m,\u001b[0m \u001b[1;36m2\u001b[0m\u001b[1;33m]\u001b[0m\u001b[1;33m,\u001b[0m \u001b[0mrandom_state\u001b[0m\u001b[1;33m=\u001b[0m\u001b[1;36m22\u001b[0m\u001b[1;33m)\u001b[0m\u001b[1;33m\u001b[0m\u001b[0m\n\u001b[0m\u001b[0;32m      5\u001b[0m \u001b[0mX_train\u001b[0m\u001b[1;33m,\u001b[0m \u001b[0mX_test\u001b[0m\u001b[1;33m,\u001b[0m \u001b[0my_train\u001b[0m\u001b[1;33m,\u001b[0m \u001b[0my_test\u001b[0m \u001b[1;33m=\u001b[0m \u001b[0mtrain_test_split\u001b[0m\u001b[1;33m(\u001b[0m\u001b[0mX\u001b[0m\u001b[1;33m,\u001b[0m\u001b[0my\u001b[0m\u001b[1;33m,\u001b[0m \u001b[0mrandom_state\u001b[0m \u001b[1;33m=\u001b[0m \u001b[1;36m0\u001b[0m\u001b[1;33m)\u001b[0m\u001b[1;33m\u001b[0m\u001b[0m\n\u001b[0;32m      6\u001b[0m \u001b[0msvc\u001b[0m \u001b[1;33m=\u001b[0m \u001b[0mSVC\u001b[0m\u001b[1;33m(\u001b[0m\u001b[0mgamma\u001b[0m\u001b[1;33m=\u001b[0m\u001b[1;36m.05\u001b[0m\u001b[1;33m)\u001b[0m\u001b[1;33m.\u001b[0m\u001b[0mfit\u001b[0m\u001b[1;33m(\u001b[0m\u001b[0mX_train\u001b[0m\u001b[1;33m,\u001b[0m\u001b[0my_train\u001b[0m\u001b[1;33m)\u001b[0m\u001b[1;33m\u001b[0m\u001b[0m\n",
      "\u001b[1;32m~\\Anaconda3\\lib\\site-packages\\sklearn\\datasets\\samples_generator.py\u001b[0m in \u001b[0;36mmake_blobs\u001b[1;34m(n_samples, n_features, centers, cluster_std, center_box, shuffle, random_state)\u001b[0m\n\u001b[0;32m    765\u001b[0m \u001b[1;33m\u001b[0m\u001b[0m\n\u001b[0;32m    766\u001b[0m     \u001b[0mn_centers\u001b[0m \u001b[1;33m=\u001b[0m \u001b[0mcenters\u001b[0m\u001b[1;33m.\u001b[0m\u001b[0mshape\u001b[0m\u001b[1;33m[\u001b[0m\u001b[1;36m0\u001b[0m\u001b[1;33m]\u001b[0m\u001b[1;33m\u001b[0m\u001b[0m\n\u001b[1;32m--> 767\u001b[1;33m     \u001b[0mn_samples_per_center\u001b[0m \u001b[1;33m=\u001b[0m \u001b[1;33m[\u001b[0m\u001b[0mint\u001b[0m\u001b[1;33m(\u001b[0m\u001b[0mn_samples\u001b[0m \u001b[1;33m//\u001b[0m \u001b[0mn_centers\u001b[0m\u001b[1;33m)\u001b[0m\u001b[1;33m]\u001b[0m \u001b[1;33m*\u001b[0m \u001b[0mn_centers\u001b[0m\u001b[1;33m\u001b[0m\u001b[0m\n\u001b[0m\u001b[0;32m    768\u001b[0m \u001b[1;33m\u001b[0m\u001b[0m\n\u001b[0;32m    769\u001b[0m     \u001b[1;32mfor\u001b[0m \u001b[0mi\u001b[0m \u001b[1;32min\u001b[0m \u001b[0mrange\u001b[0m\u001b[1;33m(\u001b[0m\u001b[0mn_samples\u001b[0m \u001b[1;33m%\u001b[0m \u001b[0mn_centers\u001b[0m\u001b[1;33m)\u001b[0m\u001b[1;33m:\u001b[0m\u001b[1;33m\u001b[0m\u001b[0m\n",
      "\u001b[1;31mTypeError\u001b[0m: unsupported operand type(s) for //: 'tuple' and 'int'"
     ]
    }
   ],
   "source": [
    "from sklearn.svm import SVC\n",
    "from sklearn.datasets import make_blobs\n",
    "\n",
    "X, y = make_blobs(n_samples=(4000,500), cluster_std=[7.0, 2], random_state=22)\n",
    "X_train, X_test, y_train, y_test = train_test_split(X,y, random_state = 0)\n",
    "svc = SVC(gamma=.05).fit(X_train,y_train)"
   ]
  },
  {
   "cell_type": "code",
   "execution_count": null,
   "metadata": {},
   "outputs": [],
   "source": [
    "from sklearn.metrics import precision_recall_curve\n",
    "precision, recall, thresholds = precision_recall_curve(\n",
    "    y_test, svc.decision_function(X_test))"
   ]
  },
  {
   "cell_type": "markdown",
   "metadata": {},
   "source": [
    "## 피마 인디언 당뇨병 머신러닝 예측 모델을 수립하고, 평가 지표 적용"
   ]
  },
  {
   "cell_type": "code",
   "execution_count": 93,
   "metadata": {},
   "outputs": [],
   "source": [
    "diabets = pd.read_csv('../data/228_482_bundle_archive/diabetes.csv')"
   ]
  },
  {
   "cell_type": "code",
   "execution_count": 99,
   "metadata": {},
   "outputs": [
    {
     "data": {
      "text/html": [
       "<div>\n",
       "<style scoped>\n",
       "    .dataframe tbody tr th:only-of-type {\n",
       "        vertical-align: middle;\n",
       "    }\n",
       "\n",
       "    .dataframe tbody tr th {\n",
       "        vertical-align: top;\n",
       "    }\n",
       "\n",
       "    .dataframe thead th {\n",
       "        text-align: right;\n",
       "    }\n",
       "</style>\n",
       "<table border=\"1\" class=\"dataframe\">\n",
       "  <thead>\n",
       "    <tr style=\"text-align: right;\">\n",
       "      <th></th>\n",
       "      <th>Pregnancies</th>\n",
       "      <th>Glucose</th>\n",
       "      <th>BloodPressure</th>\n",
       "      <th>SkinThickness</th>\n",
       "      <th>Insulin</th>\n",
       "      <th>BMI</th>\n",
       "      <th>DiabetesPedigreeFunction</th>\n",
       "      <th>Age</th>\n",
       "      <th>Outcome</th>\n",
       "    </tr>\n",
       "  </thead>\n",
       "  <tbody>\n",
       "    <tr>\n",
       "      <th>count</th>\n",
       "      <td>768.000000</td>\n",
       "      <td>768.000000</td>\n",
       "      <td>768.000000</td>\n",
       "      <td>768.000000</td>\n",
       "      <td>768.000000</td>\n",
       "      <td>768.000000</td>\n",
       "      <td>768.000000</td>\n",
       "      <td>768.000000</td>\n",
       "      <td>768.000000</td>\n",
       "    </tr>\n",
       "    <tr>\n",
       "      <th>mean</th>\n",
       "      <td>3.845052</td>\n",
       "      <td>120.894531</td>\n",
       "      <td>69.105469</td>\n",
       "      <td>20.536458</td>\n",
       "      <td>79.799479</td>\n",
       "      <td>31.992578</td>\n",
       "      <td>0.471876</td>\n",
       "      <td>33.240885</td>\n",
       "      <td>0.348958</td>\n",
       "    </tr>\n",
       "    <tr>\n",
       "      <th>std</th>\n",
       "      <td>3.369578</td>\n",
       "      <td>31.972618</td>\n",
       "      <td>19.355807</td>\n",
       "      <td>15.952218</td>\n",
       "      <td>115.244002</td>\n",
       "      <td>7.884160</td>\n",
       "      <td>0.331329</td>\n",
       "      <td>11.760232</td>\n",
       "      <td>0.476951</td>\n",
       "    </tr>\n",
       "    <tr>\n",
       "      <th>min</th>\n",
       "      <td>0.000000</td>\n",
       "      <td>0.000000</td>\n",
       "      <td>0.000000</td>\n",
       "      <td>0.000000</td>\n",
       "      <td>0.000000</td>\n",
       "      <td>0.000000</td>\n",
       "      <td>0.078000</td>\n",
       "      <td>21.000000</td>\n",
       "      <td>0.000000</td>\n",
       "    </tr>\n",
       "    <tr>\n",
       "      <th>25%</th>\n",
       "      <td>1.000000</td>\n",
       "      <td>99.000000</td>\n",
       "      <td>62.000000</td>\n",
       "      <td>0.000000</td>\n",
       "      <td>0.000000</td>\n",
       "      <td>27.300000</td>\n",
       "      <td>0.243750</td>\n",
       "      <td>24.000000</td>\n",
       "      <td>0.000000</td>\n",
       "    </tr>\n",
       "    <tr>\n",
       "      <th>50%</th>\n",
       "      <td>3.000000</td>\n",
       "      <td>117.000000</td>\n",
       "      <td>72.000000</td>\n",
       "      <td>23.000000</td>\n",
       "      <td>30.500000</td>\n",
       "      <td>32.000000</td>\n",
       "      <td>0.372500</td>\n",
       "      <td>29.000000</td>\n",
       "      <td>0.000000</td>\n",
       "    </tr>\n",
       "    <tr>\n",
       "      <th>75%</th>\n",
       "      <td>6.000000</td>\n",
       "      <td>140.250000</td>\n",
       "      <td>80.000000</td>\n",
       "      <td>32.000000</td>\n",
       "      <td>127.250000</td>\n",
       "      <td>36.600000</td>\n",
       "      <td>0.626250</td>\n",
       "      <td>41.000000</td>\n",
       "      <td>1.000000</td>\n",
       "    </tr>\n",
       "    <tr>\n",
       "      <th>max</th>\n",
       "      <td>17.000000</td>\n",
       "      <td>199.000000</td>\n",
       "      <td>122.000000</td>\n",
       "      <td>99.000000</td>\n",
       "      <td>846.000000</td>\n",
       "      <td>67.100000</td>\n",
       "      <td>2.420000</td>\n",
       "      <td>81.000000</td>\n",
       "      <td>1.000000</td>\n",
       "    </tr>\n",
       "  </tbody>\n",
       "</table>\n",
       "</div>"
      ],
      "text/plain": [
       "       Pregnancies     Glucose  BloodPressure  SkinThickness     Insulin  \\\n",
       "count   768.000000  768.000000     768.000000     768.000000  768.000000   \n",
       "mean      3.845052  120.894531      69.105469      20.536458   79.799479   \n",
       "std       3.369578   31.972618      19.355807      15.952218  115.244002   \n",
       "min       0.000000    0.000000       0.000000       0.000000    0.000000   \n",
       "25%       1.000000   99.000000      62.000000       0.000000    0.000000   \n",
       "50%       3.000000  117.000000      72.000000      23.000000   30.500000   \n",
       "75%       6.000000  140.250000      80.000000      32.000000  127.250000   \n",
       "max      17.000000  199.000000     122.000000      99.000000  846.000000   \n",
       "\n",
       "              BMI  DiabetesPedigreeFunction         Age     Outcome  \n",
       "count  768.000000                768.000000  768.000000  768.000000  \n",
       "mean    31.992578                  0.471876   33.240885    0.348958  \n",
       "std      7.884160                  0.331329   11.760232    0.476951  \n",
       "min      0.000000                  0.078000   21.000000    0.000000  \n",
       "25%     27.300000                  0.243750   24.000000    0.000000  \n",
       "50%     32.000000                  0.372500   29.000000    0.000000  \n",
       "75%     36.600000                  0.626250   41.000000    1.000000  \n",
       "max     67.100000                  2.420000   81.000000    1.000000  "
      ]
     },
     "execution_count": 99,
     "metadata": {},
     "output_type": "execute_result"
    }
   ],
   "source": [
    "diabets.describe()"
   ]
  },
  {
   "cell_type": "code",
   "execution_count": 108,
   "metadata": {},
   "outputs": [
    {
     "data": {
      "text/plain": [
       "Outcome\n",
       "0    500\n",
       "1    268\n",
       "Name: Outcome, dtype: int64"
      ]
     },
     "execution_count": 108,
     "metadata": {},
     "output_type": "execute_result"
    }
   ],
   "source": [
    "diabets.groupby('Outcome').Outcome.count()"
   ]
  },
  {
   "cell_type": "code",
   "execution_count": null,
   "metadata": {},
   "outputs": [],
   "source": []
  }
 ],
 "metadata": {
  "kernelspec": {
   "display_name": "Python 3",
   "language": "python",
   "name": "python3"
  },
  "language_info": {
   "codemirror_mode": {
    "name": "ipython",
    "version": 3
   },
   "file_extension": ".py",
   "mimetype": "text/x-python",
   "name": "python",
   "nbconvert_exporter": "python",
   "pygments_lexer": "ipython3",
   "version": "3.7.0"
  }
 },
 "nbformat": 4,
 "nbformat_minor": 2
}
