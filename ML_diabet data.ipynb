{
 "cells": [
  {
   "cell_type": "code",
   "execution_count": 803,
   "metadata": {},
   "outputs": [],
   "source": [
    "import numpy as np\n",
    "import pandas as pd\n",
    "import seaborn as sns\n",
    "import matplotlib.pyplot as plt\n",
    "from matplotlib import font_manager, rc\n",
    "%matplotlib inline\n",
    "font_name=font_manager.FontProperties(fname=\"c:/Windows/Fonts/malgun.ttf\").get_name()\n",
    "rc(\"font\",family=font_name)\n",
    "import warnings\n",
    "warnings.filterwarnings(action = 'ignore')"
   ]
  },
  {
   "cell_type": "markdown",
   "metadata": {},
   "source": [
    "## 피마 인디언 당뇨병 머신러닝 예측 모델을 수립하고, 평가 지표 적용"
   ]
  },
  {
   "cell_type": "markdown",
   "metadata": {},
   "source": [
    "## 1. 데이터 로드 후 분포와 데이터 확인"
   ]
  },
  {
   "cell_type": "code",
   "execution_count": 804,
   "metadata": {},
   "outputs": [
    {
     "data": {
      "text/html": [
       "<div>\n",
       "<style scoped>\n",
       "    .dataframe tbody tr th:only-of-type {\n",
       "        vertical-align: middle;\n",
       "    }\n",
       "\n",
       "    .dataframe tbody tr th {\n",
       "        vertical-align: top;\n",
       "    }\n",
       "\n",
       "    .dataframe thead th {\n",
       "        text-align: right;\n",
       "    }\n",
       "</style>\n",
       "<table border=\"1\" class=\"dataframe\">\n",
       "  <thead>\n",
       "    <tr style=\"text-align: right;\">\n",
       "      <th></th>\n",
       "      <th>Pregnancies</th>\n",
       "      <th>Glucose</th>\n",
       "      <th>BloodPressure</th>\n",
       "      <th>SkinThickness</th>\n",
       "      <th>Insulin</th>\n",
       "      <th>BMI</th>\n",
       "      <th>DiabetesPedigreeFunction</th>\n",
       "      <th>Age</th>\n",
       "      <th>Outcome</th>\n",
       "    </tr>\n",
       "  </thead>\n",
       "  <tbody>\n",
       "    <tr>\n",
       "      <th>count</th>\n",
       "      <td>768.000000</td>\n",
       "      <td>768.000000</td>\n",
       "      <td>768.000000</td>\n",
       "      <td>768.000000</td>\n",
       "      <td>768.000000</td>\n",
       "      <td>768.000000</td>\n",
       "      <td>768.000000</td>\n",
       "      <td>768.000000</td>\n",
       "      <td>768.000000</td>\n",
       "    </tr>\n",
       "    <tr>\n",
       "      <th>mean</th>\n",
       "      <td>3.845052</td>\n",
       "      <td>120.894531</td>\n",
       "      <td>69.105469</td>\n",
       "      <td>20.536458</td>\n",
       "      <td>79.799479</td>\n",
       "      <td>31.992578</td>\n",
       "      <td>0.471876</td>\n",
       "      <td>33.240885</td>\n",
       "      <td>0.348958</td>\n",
       "    </tr>\n",
       "    <tr>\n",
       "      <th>std</th>\n",
       "      <td>3.369578</td>\n",
       "      <td>31.972618</td>\n",
       "      <td>19.355807</td>\n",
       "      <td>15.952218</td>\n",
       "      <td>115.244002</td>\n",
       "      <td>7.884160</td>\n",
       "      <td>0.331329</td>\n",
       "      <td>11.760232</td>\n",
       "      <td>0.476951</td>\n",
       "    </tr>\n",
       "    <tr>\n",
       "      <th>min</th>\n",
       "      <td>0.000000</td>\n",
       "      <td>0.000000</td>\n",
       "      <td>0.000000</td>\n",
       "      <td>0.000000</td>\n",
       "      <td>0.000000</td>\n",
       "      <td>0.000000</td>\n",
       "      <td>0.078000</td>\n",
       "      <td>21.000000</td>\n",
       "      <td>0.000000</td>\n",
       "    </tr>\n",
       "    <tr>\n",
       "      <th>25%</th>\n",
       "      <td>1.000000</td>\n",
       "      <td>99.000000</td>\n",
       "      <td>62.000000</td>\n",
       "      <td>0.000000</td>\n",
       "      <td>0.000000</td>\n",
       "      <td>27.300000</td>\n",
       "      <td>0.243750</td>\n",
       "      <td>24.000000</td>\n",
       "      <td>0.000000</td>\n",
       "    </tr>\n",
       "    <tr>\n",
       "      <th>50%</th>\n",
       "      <td>3.000000</td>\n",
       "      <td>117.000000</td>\n",
       "      <td>72.000000</td>\n",
       "      <td>23.000000</td>\n",
       "      <td>30.500000</td>\n",
       "      <td>32.000000</td>\n",
       "      <td>0.372500</td>\n",
       "      <td>29.000000</td>\n",
       "      <td>0.000000</td>\n",
       "    </tr>\n",
       "    <tr>\n",
       "      <th>75%</th>\n",
       "      <td>6.000000</td>\n",
       "      <td>140.250000</td>\n",
       "      <td>80.000000</td>\n",
       "      <td>32.000000</td>\n",
       "      <td>127.250000</td>\n",
       "      <td>36.600000</td>\n",
       "      <td>0.626250</td>\n",
       "      <td>41.000000</td>\n",
       "      <td>1.000000</td>\n",
       "    </tr>\n",
       "    <tr>\n",
       "      <th>max</th>\n",
       "      <td>17.000000</td>\n",
       "      <td>199.000000</td>\n",
       "      <td>122.000000</td>\n",
       "      <td>99.000000</td>\n",
       "      <td>846.000000</td>\n",
       "      <td>67.100000</td>\n",
       "      <td>2.420000</td>\n",
       "      <td>81.000000</td>\n",
       "      <td>1.000000</td>\n",
       "    </tr>\n",
       "  </tbody>\n",
       "</table>\n",
       "</div>"
      ],
      "text/plain": [
       "       Pregnancies     Glucose  BloodPressure  SkinThickness     Insulin  \\\n",
       "count   768.000000  768.000000     768.000000     768.000000  768.000000   \n",
       "mean      3.845052  120.894531      69.105469      20.536458   79.799479   \n",
       "std       3.369578   31.972618      19.355807      15.952218  115.244002   \n",
       "min       0.000000    0.000000       0.000000       0.000000    0.000000   \n",
       "25%       1.000000   99.000000      62.000000       0.000000    0.000000   \n",
       "50%       3.000000  117.000000      72.000000      23.000000   30.500000   \n",
       "75%       6.000000  140.250000      80.000000      32.000000  127.250000   \n",
       "max      17.000000  199.000000     122.000000      99.000000  846.000000   \n",
       "\n",
       "              BMI  DiabetesPedigreeFunction         Age     Outcome  \n",
       "count  768.000000                768.000000  768.000000  768.000000  \n",
       "mean    31.992578                  0.471876   33.240885    0.348958  \n",
       "std      7.884160                  0.331329   11.760232    0.476951  \n",
       "min      0.000000                  0.078000   21.000000    0.000000  \n",
       "25%     27.300000                  0.243750   24.000000    0.000000  \n",
       "50%     32.000000                  0.372500   29.000000    0.000000  \n",
       "75%     36.600000                  0.626250   41.000000    1.000000  \n",
       "max     67.100000                  2.420000   81.000000    1.000000  "
      ]
     },
     "execution_count": 804,
     "metadata": {},
     "output_type": "execute_result"
    }
   ],
   "source": [
    "import pandas as pd \n",
    "diabets = pd.read_csv('../data/228_482_bundle_archive/diabetes.csv')\n",
    "diabets.describe()"
   ]
  },
  {
   "cell_type": "markdown",
   "metadata": {},
   "source": [
    "## 2. 당뇨병에 걸린 사람과 아닌 사람의 수는?"
   ]
  },
  {
   "cell_type": "code",
   "execution_count": 805,
   "metadata": {},
   "outputs": [
    {
     "data": {
      "text/plain": [
       "0    500\n",
       "1    268\n",
       "Name: Outcome, dtype: int64"
      ]
     },
     "execution_count": 805,
     "metadata": {},
     "output_type": "execute_result"
    }
   ],
   "source": [
    "diabets.Outcome.value_counts()"
   ]
  },
  {
   "cell_type": "markdown",
   "metadata": {},
   "source": [
    "## 3. feature 의 타입과 Null 개수를 살펴보시오."
   ]
  },
  {
   "cell_type": "code",
   "execution_count": 806,
   "metadata": {},
   "outputs": [
    {
     "data": {
      "text/plain": [
       "Index(['Pregnancies', 'Glucose', 'BloodPressure', 'SkinThickness', 'Insulin',\n",
       "       'BMI', 'DiabetesPedigreeFunction', 'Age', 'Outcome'],\n",
       "      dtype='object')"
      ]
     },
     "execution_count": 806,
     "metadata": {},
     "output_type": "execute_result"
    }
   ],
   "source": [
    "diabets.columns"
   ]
  },
  {
   "cell_type": "code",
   "execution_count": 807,
   "metadata": {},
   "outputs": [
    {
     "data": {
      "text/plain": [
       "Pregnancies                 0\n",
       "Glucose                     0\n",
       "BloodPressure               0\n",
       "SkinThickness               0\n",
       "Insulin                     0\n",
       "BMI                         0\n",
       "DiabetesPedigreeFunction    0\n",
       "Age                         0\n",
       "Outcome                     0\n",
       "dtype: int64"
      ]
     },
     "execution_count": 807,
     "metadata": {},
     "output_type": "execute_result"
    }
   ],
   "source": [
    "diabets.isnull().sum()"
   ]
  },
  {
   "cell_type": "code",
   "execution_count": 808,
   "metadata": {},
   "outputs": [],
   "source": [
    "y = diabets['Outcome']\n",
    "X = diabets.drop(columns='Outcome')\n",
    "#X = X.drop(columns='Insulin')"
   ]
  },
  {
   "cell_type": "markdown",
   "metadata": {},
   "source": [
    "## 4.로지스틱 회귀를 이용해 예측 모델을 생성해 보세요."
   ]
  },
  {
   "cell_type": "code",
   "execution_count": 809,
   "metadata": {},
   "outputs": [],
   "source": [
    "from sklearn.model_selection import train_test_split\n",
    "\n",
    "def grid_search_LR(X,y):\n",
    "    X = np.log1p(X)\n",
    "    X_trainval, X_test, y_trainval, y_test=  train_test_split(X, y, stratify = y, random_state=0)\n",
    "    X_train, X_valid, y_train, y_valid = train_test_split(X_trainval, y_trainval, stratify = y_trainval, random_state=0)\n",
    "    \n",
    "    param_grid={\"C\":[0.001, 0.01, 0.1, 1, 10, 100, 100]}\n",
    "    print(\"매개변수 그리드: \\n\",param_grid)\n",
    "    from sklearn.model_selection import GridSearchCV\n",
    "    from sklearn.linear_model import LogisticRegression\n",
    "\n",
    "    grid_search=GridSearchCV(LogisticRegression(),param_grid,cv=5,return_train_score=True)\n",
    "\n",
    "    grid_search.fit(X_train,y_train)\n",
    "    pred_Log_grid = grid_search.predict(X_test)\n",
    "\n",
    "    print(\"트레인 세트 점수 : {:.2f}\".format(grid_search.score(X_train,y_train)))\n",
    "    print(\"검증 세트 점수 : {:.2f}\".format(grid_search.score(X_trainval,y_trainval)))\n",
    "    print(\"테스트 세트 점수 : {:.2f}\".format(grid_search.score(X_test,y_test)))\n",
    "    print(\"최적 매개변수:\",grid_search.best_params_)\n",
    "    print(\"최고 교차 검증 점수:\",grid_search.best_score_)\n",
    "    print(\"최고 성능 모델:\",grid_search.best_estimator_)\n",
    "    return X_test,y_test, pred_Log_grid, grid_search"
   ]
  },
  {
   "cell_type": "code",
   "execution_count": 810,
   "metadata": {},
   "outputs": [
    {
     "name": "stdout",
     "output_type": "stream",
     "text": [
      "매개변수 그리드: \n",
      " {'C': [0.001, 0.01, 0.1, 1, 10, 100, 100]}\n",
      "트레인 세트 점수 : 0.75\n",
      "검증 세트 점수 : 0.76\n",
      "테스트 세트 점수 : 0.73\n",
      "최적 매개변수: {'C': 100}\n",
      "최고 교차 검증 점수: 0.7384259259259259\n",
      "최고 성능 모델: LogisticRegression(C=100, class_weight=None, dual=False, fit_intercept=True,\n",
      "          intercept_scaling=1, max_iter=100, multi_class='ovr', n_jobs=1,\n",
      "          penalty='l2', random_state=None, solver='liblinear', tol=0.0001,\n",
      "          verbose=0, warm_start=False)\n"
     ]
    }
   ],
   "source": [
    "X_test,y_test, pred_Log_grid, grid_search = grid_search_LR(X, y)"
   ]
  },
  {
   "cell_type": "markdown",
   "metadata": {},
   "source": [
    "## 4.1 get_clf_eval 오차행렬, 정확도, 정밀도, 재현율 구하기 "
   ]
  },
  {
   "cell_type": "code",
   "execution_count": 811,
   "metadata": {},
   "outputs": [],
   "source": [
    "from sklearn.metrics import accuracy_score, precision_score , recall_score , confusion_matrix\n",
    "\n",
    "def get_clf_eval(y_test , pred):\n",
    "    confusion = confusion_matrix( y_test, pred)\n",
    "    accuracy = accuracy_score(y_test , pred)\n",
    "    precision = precision_score(y_test , pred)\n",
    "    recall = recall_score(y_test , pred)\n",
    "    print('오차 행렬')\n",
    "    print(confusion)\n",
    "    print('정확도: {0:.4f}, 정밀도: {1:.4f}, 재현율: {2:.4f}'.format(accuracy , precision ,recall))\n",
    "    return precision, recall"
   ]
  },
  {
   "cell_type": "code",
   "execution_count": 812,
   "metadata": {},
   "outputs": [
    {
     "name": "stdout",
     "output_type": "stream",
     "text": [
      "오차 행렬\n",
      "[[112  13]\n",
      " [ 39  28]]\n",
      "정확도: 0.7292, 정밀도: 0.6829, 재현율: 0.4179\n"
     ]
    }
   ],
   "source": [
    "precision, recall = get_clf_eval(y_test, pred_Log_grid)"
   ]
  },
  {
   "cell_type": "markdown",
   "metadata": {},
   "source": [
    "## 4.2 precision_recall_curve_plot()"
   ]
  },
  {
   "cell_type": "code",
   "execution_count": 813,
   "metadata": {},
   "outputs": [
    {
     "data": {
      "image/png": "[encoded data removed]",
      "text/plain": [
       "<Figure size 576x432 with 1 Axes>"
      ]
     },
     "metadata": {
      "needs_background": "light"
     },
     "output_type": "display_data"
    }
   ],
   "source": [
    "import matplotlib.pyplot as plt\n",
    "import matplotlib.ticker as ticker\n",
    "%matplotlib inline\n",
    "\n",
    "def precision_recall_curve_plot(y_test , pred_proba):\n",
    "    # threshold ndarray와 이 threshold에 따른 정밀도, 재현율 ndarray 추출. \n",
    "    precisions, recalls, thresholds = precision_recall_curve( y_test, pred_proba)\n",
    "    \n",
    "    # X축을 threshold값으로, Y축은 정밀도, 재현율 값으로 각각 Plot 수행. 정밀도는 점선으로 표시\n",
    "    plt.figure(figsize=(8,6))\n",
    "    threshold_boundary = thresholds.shape[0]\n",
    "    plt.plot(thresholds, precisions[0:threshold_boundary], linestyle='--', label='precision')\n",
    "    plt.plot(thresholds, recalls[0:threshold_boundary],label='recall')\n",
    "    \n",
    "    # threshold 값 X 축의 Scale을 0.1 단위로 변경\n",
    "    start, end = plt.xlim()\n",
    "    plt.xticks(np.round(np.arange(start, end, 0.1),2))\n",
    "    \n",
    "    # x축, y축 label과 legend, 그리고 grid 설정\n",
    "    plt.xlabel('Threshold value'); plt.ylabel('Precision and Recall value')\n",
    "    plt.legend(); plt.grid()\n",
    "    plt.show()\n",
    "    \n",
    "precision_recall_curve_plot( y_test, grid_search.predict_proba(X_test)[:, 1] )\n"
   ]
  },
  {
   "cell_type": "markdown",
   "metadata": {},
   "source": [
    "* 그래프로 임계치의 적정선을 확인해보았을 때 0.39~0.45(추정) 에서 정밀도와 재현율의 차이가 적다. \n",
    "* get_eval_by_threshold 매써드로, 해당 임계치의 정확한 정밀도와 재현율 파악해보기"
   ]
  },
  {
   "cell_type": "markdown",
   "metadata": {},
   "source": [
    "## 4.3 get_eval_by_threshold"
   ]
  },
  {
   "cell_type": "code",
   "execution_count": 814,
   "metadata": {
    "scrolled": false
   },
   "outputs": [
    {
     "name": "stdout",
     "output_type": "stream",
     "text": [
      "thresholds value list :  [0.38 0.39 0.4  0.41 0.42 0.43 0.44 0.45]\n",
      "\n",
      "임계값:  0.38\n",
      "오차 행렬\n",
      "[[100  25]\n",
      " [ 18  49]]\n",
      "정확도: 0.7760, 정밀도: 0.6622, 재현율: 0.7313\n",
      "\n",
      "임계값:  0.39\n",
      "오차 행렬\n",
      "[[101  24]\n",
      " [ 20  47]]\n",
      "정확도: 0.7708, 정밀도: 0.6620, 재현율: 0.7015\n",
      "\n",
      "임계값:  0.4\n",
      "오차 행렬\n",
      "[[103  22]\n",
      " [ 21  46]]\n",
      "정확도: 0.7760, 정밀도: 0.6765, 재현율: 0.6866\n",
      "\n",
      "임계값:  0.41000000000000003\n",
      "오차 행렬\n",
      "[[104  21]\n",
      " [ 22  45]]\n",
      "정확도: 0.7760, 정밀도: 0.6818, 재현율: 0.6716\n",
      "\n",
      "임계값:  0.42000000000000004\n",
      "오차 행렬\n",
      "[[104  21]\n",
      " [ 24  43]]\n",
      "정확도: 0.7656, 정밀도: 0.6719, 재현율: 0.6418\n",
      "\n",
      "임계값:  0.43000000000000005\n",
      "오차 행렬\n",
      "[[105  20]\n",
      " [ 25  42]]\n",
      "정확도: 0.7656, 정밀도: 0.6774, 재현율: 0.6269\n",
      "\n",
      "임계값:  0.44000000000000006\n",
      "오차 행렬\n",
      "[[105  20]\n",
      " [ 27  40]]\n",
      "정확도: 0.7552, 정밀도: 0.6667, 재현율: 0.5970\n",
      "\n",
      "임계값:  0.45000000000000007\n",
      "오차 행렬\n",
      "[[106  19]\n",
      " [ 29  38]]\n",
      "정확도: 0.7500, 정밀도: 0.6667, 재현율: 0.5672\n",
      "\n",
      "최적의 임계값 : 0.4000, 정밀도 : 0.6765, 재현율 : 0.6866\n"
     ]
    }
   ],
   "source": [
    "from sklearn.preprocessing import StandardScaler, Binarizer\n",
    "def get_eval_by_threshold(y_test, pred_proba, thresholds):\n",
    "    min = 3\n",
    "    for i in thresholds:\n",
    "        binarizer = Binarizer(threshold=i).fit(pred_proba)\n",
    "        custom_predict = binarizer.transform(pred_proba)\n",
    "        print('\\n임계값: ', i)\n",
    "        precision, recall = get_clf_eval(y_test, custom_predict)\n",
    "        if min > abs(precision - recall):\n",
    "            min = abs(precision - recall)\n",
    "            best_precision = precision\n",
    "            best_recall = recall\n",
    "            best_threshhold = i \n",
    "    print('\\n최적의 임계값 : %.4f, 정밀도 : %.4f, 재현율 : %.4f'%(best_threshhold,best_precision, best_recall))\n",
    "        \n",
    "thresholds = np.arange(0.38, 0.45, 0.01)\n",
    "print('thresholds value list : ', thresholds)\n",
    "pred_proba = grid_search.predict_proba(X_test)\n",
    "get_eval_by_threshold(y_test, pred_proba[:, 1].reshape(-1, 1), thresholds)"
   ]
  },
  {
   "cell_type": "markdown",
   "metadata": {},
   "source": [
    "## 임계값이 약 0.4 일때 정밀도와 재현율의 차이가 크지않지만, 정밀도와 재현율이 높지않아 모델에 입력될 데이터를 좀더 손본다.  \n"
   ]
  },
  {
   "cell_type": "markdown",
   "metadata": {},
   "source": [
    "## 5. 피쳐들의 분포도를 확인해보기 "
   ]
  },
  {
   "cell_type": "code",
   "execution_count": 815,
   "metadata": {
    "scrolled": false
   },
   "outputs": [
    {
     "data": {
      "image/png": "[encoded data removed]",
      "text/plain": [
       "<Figure size 360x360 with 1 Axes>"
      ]
     },
     "metadata": {
      "needs_background": "light"
     },
     "output_type": "display_data"
    },
    {
     "data": {
      "image/png": "[encoded data removed]",
      "text/plain": [
       "<Figure size 360x360 with 1 Axes>"
      ]
     },
     "metadata": {
      "needs_background": "light"
     },
     "output_type": "display_data"
    },
    {
     "data": {
      "image/png": "[encoded data removed]",
      "text/plain": [
       "<Figure size 360x360 with 1 Axes>"
      ]
     },
     "metadata": {
      "needs_background": "light"
     },
     "output_type": "display_data"
    },
    {
     "data": {
      "image/png": "[encoded data removed]",
      "text/plain": [
       "<Figure size 360x360 with 1 Axes>"
      ]
     },
     "metadata": {
      "needs_background": "light"
     },
     "output_type": "display_data"
    },
    {
     "data": {
      "image/png": "[encoded data removed]",
      "text/plain": [
       "<Figure size 360x360 with 1 Axes>"
      ]
     },
     "metadata": {
      "needs_background": "light"
     },
     "output_type": "display_data"
    },
    {
     "data": {
      "image/png": "[encoded data removed]",
      "text/plain": [
       "<Figure size 360x360 with 1 Axes>"
      ]
     },
     "metadata": {
      "needs_background": "light"
     },
     "output_type": "display_data"
    },
    {
     "data": {
      "image/png": "[encoded data removed]",
      "text/plain": [
       "<Figure size 360x360 with 1 Axes>"
      ]
     },
     "metadata": {
      "needs_background": "light"
     },
     "output_type": "display_data"
    },
    {
     "data": {
      "image/png": "[encoded data removed]",
      "text/plain": [
       "<Figure size 360x360 with 1 Axes>"
      ]
     },
     "metadata": {
      "needs_background": "light"
     },
     "output_type": "display_data"
    }
   ],
   "source": [
    "X_column_list = X.columns\n",
    "def get_hist(data):\n",
    "    for i in X_column_list:\n",
    "        ax = plt.figure(figsize=(5,5))\n",
    "        ax = plt.hist(X[i])\n",
    "        ax = plt.title('Histogram of '+i)\n",
    "        ax\n",
    "get_hist(X)"
   ]
  },
  {
   "cell_type": "markdown",
   "metadata": {},
   "source": [
    "## 각 컬럼별, 0이 들어간 데이터 확인하기."
   ]
  },
  {
   "cell_type": "code",
   "execution_count": 816,
   "metadata": {},
   "outputs": [],
   "source": [
    "def get_per_of_Zero(X):\n",
    "        df = pd.DataFrame(index=X.columns, columns={'count', 'per'})\n",
    "        for i in X.columns:\n",
    "            df.loc[i]['count'] = X[X[i]==0].shape[0]\n",
    "            df.loc[i]['per'] = str(np.round(X[X[i]==0].shape[0]/X.shape[0] *100,2))+'%'\n",
    "        print(df)"
   ]
  },
  {
   "cell_type": "code",
   "execution_count": 817,
   "metadata": {},
   "outputs": [
    {
     "name": "stdout",
     "output_type": "stream",
     "text": [
      "                         count     per\n",
      "Pregnancies                111  14.45%\n",
      "Glucose                      5   0.65%\n",
      "BloodPressure               35   4.56%\n",
      "SkinThickness              227  29.56%\n",
      "Insulin                    374   48.7%\n",
      "BMI                         11   1.43%\n",
      "DiabetesPedigreeFunction     0    0.0%\n",
      "Age                          0    0.0%\n"
     ]
    }
   ],
   "source": [
    "get_per_of_Zero(X)"
   ]
  },
  {
   "cell_type": "markdown",
   "metadata": {},
   "source": [
    "* 각 컬럼별, 0의 값이 들어간 데이터가 너무 많아(특히나 Insulin, SkinThickness) 실질적으로 모델링에 좋지않은 셋 형태이므로, 우선적으로는 각 컬럼별로, 나이대에 비교하여 median으로 수치화해주어본다. \n",
    "* 추가 - insulin는 사람마다 0의 수치가 들어갈 때도 있다고 한다..! - 따라서 median값으로 대체될 컬럼에서 제외해본다!"
   ]
  },
  {
   "cell_type": "code",
   "execution_count": 818,
   "metadata": {},
   "outputs": [],
   "source": [
    "X = X.drop(columns='Insulin')\n",
    "Age_relist = []\n",
    "for i in X['Age']:\n",
    "    Age_relist.append(i//10)\n",
    "X['Age'] = Age_relist\n",
    "median_df = pd.DataFrame(X.groupby('Age').median())"
   ]
  },
  {
   "cell_type": "markdown",
   "metadata": {},
   "source": [
    "* 먼저, 예를 들어 53세를 5, 24세를 2와 같이 수치화 해줘서 범주형 변수로 지정해준 다음, 해당 'Age' 컬럼을 기준으로 그룹화 하여, 모든 컬럼의 median 값을 저장하는 데이터 프레임을 만든다. "
   ]
  },
  {
   "cell_type": "code",
   "execution_count": 819,
   "metadata": {},
   "outputs": [],
   "source": [
    "for x in X.columns:\n",
    "    for y in X[X[x]==0].index:\n",
    "        if X.loc[y]['Age'] in median_df.index:\n",
    "            median_data = median_df.loc[X.loc[y]['Age']][x]\n",
    "            X.loc[y,x]= median_data"
   ]
  },
  {
   "cell_type": "markdown",
   "metadata": {},
   "source": [
    "* 수치화된 'Age'컬럼이 있는 기존 데이터 셋에서, 데이터포인트가 0인 컬럼을 median 데이터 프레임의 'Age'와 비교하여 컬럼의 '0'data를 나이별 median값으로 대체한다. "
   ]
  },
  {
   "cell_type": "code",
   "execution_count": 820,
   "metadata": {
    "scrolled": true
   },
   "outputs": [],
   "source": [
    "X['Insulin'] = diabets['Insulin']"
   ]
  },
  {
   "cell_type": "code",
   "execution_count": 821,
   "metadata": {},
   "outputs": [
    {
     "name": "stdout",
     "output_type": "stream",
     "text": [
      "                         count    per\n",
      "Pregnancies                  0   0.0%\n",
      "Glucose                      0   0.0%\n",
      "BloodPressure                0   0.0%\n",
      "SkinThickness               18  2.34%\n",
      "BMI                          0   0.0%\n",
      "DiabetesPedigreeFunction     0   0.0%\n",
      "Age                          0   0.0%\n",
      "Insulin                    374  48.7%\n"
     ]
    }
   ],
   "source": [
    "get_per_of_Zero(X)"
   ]
  },
  {
   "cell_type": "markdown",
   "metadata": {},
   "source": [
    "* median 값으로 대체하였음이도, SkinThickness 컬럼의 '0' 데이터가 존재한다. 정확한 의학적 지식이 없어 0이어도 되는 수치인지는 모르기 때문에, 해당컬럼에는 다른 컬럼과 비교하여 대체해줄 값이 있는지 확인해본다. "
   ]
  },
  {
   "cell_type": "code",
   "execution_count": 822,
   "metadata": {},
   "outputs": [
    {
     "data": {
      "text/html": [
       "<div>\n",
       "<style scoped>\n",
       "    .dataframe tbody tr th:only-of-type {\n",
       "        vertical-align: middle;\n",
       "    }\n",
       "\n",
       "    .dataframe tbody tr th {\n",
       "        vertical-align: top;\n",
       "    }\n",
       "\n",
       "    .dataframe thead th {\n",
       "        text-align: right;\n",
       "    }\n",
       "</style>\n",
       "<table border=\"1\" class=\"dataframe\">\n",
       "  <thead>\n",
       "    <tr style=\"text-align: right;\">\n",
       "      <th></th>\n",
       "      <th>Pregnancies</th>\n",
       "      <th>Glucose</th>\n",
       "      <th>BloodPressure</th>\n",
       "      <th>SkinThickness</th>\n",
       "      <th>BMI</th>\n",
       "      <th>DiabetesPedigreeFunction</th>\n",
       "    </tr>\n",
       "    <tr>\n",
       "      <th>Age</th>\n",
       "      <th></th>\n",
       "      <th></th>\n",
       "      <th></th>\n",
       "      <th></th>\n",
       "      <th></th>\n",
       "      <th></th>\n",
       "    </tr>\n",
       "  </thead>\n",
       "  <tbody>\n",
       "    <tr>\n",
       "      <th>2</th>\n",
       "      <td>2.0</td>\n",
       "      <td>109.0</td>\n",
       "      <td>68.0</td>\n",
       "      <td>23.0</td>\n",
       "      <td>31.20</td>\n",
       "      <td>0.3655</td>\n",
       "    </tr>\n",
       "    <tr>\n",
       "      <th>3</th>\n",
       "      <td>5.0</td>\n",
       "      <td>122.0</td>\n",
       "      <td>74.0</td>\n",
       "      <td>22.0</td>\n",
       "      <td>32.00</td>\n",
       "      <td>0.4200</td>\n",
       "    </tr>\n",
       "    <tr>\n",
       "      <th>4</th>\n",
       "      <td>7.0</td>\n",
       "      <td>122.5</td>\n",
       "      <td>76.0</td>\n",
       "      <td>25.0</td>\n",
       "      <td>33.95</td>\n",
       "      <td>0.3330</td>\n",
       "    </tr>\n",
       "    <tr>\n",
       "      <th>5</th>\n",
       "      <td>7.0</td>\n",
       "      <td>139.0</td>\n",
       "      <td>78.0</td>\n",
       "      <td>21.0</td>\n",
       "      <td>32.80</td>\n",
       "      <td>0.4520</td>\n",
       "    </tr>\n",
       "    <tr>\n",
       "      <th>6</th>\n",
       "      <td>5.0</td>\n",
       "      <td>136.0</td>\n",
       "      <td>78.0</td>\n",
       "      <td>0.0</td>\n",
       "      <td>28.80</td>\n",
       "      <td>0.4190</td>\n",
       "    </tr>\n",
       "    <tr>\n",
       "      <th>7</th>\n",
       "      <td>3.0</td>\n",
       "      <td>132.0</td>\n",
       "      <td>41.0</td>\n",
       "      <td>9.0</td>\n",
       "      <td>26.05</td>\n",
       "      <td>0.5335</td>\n",
       "    </tr>\n",
       "    <tr>\n",
       "      <th>8</th>\n",
       "      <td>9.0</td>\n",
       "      <td>134.0</td>\n",
       "      <td>74.0</td>\n",
       "      <td>33.0</td>\n",
       "      <td>25.90</td>\n",
       "      <td>0.4600</td>\n",
       "    </tr>\n",
       "  </tbody>\n",
       "</table>\n",
       "</div>"
      ],
      "text/plain": [
       "     Pregnancies  Glucose  BloodPressure  SkinThickness    BMI  \\\n",
       "Age                                                              \n",
       "2            2.0    109.0           68.0           23.0  31.20   \n",
       "3            5.0    122.0           74.0           22.0  32.00   \n",
       "4            7.0    122.5           76.0           25.0  33.95   \n",
       "5            7.0    139.0           78.0           21.0  32.80   \n",
       "6            5.0    136.0           78.0            0.0  28.80   \n",
       "7            3.0    132.0           41.0            9.0  26.05   \n",
       "8            9.0    134.0           74.0           33.0  25.90   \n",
       "\n",
       "     DiabetesPedigreeFunction  \n",
       "Age                            \n",
       "2                      0.3655  \n",
       "3                      0.4200  \n",
       "4                      0.3330  \n",
       "5                      0.4520  \n",
       "6                      0.4190  \n",
       "7                      0.5335  \n",
       "8                      0.4600  "
      ]
     },
     "execution_count": 822,
     "metadata": {},
     "output_type": "execute_result"
    }
   ],
   "source": [
    "median_df"
   ]
  },
  {
   "cell_type": "markdown",
   "metadata": {},
   "source": [
    "* age(범주화한)별로 각 컬럼의 median값을 구분 하였을때, 60대에서의 SkinThickness 컬럼의 median 수치가 0으로 나왔다. 이럴땐 어떤 값을 대처해줘야하나..? -> 더고민해보기"
   ]
  },
  {
   "cell_type": "code",
   "execution_count": 823,
   "metadata": {
    "scrolled": true
   },
   "outputs": [
    {
     "name": "stdout",
     "output_type": "stream",
     "text": [
      "매개변수 그리드: \n",
      " {'C': [0.001, 0.01, 0.1, 1, 10, 100, 100]}\n",
      "트레인 세트 점수 : 0.78\n",
      "검증 세트 점수 : 0.77\n",
      "테스트 세트 점수 : 0.78\n",
      "최적 매개변수: {'C': 100}\n",
      "최고 교차 검증 점수: 0.7754629629629629\n",
      "최고 성능 모델: LogisticRegression(C=100, class_weight=None, dual=False, fit_intercept=True,\n",
      "          intercept_scaling=1, max_iter=100, multi_class='ovr', n_jobs=1,\n",
      "          penalty='l2', random_state=None, solver='liblinear', tol=0.0001,\n",
      "          verbose=0, warm_start=False)\n"
     ]
    }
   ],
   "source": [
    "y = diabets['Outcome']\n",
    "X_test,y_test, pred_Log_grid, grid_search = grid_search_LR(X, y)"
   ]
  },
  {
   "cell_type": "markdown",
   "metadata": {},
   "source": [
    "### 테스트셋 점수가 오르긴 했으니 다시 성능평가 지표를 출력"
   ]
  },
  {
   "cell_type": "code",
   "execution_count": 824,
   "metadata": {},
   "outputs": [
    {
     "name": "stdout",
     "output_type": "stream",
     "text": [
      "오차 행렬\n",
      "[[112  13]\n",
      " [ 29  38]]\n",
      "정확도: 0.7812, 정밀도: 0.7451, 재현율: 0.5672\n"
     ]
    },
    {
     "data": {
      "text/plain": [
       "(0.7450980392156863, 0.5671641791044776)"
      ]
     },
     "execution_count": 824,
     "metadata": {},
     "output_type": "execute_result"
    }
   ],
   "source": [
    "get_clf_eval(y_test, pred_Log_grid)"
   ]
  },
  {
   "cell_type": "code",
   "execution_count": 825,
   "metadata": {},
   "outputs": [
    {
     "data": {
      "image/png": "[encoded data removed]",
      "text/plain": [
       "<Figure size 576x432 with 1 Axes>"
      ]
     },
     "metadata": {
      "needs_background": "light"
     },
     "output_type": "display_data"
    }
   ],
   "source": [
    "precision_recall_curve_plot(y_test, grid_search.predict_proba(X_test)[:, 1] )"
   ]
  },
  {
   "cell_type": "markdown",
   "metadata": {},
   "source": [
    "### 마찬가지로, 0.35~0.45 임계치 사이에서 정밀도와 재현율의 차이가 가장 적으니, 해당 범위내 임계값에서의 정확한 수치를 분석해본다. "
   ]
  },
  {
   "cell_type": "code",
   "execution_count": 826,
   "metadata": {},
   "outputs": [
    {
     "name": "stdout",
     "output_type": "stream",
     "text": [
      "thresholds value list :  [0.35 0.36 0.37 0.38 0.39 0.4  0.41 0.42 0.43 0.44 0.45]\n",
      "\n",
      "임계값:  0.35\n",
      "오차 행렬\n",
      "[[99 26]\n",
      " [14 53]]\n",
      "정확도: 0.7917, 정밀도: 0.6709, 재현율: 0.7910\n",
      "\n",
      "임계값:  0.36\n",
      "오차 행렬\n",
      "[[101  24]\n",
      " [ 16  51]]\n",
      "정확도: 0.7917, 정밀도: 0.6800, 재현율: 0.7612\n",
      "\n",
      "임계값:  0.37\n",
      "오차 행렬\n",
      "[[101  24]\n",
      " [ 16  51]]\n",
      "정확도: 0.7917, 정밀도: 0.6800, 재현율: 0.7612\n",
      "\n",
      "임계값:  0.38\n",
      "오차 행렬\n",
      "[[101  24]\n",
      " [ 18  49]]\n",
      "정확도: 0.7812, 정밀도: 0.6712, 재현율: 0.7313\n",
      "\n",
      "임계값:  0.39\n",
      "오차 행렬\n",
      "[[102  23]\n",
      " [ 19  48]]\n",
      "정확도: 0.7812, 정밀도: 0.6761, 재현율: 0.7164\n",
      "\n",
      "임계값:  0.4\n",
      "오차 행렬\n",
      "[[104  21]\n",
      " [ 20  47]]\n",
      "정확도: 0.7865, 정밀도: 0.6912, 재현율: 0.7015\n",
      "\n",
      "임계값:  0.41000000000000003\n",
      "오차 행렬\n",
      "[[104  21]\n",
      " [ 20  47]]\n",
      "정확도: 0.7865, 정밀도: 0.6912, 재현율: 0.7015\n",
      "\n",
      "임계값:  0.42000000000000004\n",
      "오차 행렬\n",
      "[[105  20]\n",
      " [ 23  44]]\n",
      "정확도: 0.7760, 정밀도: 0.6875, 재현율: 0.6567\n",
      "\n",
      "임계값:  0.43000000000000005\n",
      "오차 행렬\n",
      "[[107  18]\n",
      " [ 24  43]]\n",
      "정확도: 0.7812, 정밀도: 0.7049, 재현율: 0.6418\n",
      "\n",
      "임계값:  0.44000000000000006\n",
      "오차 행렬\n",
      "[[108  17]\n",
      " [ 24  43]]\n",
      "정확도: 0.7865, 정밀도: 0.7167, 재현율: 0.6418\n",
      "\n",
      "임계값:  0.45000000000000007\n",
      "오차 행렬\n",
      "[[109  16]\n",
      " [ 25  42]]\n",
      "정확도: 0.7865, 정밀도: 0.7241, 재현율: 0.6269\n",
      "\n",
      "최적의 임계값 : 0.4000, 정밀도 : 0.6912, 재현율 : 0.7015\n"
     ]
    }
   ],
   "source": [
    "thresholds = np.arange(0.35, 0.45, 0.01)\n",
    "print('thresholds value list : ', thresholds)\n",
    "pred_proba = grid_search.predict_proba(X_test)\n",
    "get_eval_by_threshold(y_test, pred_proba[:, 1].reshape(-1, 1), thresholds)"
   ]
  },
  {
   "cell_type": "markdown",
   "metadata": {},
   "source": [
    "###  1. 데이터셋 정제 전의 최적의 성능 분석 결과: 최적의 임계값 : \n",
    "#### - 인슐린 컬럼을 넣었을 때 : 최적의 임계값 : 0.4000, 정밀도 : 0.6765, 재현율 : 0.6866 \n",
    "* LogisticRegression - 트레인 세트 점수 : 0.75, 검증 세트 점수 : 0.76, 테스트 세트 점수 : 0.74\n",
    "\n",
    "#### - 인슐린 컬럼을 뺏을 때  : 최적의 임계값 : 0.4200, 정밀도 : 0.6667, 재현율 : 0.6567\n",
    "*  LogisticRegression - 트레인 세트 점수 : 0.75, 검증 세트 점수 : 0.76, 테스트 세트 점수 : 0.74\n",
    " \n",
    "### 2. '0' 데이터포인트를 age간의 median값으로 대체해준 결과 : \n",
    "#### - 인슐린 컬럼을 넣었을 때 : 최적의 임계값 : 0.4000, 정밀도 : 0.6912, 재현율 : 0.7015\n",
    "* LogisticRegression -트레인 세트 점수 : 0.78, 검증 세트 점수 : 0.77, 테스트 세트 점수 : 0.78 \n",
    "\n",
    "#### - 인슐린 컬럼을 뺏을 때  : 최적의 임계값 : 0.4200, 정밀도 : 0.6818, 재현율 : 0.6716\n",
    "* LogisticRegression -트레인 세트 점수 : 0.78, 검증 세트 점수 : 0.78, 테스트 세트 점수 : 0.77\n",
    "\n"
   ]
  },
  {
   "cell_type": "markdown",
   "metadata": {},
   "source": [
    "\n",
    "### 크지는 않지만, 정밀도와 재현율에서 확실한 차이를 보여주고 있기 때문에 정제후 데이터를 입력한 모델(Insulin 포함)에 대해 임계값 0.40로 성능 분석을 해보자!"
   ]
  },
  {
   "cell_type": "markdown",
   "metadata": {},
   "source": [
    "## f1_score, roc_curve, AUC"
   ]
  },
  {
   "cell_type": "code",
   "execution_count": 827,
   "metadata": {},
   "outputs": [
    {
     "name": "stdout",
     "output_type": "stream",
     "text": [
      "로지스틱 회귀 모델의 classification_report:\n",
      "               precision    recall  f1-score   support\n",
      "\n",
      "          1       0.79      0.90      0.84       125\n",
      "          0       0.75      0.57      0.64        67\n",
      "\n",
      "avg / total       0.78      0.78      0.77       192\n",
      "\n"
     ]
    }
   ],
   "source": [
    "from sklearn.metrics import classification_report\n",
    "print('로지스틱 회귀 모델의 classification_report:\\n ',classification_report(y_test, pred_Log_grid, target_names =['1', '0']))"
   ]
  },
  {
   "cell_type": "code",
   "execution_count": 828,
   "metadata": {},
   "outputs": [
    {
     "data": {
      "image/png": "[encoded data removed]",
      "text/plain": [
       "<Figure size 432x288 with 1 Axes>"
      ]
     },
     "metadata": {
      "needs_background": "light"
     },
     "output_type": "display_data"
    }
   ],
   "source": [
    "def roc_curve_plot(y_test , pred_proba_c1):\n",
    "    # 임곗값에 따른 FPR, TPR 값을 반환 받음. \n",
    "    fprs , tprs , thresholds = roc_curve(y_test ,pred_proba_c1)\n",
    "\n",
    "    # ROC Curve를 plot 곡선으로 그림. \n",
    "    plt.plot(fprs , tprs, label='ROC')\n",
    "    # 가운데 대각선 직선을 그림. \n",
    "    plt.plot([0, 1], [0, 1], 'k--', label='Random')\n",
    "    \n",
    "    # FPR X 축의 Scale을 0.1 단위로 변경, X,Y 축명 설정등   \n",
    "    start, end = plt.xlim()\n",
    "    plt.xticks(np.round(np.arange(start, end, 0.1),2))\n",
    "    plt.xlim(0,1); plt.ylim(0,1)\n",
    "    plt.xlabel('FPR( 1 - Sensitivity )'); plt.ylabel('TPR( Recall )')\n",
    "    plt.legend()\n",
    "    plt.show()\n",
    "    \n",
    "roc_curve_plot(y_test, grid_search.predict_proba(X_test)[:, 1] )\n"
   ]
  },
  {
   "cell_type": "code",
   "execution_count": 829,
   "metadata": {},
   "outputs": [
    {
     "name": "stdout",
     "output_type": "stream",
     "text": [
      "LogisticRegression의 AUC: 0.8744\n"
     ]
    }
   ],
   "source": [
    "from sklearn.metrics import roc_auc_score\n",
    "rf_auc = roc_auc_score(y_test, grid_search.predict_proba(X_test)[:, 1])\n",
    "print(\"LogisticRegression의 AUC: {:.4f}\".format(rf_auc))\n"
   ]
  }
 ],
 "metadata": {
  "kernelspec": {
   "display_name": "Python 3",
   "language": "python",
   "name": "python3"
  },
  "language_info": {
   "codemirror_mode": {
    "name": "ipython",
    "version": 3
   },
   "file_extension": ".py",
   "mimetype": "text/x-python",
   "name": "python",
   "nbconvert_exporter": "python",
   "pygments_lexer": "ipython3",
   "version": "3.7.0"
  }
 },
 "nbformat": 4,
 "nbformat_minor": 2
}
