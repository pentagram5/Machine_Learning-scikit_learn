{
 "cells": [
  {
   "cell_type": "code",
   "execution_count": 45,
   "metadata": {},
   "outputs": [],
   "source": [
    "import pandas as pd \n",
    "import numpy as np"
   ]
  },
  {
   "cell_type": "code",
   "execution_count": 46,
   "metadata": {},
   "outputs": [],
   "source": [
    "mushroom = pd.read_csv('../data/mushroom.csv', header=None)"
   ]
  },
  {
   "cell_type": "markdown",
   "metadata": {},
   "source": [
    "## 범주형 데이터 라벨링"
   ]
  },
  {
   "cell_type": "code",
   "execution_count": 47,
   "metadata": {},
   "outputs": [],
   "source": [
    "from sklearn.preprocessing import LabelEncoder\n",
    "\n",
    "encoder = LabelEncoder()\n",
    "for i in range(mushroom.shape[1]):\n",
    "    mushroom.iloc[:,i] = encoder.fit_transform(mushroom.iloc[:,i])\n"
   ]
  },
  {
   "cell_type": "code",
   "execution_count": 48,
   "metadata": {},
   "outputs": [
    {
     "data": {
      "text/html": [
       "<div>\n",
       "<style scoped>\n",
       "    .dataframe tbody tr th:only-of-type {\n",
       "        vertical-align: middle;\n",
       "    }\n",
       "\n",
       "    .dataframe tbody tr th {\n",
       "        vertical-align: top;\n",
       "    }\n",
       "\n",
       "    .dataframe thead th {\n",
       "        text-align: right;\n",
       "    }\n",
       "</style>\n",
       "<table border=\"1\" class=\"dataframe\">\n",
       "  <thead>\n",
       "    <tr style=\"text-align: right;\">\n",
       "      <th></th>\n",
       "      <th>0</th>\n",
       "      <th>1</th>\n",
       "      <th>2</th>\n",
       "      <th>3</th>\n",
       "      <th>4</th>\n",
       "      <th>5</th>\n",
       "      <th>6</th>\n",
       "      <th>7</th>\n",
       "      <th>8</th>\n",
       "      <th>9</th>\n",
       "      <th>...</th>\n",
       "      <th>13</th>\n",
       "      <th>14</th>\n",
       "      <th>15</th>\n",
       "      <th>16</th>\n",
       "      <th>17</th>\n",
       "      <th>18</th>\n",
       "      <th>19</th>\n",
       "      <th>20</th>\n",
       "      <th>21</th>\n",
       "      <th>22</th>\n",
       "    </tr>\n",
       "  </thead>\n",
       "  <tbody>\n",
       "    <tr>\n",
       "      <th>0</th>\n",
       "      <td>1</td>\n",
       "      <td>5</td>\n",
       "      <td>2</td>\n",
       "      <td>4</td>\n",
       "      <td>1</td>\n",
       "      <td>6</td>\n",
       "      <td>1</td>\n",
       "      <td>0</td>\n",
       "      <td>1</td>\n",
       "      <td>4</td>\n",
       "      <td>...</td>\n",
       "      <td>2</td>\n",
       "      <td>7</td>\n",
       "      <td>7</td>\n",
       "      <td>0</td>\n",
       "      <td>2</td>\n",
       "      <td>1</td>\n",
       "      <td>4</td>\n",
       "      <td>2</td>\n",
       "      <td>3</td>\n",
       "      <td>5</td>\n",
       "    </tr>\n",
       "    <tr>\n",
       "      <th>1</th>\n",
       "      <td>0</td>\n",
       "      <td>5</td>\n",
       "      <td>2</td>\n",
       "      <td>9</td>\n",
       "      <td>1</td>\n",
       "      <td>0</td>\n",
       "      <td>1</td>\n",
       "      <td>0</td>\n",
       "      <td>0</td>\n",
       "      <td>4</td>\n",
       "      <td>...</td>\n",
       "      <td>2</td>\n",
       "      <td>7</td>\n",
       "      <td>7</td>\n",
       "      <td>0</td>\n",
       "      <td>2</td>\n",
       "      <td>1</td>\n",
       "      <td>4</td>\n",
       "      <td>3</td>\n",
       "      <td>2</td>\n",
       "      <td>1</td>\n",
       "    </tr>\n",
       "    <tr>\n",
       "      <th>2</th>\n",
       "      <td>0</td>\n",
       "      <td>0</td>\n",
       "      <td>2</td>\n",
       "      <td>8</td>\n",
       "      <td>1</td>\n",
       "      <td>3</td>\n",
       "      <td>1</td>\n",
       "      <td>0</td>\n",
       "      <td>0</td>\n",
       "      <td>5</td>\n",
       "      <td>...</td>\n",
       "      <td>2</td>\n",
       "      <td>7</td>\n",
       "      <td>7</td>\n",
       "      <td>0</td>\n",
       "      <td>2</td>\n",
       "      <td>1</td>\n",
       "      <td>4</td>\n",
       "      <td>3</td>\n",
       "      <td>2</td>\n",
       "      <td>3</td>\n",
       "    </tr>\n",
       "    <tr>\n",
       "      <th>3</th>\n",
       "      <td>1</td>\n",
       "      <td>5</td>\n",
       "      <td>3</td>\n",
       "      <td>8</td>\n",
       "      <td>1</td>\n",
       "      <td>6</td>\n",
       "      <td>1</td>\n",
       "      <td>0</td>\n",
       "      <td>1</td>\n",
       "      <td>5</td>\n",
       "      <td>...</td>\n",
       "      <td>2</td>\n",
       "      <td>7</td>\n",
       "      <td>7</td>\n",
       "      <td>0</td>\n",
       "      <td>2</td>\n",
       "      <td>1</td>\n",
       "      <td>4</td>\n",
       "      <td>2</td>\n",
       "      <td>3</td>\n",
       "      <td>5</td>\n",
       "    </tr>\n",
       "    <tr>\n",
       "      <th>4</th>\n",
       "      <td>0</td>\n",
       "      <td>5</td>\n",
       "      <td>2</td>\n",
       "      <td>3</td>\n",
       "      <td>0</td>\n",
       "      <td>5</td>\n",
       "      <td>1</td>\n",
       "      <td>1</td>\n",
       "      <td>0</td>\n",
       "      <td>4</td>\n",
       "      <td>...</td>\n",
       "      <td>2</td>\n",
       "      <td>7</td>\n",
       "      <td>7</td>\n",
       "      <td>0</td>\n",
       "      <td>2</td>\n",
       "      <td>1</td>\n",
       "      <td>0</td>\n",
       "      <td>3</td>\n",
       "      <td>0</td>\n",
       "      <td>1</td>\n",
       "    </tr>\n",
       "  </tbody>\n",
       "</table>\n",
       "<p>5 rows × 23 columns</p>\n",
       "</div>"
      ],
      "text/plain": [
       "   0   1   2   3   4   5   6   7   8   9   ...  13  14  15  16  17  18  19  \\\n",
       "0   1   5   2   4   1   6   1   0   1   4  ...   2   7   7   0   2   1   4   \n",
       "1   0   5   2   9   1   0   1   0   0   4  ...   2   7   7   0   2   1   4   \n",
       "2   0   0   2   8   1   3   1   0   0   5  ...   2   7   7   0   2   1   4   \n",
       "3   1   5   3   8   1   6   1   0   1   5  ...   2   7   7   0   2   1   4   \n",
       "4   0   5   2   3   0   5   1   1   0   4  ...   2   7   7   0   2   1   0   \n",
       "\n",
       "   20  21  22  \n",
       "0   2   3   5  \n",
       "1   3   2   1  \n",
       "2   3   2   3  \n",
       "3   2   3   5  \n",
       "4   3   0   1  \n",
       "\n",
       "[5 rows x 23 columns]"
      ]
     },
     "execution_count": 48,
     "metadata": {},
     "output_type": "execute_result"
    }
   ],
   "source": [
    "mushroom.head()"
   ]
  },
  {
   "cell_type": "code",
   "execution_count": 49,
   "metadata": {},
   "outputs": [],
   "source": [
    "X = mushroom.iloc[:,1:]\n",
    "y = mushroom.iloc[:,0]"
   ]
  },
  {
   "cell_type": "markdown",
   "metadata": {},
   "source": [
    "## 훈련, 검증, 테스트 셋나누기 "
   ]
  },
  {
   "cell_type": "code",
   "execution_count": 50,
   "metadata": {},
   "outputs": [
    {
     "name": "stdout",
     "output_type": "stream",
     "text": [
      "훈련 세트의 크기:4569\n",
      "검증 세트의 크기:1524\n",
      "테스트 세트의 크기:2031\n"
     ]
    }
   ],
   "source": [
    "from sklearn.model_selection import train_test_split\n",
    "X_trainval, X_test, y_trainval, y_test=  train_test_split(X, y, random_state=0)\n",
    "X_train, X_valid, y_train, y_valid = train_test_split(X_trainval, y_trainval, random_state=1)  \n",
    "print('훈련 세트의 크기:{}\\n검증 세트의 크기:{}\\n테스트 세트의 크기:{}'.format(X_train.shape[0], X_valid.shape[0], X_test.shape[0]))"
   ]
  },
  {
   "cell_type": "markdown",
   "metadata": {},
   "source": [
    "## feature 정규화"
   ]
  },
  {
   "cell_type": "code",
   "execution_count": 51,
   "metadata": {},
   "outputs": [],
   "source": [
    "X_train = np.log1p(X_train)\n",
    "X_test = np.log1p(X_test)\n",
    "X_trainval = np.log1p(X_trainval)"
   ]
  },
  {
   "cell_type": "markdown",
   "metadata": {},
   "source": [
    "## grid_search - SVC"
   ]
  },
  {
   "cell_type": "code",
   "execution_count": 52,
   "metadata": {},
   "outputs": [
    {
     "data": {
      "application/vnd.jupyter.widget-view+json": {
       "model_id": "713073713d614abc9cdb3f3ecc5a443a",
       "version_major": 2,
       "version_minor": 0
      },
      "text/plain": [
       "HBox(children=(IntProgress(value=0, max=6), HTML(value='')))"
      ]
     },
     "metadata": {},
     "output_type": "display_data"
    },
    {
     "name": "stdout",
     "output_type": "stream",
     "text": [
      "\n",
      "best score ==> 0.850\n",
      "best parameter ==> {'C': 100, 'gamma': 0.001}\n"
     ]
    }
   ],
   "source": [
    "from sklearn.svm import SVC\n",
    "from tqdm import tqdm_notebook\n",
    "\n",
    "best_score = 0\n",
    "for gamma in tqdm_notebook([0.001, 0.01, 0.1, 1, 10, 100]):\n",
    "    for C in [0.001, 0.01, 0.1, 1, 10, 100]:\n",
    "        #매개변수의 각 조합에 대해SVC를 훈련시킵니다\n",
    "        svm=SVC(gamma=gamma, C=C).fit(X_train, y_train)\n",
    "        score = svm.score(X_valid, y_valid)\n",
    "        if score > best_score:\n",
    "            best_score = score\n",
    "            best_param = {'C':C, 'gamma':gamma}\n",
    "print('best score ==> {:.3f}'.format(best_score))\n",
    "print('best parameter ==> {}'.format(best_param))"
   ]
  },
  {
   "cell_type": "code",
   "execution_count": 53,
   "metadata": {},
   "outputs": [
    {
     "name": "stdout",
     "output_type": "stream",
     "text": [
      "최적 매개변수 점수 ==> 0.850\n",
      "최적 매개변수 ==> {'C': 100, 'gamma': 0.001}\n",
      "최적 매개변수에서 test ==> 0.955\n"
     ]
    }
   ],
   "source": [
    "#훈련세트와 검증세트를 합쳐 모델을 다시 만든후\n",
    "#테스트 세트를 사용해 평가한다\n",
    "svm=SVC(**best_param).fit(X_trainval, y_trainval)\n",
    "test_score=svm.score(X_test,y_test)\n",
    "pred_svm = svm.predict(X_test)\n",
    "print('최적 매개변수 점수 ==> {:.3f}'.format(best_score))\n",
    "print('최적 매개변수 ==> {}'.format(best_param))\n",
    "print('최적 매개변수에서 test ==> {:.3f}'.format(test_score))"
   ]
  },
  {
   "cell_type": "markdown",
   "metadata": {},
   "source": [
    "## 최적 매개변수에서의 SVC score, classfication_report"
   ]
  },
  {
   "cell_type": "code",
   "execution_count": 54,
   "metadata": {},
   "outputs": [
    {
     "name": "stdout",
     "output_type": "stream",
     "text": [
      "SVC 모델의 accuracy score:0.95\n"
     ]
    }
   ],
   "source": [
    "from sklearn.metrics import accuracy_score\n",
    "print('SVC 모델의 accuracy score:{:.2f}'.format(accuracy_score(y_test, pred_svm)))"
   ]
  },
  {
   "cell_type": "code",
   "execution_count": 55,
   "metadata": {},
   "outputs": [
    {
     "name": "stdout",
     "output_type": "stream",
     "text": [
      "SVC 더미 모델의 classification_report :\n",
      "               precision    recall  f1-score   support\n",
      "\n",
      "          독       0.95      0.96      0.96      1061\n",
      "         식용       0.96      0.95      0.95       970\n",
      "\n",
      "avg / total       0.95      0.95      0.95      2031\n",
      "\n"
     ]
    }
   ],
   "source": [
    "from sklearn.metrics import classification_report\n",
    "print('SVC 더미 모델의 classification_report :\\n ',classification_report(y_test, pred_svm, target_names =['독', '식용']))"
   ]
  },
  {
   "cell_type": "markdown",
   "metadata": {},
   "source": [
    "## KNeighborsClassifier-accuracy_score"
   ]
  },
  {
   "cell_type": "code",
   "execution_count": 56,
   "metadata": {},
   "outputs": [
    {
     "name": "stdout",
     "output_type": "stream",
     "text": [
      "KNN기반 모델의 accuracy :1.00\n"
     ]
    }
   ],
   "source": [
    "from sklearn.neighbors import KNeighborsClassifier\n",
    "reg = KNeighborsClassifier(n_neighbors = 10).fit(X_train, y_train)\n",
    "pred_reg = reg.predict(X_test)\n",
    "print('KNN기반 모델의 accuracy :{:.2f}'.format(accuracy_score(y_test, pred_reg)))"
   ]
  },
  {
   "cell_type": "markdown",
   "metadata": {},
   "source": [
    "## KNeighborsClassifier-classification_report"
   ]
  },
  {
   "cell_type": "code",
   "execution_count": 69,
   "metadata": {},
   "outputs": [
    {
     "name": "stdout",
     "output_type": "stream",
     "text": [
      "빈도 기반 더미 모델의 classification_report:\n",
      "               precision    recall  f1-score   support\n",
      "\n",
      "          독       1.00      1.00      1.00      1061\n",
      "         식용       1.00      1.00      1.00       970\n",
      "\n",
      "avg / total       1.00      1.00      1.00      2031\n",
      "\n"
     ]
    }
   ],
   "source": [
    "from sklearn.metrics import classification_report\n",
    "print('빈도 기반 더미 모델의 classification_report:\\n ',classification_report(y_test, pred_reg, target_names =['독', '식용']))\n"
   ]
  },
  {
   "cell_type": "markdown",
   "metadata": {},
   "source": [
    "## grid_search로 최적 매개변수 보기"
   ]
  },
  {
   "cell_type": "code",
   "execution_count": 66,
   "metadata": {
    "scrolled": false
   },
   "outputs": [
    {
     "name": "stdout",
     "output_type": "stream",
     "text": [
      "트레인 세트 점수 : 1.00\n",
      "테스트 세트 점수 : 1.00\n",
      "최적 매개변수: {'n_neighbors': 1}\n",
      "최고 교차 검증 점수: 1.0\n",
      "최고 성능 모델: KNeighborsClassifier(algorithm='auto', leaf_size=30, metric='minkowski',\n",
      "           metric_params=None, n_jobs=1, n_neighbors=1, p=2,\n",
      "           weights='uniform')\n"
     ]
    }
   ],
   "source": [
    "from sklearn.model_selection import GridSearchCV\n",
    "\n",
    "param_grid = {'n_neighbors':range(1,20)}\n",
    "grid_search=GridSearchCV(KNeighborsClassifier(),param_grid,cv=5,return_train_score=True)\n",
    "grid_search.fit(X_train,y_train)\n",
    "print(\"트레인 세트 점수 : {:.2f}\".format(grid_search.score(X_train,y_train)))\n",
    "print(\"테스트 세트 점수 : {:.2f}\".format(grid_search.score(X_test,y_test)))\n",
    "\n",
    "print(\"최적 매개변수:\",grid_search.best_params_)\n",
    "print(\"최고 교차 검증 점수:\",grid_search.best_score_)\n",
    "\n",
    "print(\"최고 성능 모델:\",grid_search.best_estimator_)"
   ]
  },
  {
   "cell_type": "markdown",
   "metadata": {},
   "source": [
    "## RandomForestClassifier-accuracy_score"
   ]
  },
  {
   "cell_type": "code",
   "execution_count": 58,
   "metadata": {},
   "outputs": [
    {
     "name": "stdout",
     "output_type": "stream",
     "text": [
      "랜덤 포레스트기반 모델의 accuracy :1.00\n"
     ]
    }
   ],
   "source": [
    "from sklearn.ensemble import RandomForestClassifier\n",
    "forest = RandomForestClassifier(n_estimators = 10)\n",
    "forest.fit(X_train, y_train)\n",
    "pred_forest = forest.predict(X_test)\n",
    "print('랜덤 포레스트기반 모델의 accuracy :{:.2f}'.format(accuracy_score(y_test, pred_forest)))"
   ]
  },
  {
   "cell_type": "markdown",
   "metadata": {},
   "source": [
    "## RandomForestClassifier-classification_report"
   ]
  },
  {
   "cell_type": "code",
   "execution_count": 68,
   "metadata": {},
   "outputs": [
    {
     "name": "stdout",
     "output_type": "stream",
     "text": [
      "랜덤 포레스트기반 기반 더미 모델의 classification_report:\n",
      "               precision    recall  f1-score   support\n",
      "\n",
      "          독       1.00      1.00      1.00      1061\n",
      "         식용       1.00      1.00      1.00       970\n",
      "\n",
      "avg / total       1.00      1.00      1.00      2031\n",
      "\n"
     ]
    }
   ],
   "source": [
    "from sklearn.metrics import classification_report\n",
    "print('랜덤 포레스트기반 기반 더미 모델의 classification_report:\\n ',classification_report(y_test, pred_forest, target_names =['독', '식용']))\n"
   ]
  },
  {
   "cell_type": "markdown",
   "metadata": {},
   "source": [
    "## grid_search로 최적 매개변수 보기"
   ]
  },
  {
   "cell_type": "code",
   "execution_count": 67,
   "metadata": {},
   "outputs": [
    {
     "name": "stdout",
     "output_type": "stream",
     "text": [
      "트레인 세트 점수 : 1.00\n",
      "테스트 세트 점수 : 1.00\n",
      "최적 매개변수: {'n_estimators': 5}\n",
      "최고 교차 검증 점수: 1.0\n",
      "최고 성능 모델: RandomForestClassifier(bootstrap=True, class_weight=None, criterion='gini',\n",
      "            max_depth=None, max_features='auto', max_leaf_nodes=None,\n",
      "            min_impurity_decrease=0.0, min_impurity_split=None,\n",
      "            min_samples_leaf=1, min_samples_split=2,\n",
      "            min_weight_fraction_leaf=0.0, n_estimators=5, n_jobs=1,\n",
      "            oob_score=False, random_state=None, verbose=0,\n",
      "            warm_start=False)\n"
     ]
    }
   ],
   "source": [
    "param_grid = {'n_estimators':range(1,20)}\n",
    "grid_search=GridSearchCV(RandomForestClassifier(),param_grid,cv=5,return_train_score=True)\n",
    "grid_search.fit(X_train,y_train)\n",
    "print(\"트레인 세트 점수 : {:.2f}\".format(grid_search.score(X_train,y_train)))\n",
    "print(\"테스트 세트 점수 : {:.2f}\".format(grid_search.score(X_test,y_test)))\n",
    "\n",
    "print(\"최적 매개변수:\",grid_search.best_params_)\n",
    "print(\"최고 교차 검증 점수:\",grid_search.best_score_)\n",
    "print(\"최고 성능 모델:\",grid_search.best_estimator_)"
   ]
  }
 ],
 "metadata": {
  "kernelspec": {
   "display_name": "Python 3",
   "language": "python",
   "name": "python3"
  },
  "language_info": {
   "codemirror_mode": {
    "name": "ipython",
    "version": 3
   },
   "file_extension": ".py",
   "mimetype": "text/x-python",
   "name": "python",
   "nbconvert_exporter": "python",
   "pygments_lexer": "ipython3",
   "version": "3.7.0"
  }
 },
 "nbformat": 4,
 "nbformat_minor": 2
}
