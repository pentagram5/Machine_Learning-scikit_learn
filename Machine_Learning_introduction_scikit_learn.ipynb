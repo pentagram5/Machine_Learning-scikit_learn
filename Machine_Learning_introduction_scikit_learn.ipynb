{
 "cells": [
  {
   "cell_type": "markdown",
   "metadata": {},
   "source": [
    "## 환경설정 \n",
    "### - pip install mglearn\n",
    "### - preamble 안되면 https://github.com/rickiepark/introduction_to_ml_with_python  파일 클론\n",
    "### - mglearn 폴더와 preamble.py 파일을 source 폴더에 넣어주기\n",
    "### - 학습과정에서 이미지 로딩 에 관련한 환경을 설정해주는것"
   ]
  },
  {
   "cell_type": "code",
   "execution_count": 85,
   "metadata": {},
   "outputs": [],
   "source": [
    "from preamble import * \n",
    "%matplotlib inline"
   ]
  },
  {
   "cell_type": "code",
   "execution_count": 86,
   "metadata": {},
   "outputs": [
    {
     "name": "stdout",
     "output_type": "stream",
     "text": [
      "x1:\n",
      " [1 2 3]\n",
      "(3,)\n",
      "1\n"
     ]
    }
   ],
   "source": [
    "import numpy as np \n",
    "x1 = np.array([1,2,3])\n",
    "print(\"x1:\\n\", x1)\n",
    "print(x1.shape)\n",
    "#어레이의 행,렬 요소 갯수 리턴\n",
    "print(x1.ndim)\n",
    "#몇 차원인지 리턴"
   ]
  },
  {
   "cell_type": "code",
   "execution_count": 87,
   "metadata": {},
   "outputs": [
    {
     "name": "stdout",
     "output_type": "stream",
     "text": [
      "x2:\n",
      " [[1 2 3]\n",
      " [4 5 6]]\n",
      "(2, 3)\n",
      "2\n"
     ]
    }
   ],
   "source": [
    "x2 =np.array([[1,2,3], [4,5,6]])\n",
    "print(\"x2:\\n\", x2)\n",
    "print(x2.shape)\n",
    "#어레이의 행,렬 요소 갯수 리턴\n",
    "print(x2.ndim)\n",
    "#몇 차원인지 리턴"
   ]
  },
  {
   "cell_type": "markdown",
   "metadata": {},
   "source": [
    "# Scipy"
   ]
  },
  {
   "cell_type": "code",
   "execution_count": 88,
   "metadata": {},
   "outputs": [
    {
     "name": "stdout",
     "output_type": "stream",
     "text": [
      "[[0. 0.]\n",
      " [0. 0.]]\n",
      "[[1. 1.]\n",
      " [1. 1.]]\n",
      "[[1. 0.]\n",
      " [0. 1.]]\n"
     ]
    }
   ],
   "source": [
    "A = np.zeros((2,2))\n",
    "B = np.ones((2,2))\n",
    "C = np.eye(2)\n",
    "\n",
    "print(A)\n",
    "print(B)\n",
    "print(C)"
   ]
  },
  {
   "cell_type": "code",
   "execution_count": 89,
   "metadata": {},
   "outputs": [
    {
     "name": "stdout",
     "output_type": "stream",
     "text": [
      "NumPy 배열 :\n",
      " [[1. 0. 0. 0.]\n",
      " [0. 1. 0. 0.]\n",
      " [0. 0. 1. 0.]\n",
      " [0. 0. 0. 1.]]\n",
      "(4, 4)\n"
     ]
    }
   ],
   "source": [
    "from scipy import sparse\n",
    "\n",
    "#대각선 원소는 1이고 나머지 는 0인 2차원 배열 -> numpy.eye(행수)\n",
    "eye = np.eye(4)\n",
    "print(\"NumPy 배열 :\\n\", eye)\n",
    "print(eye.shape)\n"
   ]
  },
  {
   "cell_type": "code",
   "execution_count": 90,
   "metadata": {},
   "outputs": [
    {
     "name": "stdout",
     "output_type": "stream",
     "text": [
      "Scipy의 csr 행렬 :\n",
      "   (0, 0)\t1.0\n",
      "  (1, 1)\t1.0\n",
      "  (2, 2)\t1.0\n",
      "  (3, 3)\t1.0\n"
     ]
    }
   ],
   "source": [
    "#numpy 배열을 csr 포맷의SciPy 희박 행렬로 변환합니다.\n",
    "# 희박행렬(sparse matrix)이란? 2차원 배열로 이루어진 행렬 중 대부분의 항의 값이 0으로 구성된 행렬을 말한다. ->numpy.one으로 생성가능\n",
    "\n",
    "# car_matrix(eye행렬) 매써드는 희박 행렬 중, 0이 아닌 원소의 위치와 원소값을 리턴해주는 메써드이다.\n",
    "\n",
    "sparse_matrix = sparse.csr_matrix(eye)\n",
    "print(\"Scipy의 csr 행렬 :\\n\", sparse_matrix)\n",
    "\n",
    "# 결과값은 0행0렬 -> 1.0의 원소, 1행 1열 -> 1.0의 행렬 ~~~"
   ]
  },
  {
   "cell_type": "code",
   "execution_count": 91,
   "metadata": {},
   "outputs": [
    {
     "name": "stdout",
     "output_type": "stream",
     "text": [
      "[1. 1. 1. 1.]\n",
      "[[1. 1. 1. 1.]\n",
      " [1. 1. 1. 1.]\n",
      " [1. 1. 1. 1.]\n",
      " [1. 1. 1. 1.]]\n",
      "[0 1 2 3] [0 1 2 3]\n",
      "\n",
      "COO표현 :\n",
      "   (0, 0)\t1.0\n",
      "  (1, 1)\t1.0\n",
      "  (2, 2)\t1.0\n",
      "  (3, 3)\t1.0\n"
     ]
    }
   ],
   "source": [
    "data = np.ones(4)\n",
    "#1 원소로 채워질 4개의 열을 가진 data\n",
    "\n",
    "data1 = np.ones((4,4))\n",
    "#1 원소로 채워질 4개의 열과 4개의 행을 가진 data1\n",
    "\n",
    "print(data)\n",
    "print(data1)\n",
    "row_indices = np.arange(4)\n",
    "col_indices = np.arange(4)\n",
    "print(row_indices, col_indices)\n",
    "eye_coo = sparse.coo_matrix((data, (row_indices, col_indices)))\n",
    "print(\"\\nCOO표현 :\\n\", eye_coo)\n",
    "#coo_matrix로도 표현 가능\n"
   ]
  },
  {
   "cell_type": "code",
   "execution_count": 92,
   "metadata": {},
   "outputs": [
    {
     "name": "stdout",
     "output_type": "stream",
     "text": [
      "(100,)\n"
     ]
    },
    {
     "data": {
      "text/plain": [
       "[<matplotlib.lines.Line2D at 0x18015f786a0>]"
      ]
     },
     "execution_count": 92,
     "metadata": {},
     "output_type": "execute_result"
    },
    {
     "data": {
      "image/png": "[encoded data removed]",
      "text/plain": [
       "<Figure size 432x288 with 1 Axes>"
      ]
     },
     "metadata": {
      "needs_background": "light"
     },
     "output_type": "display_data"
    }
   ],
   "source": [
    "%matplotlib inline\n",
    "import matplotlib.pyplot as plt\n",
    "\n",
    "# -10에서 10까지의 랜덤으로 추출된 float 원소들을  100개로 배열한 배열을 생성합니다.\n",
    "x = np.linspace(-10,10,100)\n",
    "print(x.shape)\n",
    "\n",
    "#사인 함수를 사용해 y배열을 생성합니다.\n",
    "y = np.sin(x)\n",
    "plt.plot(x,y, marker = \"x\")\n"
   ]
  },
  {
   "cell_type": "code",
   "execution_count": 93,
   "metadata": {},
   "outputs": [],
   "source": [
    "import pandas as pd\n",
    "#회원 정보가 들어간 간단한 데이터 셋 생성해보기 \n",
    "\n",
    "data = {'Name' : ['John', 'Anna', 'Peter', 'linda'],\n",
    "       'Location' : ['New york', 'Paris', 'Berlin', 'London'],\n",
    "       'Age' : [24,13,53,33]}\n",
    "\n",
    "data_pandas = pd.DataFrame(data)"
   ]
  },
  {
   "cell_type": "code",
   "execution_count": 94,
   "metadata": {},
   "outputs": [
    {
     "data": {
      "text/html": [
       "<div>\n",
       "<style scoped>\n",
       "    .dataframe tbody tr th:only-of-type {\n",
       "        vertical-align: middle;\n",
       "    }\n",
       "\n",
       "    .dataframe tbody tr th {\n",
       "        vertical-align: top;\n",
       "    }\n",
       "\n",
       "    .dataframe thead th {\n",
       "        text-align: right;\n",
       "    }\n",
       "</style>\n",
       "<table border=\"1\" class=\"dataframe\">\n",
       "  <thead>\n",
       "    <tr style=\"text-align: right;\">\n",
       "      <th></th>\n",
       "      <th>Name</th>\n",
       "      <th>Location</th>\n",
       "      <th>Age</th>\n",
       "    </tr>\n",
       "  </thead>\n",
       "  <tbody>\n",
       "    <tr>\n",
       "      <th>2</th>\n",
       "      <td>Peter</td>\n",
       "      <td>Berlin</td>\n",
       "      <td>53</td>\n",
       "    </tr>\n",
       "    <tr>\n",
       "      <th>3</th>\n",
       "      <td>linda</td>\n",
       "      <td>London</td>\n",
       "      <td>33</td>\n",
       "    </tr>\n",
       "  </tbody>\n",
       "</table>\n",
       "</div>"
      ],
      "text/plain": [
       "    Name Location  Age\n",
       "2  Peter   Berlin   53\n",
       "3  linda   London   33"
      ]
     },
     "metadata": {},
     "output_type": "display_data"
    }
   ],
   "source": [
    "display(data_pandas[data_pandas['Age'] > 30])\n",
    "#IPython.display는 주피터 노트븍에서 dataframe 을 미려하게 출력해줌"
   ]
  },
  {
   "cell_type": "markdown",
   "metadata": {},
   "source": [
    "## mglearn"
   ]
  },
  {
   "cell_type": "markdown",
   "metadata": {},
   "source": [
    "## 소프트웨어 버전 확인해보기"
   ]
  },
  {
   "cell_type": "code",
   "execution_count": 95,
   "metadata": {},
   "outputs": [
    {
     "name": "stdout",
     "output_type": "stream",
     "text": [
      "Python 버전: 3.7.0 (default, Jun 28 2018, 08:04:48) [MSC v.1912 64 bit (AMD64)]\n"
     ]
    }
   ],
   "source": [
    "import sys\n",
    "print('Python 버전:', sys.version)"
   ]
  },
  {
   "cell_type": "code",
   "execution_count": 96,
   "metadata": {},
   "outputs": [
    {
     "name": "stdout",
     "output_type": "stream",
     "text": [
      "pandas 버전 :  1.0.4\n"
     ]
    }
   ],
   "source": [
    "print('pandas 버전 : ',pd.__version__)"
   ]
  },
  {
   "cell_type": "code",
   "execution_count": 97,
   "metadata": {},
   "outputs": [
    {
     "name": "stdout",
     "output_type": "stream",
     "text": [
      "matplotlib버전 :  3.2.1\n"
     ]
    }
   ],
   "source": [
    "import matplotlib\n",
    "print('matplotlib버전 : ',matplotlib.__version__)"
   ]
  },
  {
   "cell_type": "code",
   "execution_count": 98,
   "metadata": {},
   "outputs": [
    {
     "name": "stdout",
     "output_type": "stream",
     "text": [
      "numpy 버전 :  1.18.4\n"
     ]
    }
   ],
   "source": [
    "print('numpy 버전 : ', np.__version__)"
   ]
  },
  {
   "cell_type": "code",
   "execution_count": 99,
   "metadata": {},
   "outputs": [
    {
     "name": "stdout",
     "output_type": "stream",
     "text": [
      "SciPy 버전 :  1.1.0\n"
     ]
    }
   ],
   "source": [
    "import scipy as sp\n",
    "print('SciPy 버전 : ', sp.__version__)"
   ]
  },
  {
   "cell_type": "code",
   "execution_count": 100,
   "metadata": {},
   "outputs": [
    {
     "name": "stdout",
     "output_type": "stream",
     "text": [
      "scikit_learn 버전 :  0.19.2\n"
     ]
    }
   ],
   "source": [
    "import sklearn\n",
    "print('scikit_learn 버전 : ', sklearn.__version__)"
   ]
  },
  {
   "cell_type": "markdown",
   "metadata": {},
   "source": [
    "# 첫 번째 어플리케이션 : iris Dataset"
   ]
  },
  {
   "cell_type": "markdown",
   "metadata": {},
   "source": [
    "## - mglearn 에서 머신러닝 공부에 사용하는 여러 data set을 제공\n",
    "## - 꽃잎의 폭/길이, 꽃받침의 폭/길이를 측정하고, 붓꽃의 품종을 분류한 데이터가 있다.\n",
    "## - 측정값을 이용해 꽃을 분류하고자 함"
   ]
  },
  {
   "cell_type": "markdown",
   "metadata": {},
   "source": [
    "* 붓꽃 데이터 피처 - Sepal lengnth, Sepal width, Petal length, Petal width"
   ]
  },
  {
   "cell_type": "markdown",
   "metadata": {},
   "source": [
    "## - 데이터 셋 분리 -> 모델학습 -> 예측수행 -> 평가 단계로 수행"
   ]
  },
  {
   "cell_type": "markdown",
   "metadata": {},
   "source": [
    "## 1. 데이터 적재"
   ]
  },
  {
   "cell_type": "code",
   "execution_count": 101,
   "metadata": {},
   "outputs": [],
   "source": [
    "from sklearn.datasets import load_iris\n",
    "\n",
    "iris_dataset = load_iris()"
   ]
  },
  {
   "cell_type": "code",
   "execution_count": 102,
   "metadata": {},
   "outputs": [
    {
     "name": "stdout",
     "output_type": "stream",
     "text": [
      "iris 데이터셋의 키 :\n",
      " dict_keys(['data', 'target', 'target_names', 'DESCR', 'feature_names'])\n"
     ]
    }
   ],
   "source": [
    "print(\"iris 데이터셋의 키 :\\n\", iris_dataset.keys())"
   ]
  },
  {
   "cell_type": "code",
   "execution_count": 103,
   "metadata": {},
   "outputs": [
    {
     "name": "stdout",
     "output_type": "stream",
     "text": [
      "Iris Plants Database\n",
      "====================\n",
      "\n",
      "Notes\n",
      "-----\n",
      "Data Set Characteristics:\n",
      "    :Number of Instances: 150 (50 in each of three classes)\n",
      "    :Number of Attributes: 4 numeric, predictive att\n",
      "...\n"
     ]
    }
   ],
   "source": [
    "print(iris_dataset['DESCR'][:193] + \"\\n...\")\n",
    "#DESCR 키에는 데이터 셋에 대한 간략한 설명이 포함됨"
   ]
  },
  {
   "cell_type": "code",
   "execution_count": 104,
   "metadata": {},
   "outputs": [
    {
     "name": "stdout",
     "output_type": "stream",
     "text": [
      "타깃의 이름 :  ['setosa' 'versicolor' 'virginica']\n"
     ]
    }
   ],
   "source": [
    "print('타깃의 이름 : ', iris_dataset['target_names'])\n",
    "# 우리가 예측하고자 하는 붓꽃 품종의 이름을 target_names에 저장되어있다"
   ]
  },
  {
   "cell_type": "code",
   "execution_count": 105,
   "metadata": {},
   "outputs": [
    {
     "name": "stdout",
     "output_type": "stream",
     "text": [
      "특성의 이름 : \n",
      " ['sepal length (cm)', 'sepal width (cm)', 'petal length (cm)', 'petal width (cm)']\n"
     ]
    }
   ],
   "source": [
    "print('특성의 이름 : \\n', iris_dataset['feature_names'])\n",
    "#각 feature 표현"
   ]
  },
  {
   "cell_type": "code",
   "execution_count": 106,
   "metadata": {},
   "outputs": [
    {
     "name": "stdout",
     "output_type": "stream",
     "text": [
      "data의 타입 :\n",
      "  <class 'numpy.ndarray'>\n",
      "\n",
      "\n",
      "data 내용 : \n",
      " ['sepal length (cm)', 'sepal width (cm)', 'petal length (cm)', 'petal width (cm)'] \n",
      " [[5.1 3.5 1.4 0.2]\n",
      " [4.9 3.  1.4 0.2]\n",
      " [4.7 3.2 1.3 0.2]\n",
      " [4.6 3.1 1.5 0.2]]\n",
      "\n",
      "\n",
      "data의 크기 :  (150, 4)\n"
     ]
    }
   ],
   "source": [
    "# 실제 데이터는 target 과 data 필드에 있으며, data필드는 꽃잎의 길이와 폭, 꽃받침의 길이와 폭을 수치 값으로 가지고 있는 Numpy 배열\n",
    "print('data의 타입 :\\n ', type(iris_dataset['data']))\n",
    "print('\\n\\ndata 내용 : \\n %s'%(iris_dataset['feature_names']),'\\n', iris_dataset['data'][:4])\n",
    "# 일부만 가져왔을때의 data 형식은 다음과 같다\n",
    "\n",
    "print(\"\\n\\ndata의 크기 : \", iris_dataset['data'].shape)\n",
    "# 150행, 4열의 배열에 data가 저장되어있다."
   ]
  },
  {
   "cell_type": "code",
   "execution_count": 107,
   "metadata": {},
   "outputs": [
    {
     "name": "stdout",
     "output_type": "stream",
     "text": [
      "target의 타입 : <class 'numpy.ndarray'>\n",
      "\n",
      "target의 크기 : (150,)\n",
      "각 타겟의 이름 :  ['setosa' 'versicolor' 'virginica']\n",
      "\n",
      "타깃의 내용 : \n",
      " [0 0 0 0 0 0 0 0 0 0 0 0 0 0 0 0 0 0 0 0 0 0 0 0 0 0 0 0 0 0 0 0 0 0 0 0 0\n",
      " 0 0 0 0 0 0 0 0 0 0 0 0 0 1 1 1 1 1 1 1 1 1 1 1 1 1 1 1 1 1 1 1 1 1 1 1 1\n",
      " 1 1 1 1 1 1 1 1 1 1 1 1 1 1 1 1 1 1 1 1 1 1 1 1 1 1 2 2 2 2 2 2 2 2 2 2 2\n",
      " 2 2 2 2 2 2 2 2 2 2 2 2 2 2 2 2 2 2 2 2 2 2 2 2 2 2 2 2 2 2 2 2 2 2 2 2 2\n",
      " 2 2]\n"
     ]
    }
   ],
   "source": [
    "# target 배열은 샘플 붓꽃의 품종을 담은 Numpy 배열이다.\n",
    "print('target의 타입 :', type(iris_dataset['target']))\n",
    "print('\\ntarget의 크기 :', iris_dataset['target'].shape)\n",
    "print('각 타겟의 이름 : ', iris_dataset['target_names'])\n",
    "print('\\n타깃의 내용 : \\n', iris_dataset['target'])\n",
    "#타겟의 이름과, 내용을 매칭할때 0 : setosa, 1: versicolor, 2 :virginica 이다."
   ]
  },
  {
   "cell_type": "code",
   "execution_count": 108,
   "metadata": {},
   "outputs": [
    {
     "data": {
      "text/html": [
       "<div>\n",
       "<style scoped>\n",
       "    .dataframe tbody tr th:only-of-type {\n",
       "        vertical-align: middle;\n",
       "    }\n",
       "\n",
       "    .dataframe tbody tr th {\n",
       "        vertical-align: top;\n",
       "    }\n",
       "\n",
       "    .dataframe thead th {\n",
       "        text-align: right;\n",
       "    }\n",
       "</style>\n",
       "<table border=\"1\" class=\"dataframe\">\n",
       "  <thead>\n",
       "    <tr style=\"text-align: right;\">\n",
       "      <th></th>\n",
       "      <th>sepal length (cm)</th>\n",
       "      <th>sepal width (cm)</th>\n",
       "      <th>petal length (cm)</th>\n",
       "      <th>petal width (cm)</th>\n",
       "      <th>label</th>\n",
       "    </tr>\n",
       "  </thead>\n",
       "  <tbody>\n",
       "    <tr>\n",
       "      <th>0</th>\n",
       "      <td>5.1</td>\n",
       "      <td>3.5</td>\n",
       "      <td>1.4</td>\n",
       "      <td>0.2</td>\n",
       "      <td>0</td>\n",
       "    </tr>\n",
       "    <tr>\n",
       "      <th>1</th>\n",
       "      <td>4.9</td>\n",
       "      <td>3.0</td>\n",
       "      <td>1.4</td>\n",
       "      <td>0.2</td>\n",
       "      <td>0</td>\n",
       "    </tr>\n",
       "    <tr>\n",
       "      <th>2</th>\n",
       "      <td>4.7</td>\n",
       "      <td>3.2</td>\n",
       "      <td>1.3</td>\n",
       "      <td>0.2</td>\n",
       "      <td>0</td>\n",
       "    </tr>\n",
       "    <tr>\n",
       "      <th>3</th>\n",
       "      <td>4.6</td>\n",
       "      <td>3.1</td>\n",
       "      <td>1.5</td>\n",
       "      <td>0.2</td>\n",
       "      <td>0</td>\n",
       "    </tr>\n",
       "    <tr>\n",
       "      <th>4</th>\n",
       "      <td>5.0</td>\n",
       "      <td>3.6</td>\n",
       "      <td>1.4</td>\n",
       "      <td>0.2</td>\n",
       "      <td>0</td>\n",
       "    </tr>\n",
       "  </tbody>\n",
       "</table>\n",
       "</div>"
      ],
      "text/plain": [
       "   sepal length (cm)  sepal width (cm)  petal length (cm)  petal width (cm)  \\\n",
       "0                5.1               3.5                1.4               0.2   \n",
       "1                4.9               3.0                1.4               0.2   \n",
       "2                4.7               3.2                1.3               0.2   \n",
       "3                4.6               3.1                1.5               0.2   \n",
       "4                5.0               3.6                1.4               0.2   \n",
       "\n",
       "   label  \n",
       "0      0  \n",
       "1      0  \n",
       "2      0  \n",
       "3      0  \n",
       "4      0  "
      ]
     },
     "execution_count": 108,
     "metadata": {},
     "output_type": "execute_result"
    }
   ],
   "source": [
    "# 붓꿏 데이터 셋을 더 자세히 보기 위해 DataFrame으로 변환해보자\n",
    "# 데이터 별로 저장된 붓꽃의 품종 컬럼인 target을 label 컬럼으로 가져와 주면 된다.\n",
    "iris_data = iris_dataset.data\n",
    "iris_df = pd.DataFrame(data = iris_data,\n",
    "                      columns = iris_dataset.feature_names)\n",
    "iris_df['label'] = iris_dataset.target\n",
    "iris_df.head()"
   ]
  },
  {
   "cell_type": "markdown",
   "metadata": {},
   "source": [
    "# 2. 훈련 데이터와 테스트 데이터 \n",
    "* 150개의 붓꽃 데이터를 두그룹으로 나누고,\n",
    "* 훈련데이터와 테스트 데이터로 나눈다.\n",
    "* 모델의 성능을 측정하기 위해 새 데이터 모델에 적용해야하기 때문이고,\n",
    "* scikit_learn 은 데이터셋을 섞어서 나눠주는 train_test_split함수를 제공한다.\n",
    "* 이 함수는 전체 행중 75%를 훈련셋으로 뽑고, 나머지 25% 가 테스트셋이 된다.\n",
    "* scikit_learn 에서 데이터는 대문자 X로 표시되고, 레이블(품종) 은 소문자 y로 표기한다. "
   ]
  },
  {
   "cell_type": "code",
   "execution_count": 109,
   "metadata": {},
   "outputs": [],
   "source": [
    "from sklearn.model_selection import train_test_split\n",
    "X_train, X_test, y_train, y_test = train_test_split(iris_dataset['data'], iris_dataset['target'], random_state = 0)"
   ]
  },
  {
   "cell_type": "code",
   "execution_count": 110,
   "metadata": {},
   "outputs": [
    {
     "name": "stdout",
     "output_type": "stream",
     "text": [
      "X_train의 크기 : (112, 4)\n",
      "y_train의 크기 : (112,)\n",
      "X_test의 크기 : (38, 4)\n",
      "y_test의 크기 : (38,)\n"
     ]
    }
   ],
   "source": [
    "print('X_train의 크기 :', X_train.shape)\n",
    "print('y_train의 크기 :', y_train.shape)\n",
    "print('X_test의 크기 :', X_test.shape)\n",
    "print('y_test의 크기 :', y_test.shape)\n",
    "#훈련데이터는 iris_dataset.data의 약 75프로, 테스터 데이터는 약 25%로 할당된다. "
   ]
  },
  {
   "cell_type": "markdown",
   "metadata": {},
   "source": [
    "## 2-1. 가장 먼저 할일 : 데이터 살펴보기\n",
    "### - 머신 러닝 모델을 만들기 전, 머신러닝이 없이도 풀수있는지, 필요한 정보가 누락되진 않았는지 데이터를 조사해보는것이 좋다"
   ]
  },
  {
   "cell_type": "code",
   "execution_count": 111,
   "metadata": {},
   "outputs": [],
   "source": [
    "#X_train 데이터를 사용해 데이터 프레임을 만들고, 열의 이름을 feature_names에 있는 문자열을 사용하기\n",
    "iris_dataframe = pd.DataFrame(X_train, columns = iris_dataset.feature_names)"
   ]
  },
  {
   "cell_type": "code",
   "execution_count": 112,
   "metadata": {},
   "outputs": [
    {
     "data": {
      "text/html": [
       "<div>\n",
       "<style scoped>\n",
       "    .dataframe tbody tr th:only-of-type {\n",
       "        vertical-align: middle;\n",
       "    }\n",
       "\n",
       "    .dataframe tbody tr th {\n",
       "        vertical-align: top;\n",
       "    }\n",
       "\n",
       "    .dataframe thead th {\n",
       "        text-align: right;\n",
       "    }\n",
       "</style>\n",
       "<table border=\"1\" class=\"dataframe\">\n",
       "  <thead>\n",
       "    <tr style=\"text-align: right;\">\n",
       "      <th></th>\n",
       "      <th>sepal length (cm)</th>\n",
       "      <th>sepal width (cm)</th>\n",
       "      <th>petal length (cm)</th>\n",
       "      <th>petal width (cm)</th>\n",
       "    </tr>\n",
       "  </thead>\n",
       "  <tbody>\n",
       "    <tr>\n",
       "      <th>0</th>\n",
       "      <td>5.9</td>\n",
       "      <td>3.0</td>\n",
       "      <td>4.2</td>\n",
       "      <td>1.5</td>\n",
       "    </tr>\n",
       "    <tr>\n",
       "      <th>1</th>\n",
       "      <td>5.8</td>\n",
       "      <td>2.6</td>\n",
       "      <td>4.0</td>\n",
       "      <td>1.2</td>\n",
       "    </tr>\n",
       "    <tr>\n",
       "      <th>2</th>\n",
       "      <td>6.8</td>\n",
       "      <td>3.0</td>\n",
       "      <td>5.5</td>\n",
       "      <td>2.1</td>\n",
       "    </tr>\n",
       "    <tr>\n",
       "      <th>3</th>\n",
       "      <td>4.7</td>\n",
       "      <td>3.2</td>\n",
       "      <td>1.3</td>\n",
       "      <td>0.2</td>\n",
       "    </tr>\n",
       "    <tr>\n",
       "      <th>4</th>\n",
       "      <td>6.9</td>\n",
       "      <td>3.1</td>\n",
       "      <td>5.1</td>\n",
       "      <td>2.3</td>\n",
       "    </tr>\n",
       "    <tr>\n",
       "      <th>...</th>\n",
       "      <td>...</td>\n",
       "      <td>...</td>\n",
       "      <td>...</td>\n",
       "      <td>...</td>\n",
       "    </tr>\n",
       "    <tr>\n",
       "      <th>107</th>\n",
       "      <td>4.9</td>\n",
       "      <td>3.1</td>\n",
       "      <td>1.5</td>\n",
       "      <td>0.1</td>\n",
       "    </tr>\n",
       "    <tr>\n",
       "      <th>108</th>\n",
       "      <td>6.3</td>\n",
       "      <td>2.9</td>\n",
       "      <td>5.6</td>\n",
       "      <td>1.8</td>\n",
       "    </tr>\n",
       "    <tr>\n",
       "      <th>109</th>\n",
       "      <td>5.8</td>\n",
       "      <td>2.7</td>\n",
       "      <td>4.1</td>\n",
       "      <td>1.0</td>\n",
       "    </tr>\n",
       "    <tr>\n",
       "      <th>110</th>\n",
       "      <td>7.7</td>\n",
       "      <td>3.8</td>\n",
       "      <td>6.7</td>\n",
       "      <td>2.2</td>\n",
       "    </tr>\n",
       "    <tr>\n",
       "      <th>111</th>\n",
       "      <td>4.6</td>\n",
       "      <td>3.2</td>\n",
       "      <td>1.4</td>\n",
       "      <td>0.2</td>\n",
       "    </tr>\n",
       "  </tbody>\n",
       "</table>\n",
       "<p>112 rows × 4 columns</p>\n",
       "</div>"
      ],
      "text/plain": [
       "     sepal length (cm)  sepal width (cm)  petal length (cm)  petal width (cm)\n",
       "0                  5.9               3.0                4.2               1.5\n",
       "1                  5.8               2.6                4.0               1.2\n",
       "2                  6.8               3.0                5.5               2.1\n",
       "3                  4.7               3.2                1.3               0.2\n",
       "4                  6.9               3.1                5.1               2.3\n",
       "..                 ...               ...                ...               ...\n",
       "107                4.9               3.1                1.5               0.1\n",
       "108                6.3               2.9                5.6               1.8\n",
       "109                5.8               2.7                4.1               1.0\n",
       "110                7.7               3.8                6.7               2.2\n",
       "111                4.6               3.2                1.4               0.2\n",
       "\n",
       "[112 rows x 4 columns]"
      ]
     },
     "execution_count": 112,
     "metadata": {},
     "output_type": "execute_result"
    }
   ],
   "source": [
    "iris_dataframe"
   ]
  },
  {
   "cell_type": "markdown",
   "metadata": {},
   "source": [
    "### 모든 특성을 짝지어 만드는 산점도 행렬을 사용해, 붓꽃의 경우과 같이 4가지 특성의 관계를 표현하는 데에 효과적"
   ]
  },
  {
   "cell_type": "code",
   "execution_count": 113,
   "metadata": {},
   "outputs": [
    {
     "data": {
      "text/plain": [
       "array([[<matplotlib.axes._subplots.AxesSubplot object at 0x0000018015AB9B00>,\n",
       "        <matplotlib.axes._subplots.AxesSubplot object at 0x0000018015AF2438>,\n",
       "        <matplotlib.axes._subplots.AxesSubplot object at 0x0000018015B255C0>,\n",
       "        <matplotlib.axes._subplots.AxesSubplot object at 0x0000018015B5A7B8>],\n",
       "       [<matplotlib.axes._subplots.AxesSubplot object at 0x0000018015B899B0>,\n",
       "        <matplotlib.axes._subplots.AxesSubplot object at 0x0000018015BBFBA8>,\n",
       "        <matplotlib.axes._subplots.AxesSubplot object at 0x0000018015BF6DA0>,\n",
       "        <matplotlib.axes._subplots.AxesSubplot object at 0x0000018015C2CF60>],\n",
       "       [<matplotlib.axes._subplots.AxesSubplot object at 0x0000018015C2CFD0>,\n",
       "        <matplotlib.axes._subplots.AxesSubplot object at 0x0000018015C9F3C8>,\n",
       "        <matplotlib.axes._subplots.AxesSubplot object at 0x0000018015CD65C0>,\n",
       "        <matplotlib.axes._subplots.AxesSubplot object at 0x0000018015D0A7B8>],\n",
       "       [<matplotlib.axes._subplots.AxesSubplot object at 0x0000018015D3D9B0>,\n",
       "        <matplotlib.axes._subplots.AxesSubplot object at 0x0000018015D72BA8>,\n",
       "        <matplotlib.axes._subplots.AxesSubplot object at 0x0000018015DA8DA0>,\n",
       "        <matplotlib.axes._subplots.AxesSubplot object at 0x0000018015DE5470>]],\n",
       "      dtype=object)"
      ]
     },
     "execution_count": 113,
     "metadata": {},
     "output_type": "execute_result"
    },
    {
     "data": {
      "image/png": "[encoded data removed]",
      "text/plain": [
       "<Figure size 1080x1080 with 16 Axes>"
      ]
     },
     "metadata": {
      "needs_background": "light"
     },
     "output_type": "display_data"
    }
   ],
   "source": [
    "pd.plotting.scatter_matrix(iris_dataframe, c = y_train, figsize = (15,15), marker = 'o', hist_kwds={'bins':20},\n",
    "                          s = 60, alpha = .8, cmap = mglearn.cm3) "
   ]
  },
  {
   "cell_type": "markdown",
   "metadata": {},
   "source": [
    " ### - 위 그림의 대각선에 위치한 그래프는 각 특성들의 히스토그램이다.\n",
    " ### - 그래프로 미루어 보았을때, 세클래스가 꽃잎,꽃받침의 측정값에 따라 비교적 잘구분됨을 알수있었다."
   ]
  },
  {
   "cell_type": "markdown",
   "metadata": {},
   "source": [
    "## 3. 첫 번째 머신러닝 모델 : k-최근접 이웃 알고리즘"
   ]
  },
  {
   "cell_type": "markdown",
   "metadata": {},
   "source": [
    "* k는 가장 가까운 이웃 하나가 아니라, 훈련데이터에서 새로운 데이터 포인트에 가장 가까운 k개의 이웃을 찾는다는 뜻으로,\n",
    "* 이 이웃들의 클래스중 가장 빈도가 높은 클래스를 예측값으로 사 용하는 알고리즘"
   ]
  },
  {
   "cell_type": "code",
   "execution_count": 128,
   "metadata": {},
   "outputs": [],
   "source": [
    "from sklearn.neighbors import KNeighborsClassifier\n",
    "knn = KNeighborsClassifier(n_neighbors = 1)\n",
    "# 모델을 사용하기 위해선 먼저 클래스를 임포트하고, 클래스로부터 객체를 만들어야 한다. \n",
    "# 가장중요한 변수는 이웃의 갯수로 , 이 챕터에선 1로 지정하여 사용해보겠다. "
   ]
  },
  {
   "cell_type": "markdown",
   "metadata": {},
   "source": [
    "* knn 객체는 훈련 데이터로 모델을 만들고, 새로운 데이터 포인트에 대해 예측하는 알고리즘을 캡슐화 한것이며, \n",
    "* 또한 알고리즘이 훈련 데이터로부터 추출한 정보를 담고있다."
   ]
  },
  {
   "cell_type": "code",
   "execution_count": 129,
   "metadata": {},
   "outputs": [
    {
     "data": {
      "text/plain": [
       "KNeighborsClassifier(algorithm='auto', leaf_size=30, metric='minkowski',\n",
       "           metric_params=None, n_jobs=1, n_neighbors=1, p=2,\n",
       "           weights='uniform')"
      ]
     },
     "execution_count": 129,
     "metadata": {},
     "output_type": "execute_result"
    }
   ],
   "source": [
    "knn.fit(X_train, y_train)"
   ]
  },
  {
   "cell_type": "markdown",
   "metadata": {},
   "source": [
    "* fit 메서드는 knn  객체 자체를 변경시키고 반환하며, 우리가 지정한 이웃의 갯수만 1개임을 확인하고 남은 값들은 기본값이다."
   ]
  },
  {
   "cell_type": "markdown",
   "metadata": {},
   "source": [
    "## 4. 예측하기"
   ]
  },
  {
   "cell_type": "code",
   "execution_count": 130,
   "metadata": {},
   "outputs": [
    {
     "name": "stdout",
     "output_type": "stream",
     "text": [
      "(1, 4)\n"
     ]
    }
   ],
   "source": [
    "X_new = np.array([[5,2.9,1,0.2]])\n",
    "print(X_new.shape)"
   ]
  },
  {
   "cell_type": "markdown",
   "metadata": {},
   "source": [
    "## - x_train 데이터를 기준으로 훈련된 knn 객체를 이용해 새로운 x_new 데이터에 대해 예측하여 본다."
   ]
  },
  {
   "cell_type": "code",
   "execution_count": 131,
   "metadata": {},
   "outputs": [
    {
     "name": "stdout",
     "output_type": "stream",
     "text": [
      "예측결과 : [0]\n",
      "예측된 타겟의 이름: ['setosa']\n"
     ]
    }
   ],
   "source": [
    "prediction = knn.predict(X_new)\n",
    "print('예측결과 :', prediction)\n",
    "print('예측된 타겟의 이름:', iris_dataset['target_names'][prediction])"
   ]
  },
  {
   "cell_type": "markdown",
   "metadata": {},
   "source": [
    "* setosa 품종을 의미하는 클래스 0 으로 예측이 되었다 하지만 신뢰성은? 이 샘플의 정확한 품종을 모른다는 사실이 모델의 구축에서 중요한 의미를 지닌다"
   ]
  },
  {
   "cell_type": "markdown",
   "metadata": {},
   "source": [
    "## 5. 모델 평가하기"
   ]
  },
  {
   "cell_type": "markdown",
   "metadata": {},
   "source": [
    "* 앞서 만든 테스트 셋트를 사용하여, 예측을 함으로써 실제 정확한 품종과 얼마나 정확도가 높냐로 모델을 평가하게 된다."
   ]
  },
  {
   "cell_type": "code",
   "execution_count": 132,
   "metadata": {},
   "outputs": [
    {
     "name": "stdout",
     "output_type": "stream",
     "text": [
      "테스트 세트에 대한 예측값: \n",
      " [2 1 0 2 0 2 0 1 1 1 2 1 1 1 1 0 1 1 0 0 2 1 0 0 2 0 0 1 1 0 2 1 0 2 2 1 0\n",
      " 2]\n"
     ]
    }
   ],
   "source": [
    "y_pred = knn.predict(X_test)\n",
    "print('테스트 세트에 대한 예측값: \\n', y_pred)"
   ]
  },
  {
   "cell_type": "markdown",
   "metadata": {},
   "source": [
    "### - 실제 품종정보가 든 y_test와, 테스트 셋트에 대한 예측값이 든 y_pred의 유사성 비교"
   ]
  },
  {
   "cell_type": "code",
   "execution_count": 133,
   "metadata": {
    "scrolled": true
   },
   "outputs": [
    {
     "name": "stdout",
     "output_type": "stream",
     "text": [
      "테스트 세트의 정확도 :0.97\n"
     ]
    }
   ],
   "source": [
    "print('테스트 세트의 정확도 :{:.2f}'.format(np.mean(y_pred == y_test)))"
   ]
  },
  {
   "cell_type": "markdown",
   "metadata": {},
   "source": [
    "* knn객체의 score 메서드로도 테스트 세트의 정확도를 계산할 수 있다."
   ]
  },
  {
   "cell_type": "code",
   "execution_count": 142,
   "metadata": {},
   "outputs": [
    {
     "name": "stdout",
     "output_type": "stream",
     "text": [
      "테스트 세트의 정확도 :0.9737\n"
     ]
    }
   ],
   "source": [
    "print('테스트 세트의 정확도 :{:.4f}'.format(knn.score(X_test,y_test)))"
   ]
  },
  {
   "cell_type": "markdown",
   "metadata": {},
   "source": [
    "## - 이 결과, 이 knn 모델은 테스트 세트에 포함된 붓꽃중 97%의 품종을 정확히 맞혔다는 뜻이다."
   ]
  }
 ],
 "metadata": {
  "kernelspec": {
   "display_name": "Python 3",
   "language": "python",
   "name": "python3"
  },
  "language_info": {
   "codemirror_mode": {
    "name": "ipython",
    "version": 3
   },
   "file_extension": ".py",
   "mimetype": "text/x-python",
   "name": "python",
   "nbconvert_exporter": "python",
   "pygments_lexer": "ipython3",
   "version": "3.7.0"
  }
 },
 "nbformat": 4,
 "nbformat_minor": 2
}
