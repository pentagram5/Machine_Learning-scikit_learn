{
 "cells": [
  {
   "cell_type": "code",
   "execution_count": 342,
   "metadata": {},
   "outputs": [],
   "source": [
    "import numpy as np\n",
    "import pandas as pd\n",
    "import seaborn as sns\n",
    "import matplotlib.pyplot as plt\n",
    "from matplotlib import font_manager, rc\n",
    "%matplotlib inline\n",
    "font_name=font_manager.FontProperties(fname=\"c:/Windows/Fonts/malgun.ttf\").get_name()\n",
    "rc(\"font\",family=font_name)"
   ]
  },
  {
   "cell_type": "code",
   "execution_count": 343,
   "metadata": {},
   "outputs": [],
   "source": [
    "from sklearn.model_selection import train_test_split\n",
    "from sklearn.metrics import accuracy_score\n",
    "from sklearn.tree import DecisionTreeClassifier\n",
    "import mglearn"
   ]
  },
  {
   "cell_type": "code",
   "execution_count": 344,
   "metadata": {},
   "outputs": [],
   "source": [
    "basic_data = pd.DataFrame(columns={'Model','Train score','Test score'})\n",
    "more_treated_data = pd.DataFrame(columns={'Model','Train score','Test score'})\n",
    "Train_score = []\n",
    "Test_score = []\n",
    "Model = []"
   ]
  },
  {
   "cell_type": "code",
   "execution_count": 345,
   "metadata": {},
   "outputs": [],
   "source": [
    "dicaprio_1 = [3., 1., 19., 0., 0., 5., 3.,2.]\n",
    "winslet_1 = [1., 0., 17., 1., 1., 100., 3, 3.]\n",
    "dicaprio = [3., 1., 19., 0., 0., 5.]\n",
    "winslet = [1., 0., 17., 1., 1., 100.]"
   ]
  },
  {
   "cell_type": "markdown",
   "metadata": {},
   "source": [
    "# titanic 데이터 가져 오기 및 정제 "
   ]
  },
  {
   "cell_type": "code",
   "execution_count": 346,
   "metadata": {},
   "outputs": [],
   "source": [
    "train_titanic_1 = pd.read_csv('../data/train_titanic_1.csv', index_col= 0)\n",
    "train_titanic_2 = pd.read_csv('../data/train_titanic_2.csv', index_col= 0)\n",
    "raw_data = pd.read_excel('../data/titanic.xls')\n",
    "conversion_rare = lambda x: x.split(',')[1].split('.')[0].strip()\n",
    "raw_data['title'] = raw_data['name'].map(conversion_rare)\n",
    "\n",
    "titles = raw_data['title'].unique()\n",
    "raw_data['title'] = raw_data['title'].replace('Mlle', 'Miss')\n",
    "raw_data['title'] = raw_data['title'].replace('Ms', 'Miss')\n",
    "raw_data['title'] = raw_data['title'].replace('Mme', 'Mrs')\n",
    "\n",
    "Rare = ['Lady', 'the Countess', 'Countess', 'Capt', 'Master', 'Col', 'Don', 'Dr', 'Major', 'Rev', 'Sir', 'Jonkheer', 'Dona']\n",
    "\n",
    "for each in Rare:\n",
    "    raw_data['title'] = raw_data['title'].replace(each, 'Rare')\n",
    "\n",
    "raw_data['age_cat'] = pd.cut(raw_data['age'], bins=[0, 3, 7, 15, 30, 60, 100],\n",
    "                            include_lowest = True, labels = ['baby', 'children', 'teenage', 'young', 'adult', 'old'])\n",
    "\n",
    "raw_data = raw_data[raw_data['age'].notnull()]\n",
    "raw_data = raw_data[raw_data['sibsp'].notnull()]\n",
    "raw_data = raw_data[raw_data['parch'].notnull()]\n",
    "raw_data = raw_data[raw_data['fare'].notnull()]\n",
    "raw_data = raw_data[raw_data['age_cat'].notnull()]\n",
    "raw_data = raw_data[raw_data['title'].notnull()]"
   ]
  },
  {
   "cell_type": "markdown",
   "metadata": {},
   "source": [
    "* train_titanic_2 는 age_cat, title 를 수치화 해서 추가"
   ]
  },
  {
   "cell_type": "code",
   "execution_count": 347,
   "metadata": {},
   "outputs": [
    {
     "data": {
      "text/html": [
       "<div>\n",
       "<style scoped>\n",
       "    .dataframe tbody tr th:only-of-type {\n",
       "        vertical-align: middle;\n",
       "    }\n",
       "\n",
       "    .dataframe tbody tr th {\n",
       "        vertical-align: top;\n",
       "    }\n",
       "\n",
       "    .dataframe thead th {\n",
       "        text-align: right;\n",
       "    }\n",
       "</style>\n",
       "<table border=\"1\" class=\"dataframe\">\n",
       "  <thead>\n",
       "    <tr style=\"text-align: right;\">\n",
       "      <th></th>\n",
       "      <th>pclass</th>\n",
       "      <th>sex</th>\n",
       "      <th>age</th>\n",
       "      <th>sibsp</th>\n",
       "      <th>parch</th>\n",
       "      <th>fare</th>\n",
       "    </tr>\n",
       "  </thead>\n",
       "  <tbody>\n",
       "    <tr>\n",
       "      <th>0</th>\n",
       "      <td>1.0</td>\n",
       "      <td>0.0</td>\n",
       "      <td>29.0000</td>\n",
       "      <td>0.0</td>\n",
       "      <td>0.0</td>\n",
       "      <td>211.3375</td>\n",
       "    </tr>\n",
       "    <tr>\n",
       "      <th>1</th>\n",
       "      <td>1.0</td>\n",
       "      <td>1.0</td>\n",
       "      <td>0.9167</td>\n",
       "      <td>1.0</td>\n",
       "      <td>2.0</td>\n",
       "      <td>151.5500</td>\n",
       "    </tr>\n",
       "  </tbody>\n",
       "</table>\n",
       "</div>"
      ],
      "text/plain": [
       "   pclass  sex      age  sibsp  parch      fare\n",
       "0     1.0  0.0  29.0000    0.0    0.0  211.3375\n",
       "1     1.0  1.0   0.9167    1.0    2.0  151.5500"
      ]
     },
     "execution_count": 347,
     "metadata": {},
     "output_type": "execute_result"
    }
   ],
   "source": [
    "train_titanic_1.head(2)"
   ]
  },
  {
   "cell_type": "code",
   "execution_count": 348,
   "metadata": {},
   "outputs": [
    {
     "data": {
      "text/html": [
       "<div>\n",
       "<style scoped>\n",
       "    .dataframe tbody tr th:only-of-type {\n",
       "        vertical-align: middle;\n",
       "    }\n",
       "\n",
       "    .dataframe tbody tr th {\n",
       "        vertical-align: top;\n",
       "    }\n",
       "\n",
       "    .dataframe thead th {\n",
       "        text-align: right;\n",
       "    }\n",
       "</style>\n",
       "<table border=\"1\" class=\"dataframe\">\n",
       "  <thead>\n",
       "    <tr style=\"text-align: right;\">\n",
       "      <th></th>\n",
       "      <th>pclass</th>\n",
       "      <th>sex</th>\n",
       "      <th>age</th>\n",
       "      <th>sibsp</th>\n",
       "      <th>parch</th>\n",
       "      <th>fare</th>\n",
       "      <th>age_cat_num</th>\n",
       "      <th>title_num</th>\n",
       "    </tr>\n",
       "  </thead>\n",
       "  <tbody>\n",
       "    <tr>\n",
       "      <th>0</th>\n",
       "      <td>1.0</td>\n",
       "      <td>0.0</td>\n",
       "      <td>29.0000</td>\n",
       "      <td>0.0</td>\n",
       "      <td>0.0</td>\n",
       "      <td>211.3375</td>\n",
       "      <td>3.0</td>\n",
       "      <td>0.0</td>\n",
       "    </tr>\n",
       "    <tr>\n",
       "      <th>1</th>\n",
       "      <td>1.0</td>\n",
       "      <td>1.0</td>\n",
       "      <td>0.9167</td>\n",
       "      <td>1.0</td>\n",
       "      <td>2.0</td>\n",
       "      <td>151.5500</td>\n",
       "      <td>0.0</td>\n",
       "      <td>1.0</td>\n",
       "    </tr>\n",
       "  </tbody>\n",
       "</table>\n",
       "</div>"
      ],
      "text/plain": [
       "   pclass  sex      age  sibsp  parch      fare  age_cat_num  title_num\n",
       "0     1.0  0.0  29.0000    0.0    0.0  211.3375          3.0        0.0\n",
       "1     1.0  1.0   0.9167    1.0    2.0  151.5500          0.0        1.0"
      ]
     },
     "execution_count": 348,
     "metadata": {},
     "output_type": "execute_result"
    }
   ],
   "source": [
    "train_titanic_2.head(2)"
   ]
  },
  {
   "cell_type": "code",
   "execution_count": 349,
   "metadata": {},
   "outputs": [],
   "source": [
    "from sklearn.model_selection import train_test_split\n",
    "X_train, X_test, y_train, y_test = train_test_split(\n",
    "    train_titanic_1, raw_data[['survived']],\n",
    "    test_size = 0.1, random_state = 13)\n",
    "\n",
    "X1_train, X1_test, y1_train, y1_test = train_test_split(\n",
    "    train_titanic_2, raw_data[['survived']],\n",
    "    test_size = 0.1, random_state = 13)"
   ]
  },
  {
   "cell_type": "markdown",
   "metadata": {},
   "source": [
    "* 트레인, 테스트 셋을 feature 갯수에 따라 나뉘어 할당"
   ]
  },
  {
   "cell_type": "code",
   "execution_count": 350,
   "metadata": {},
   "outputs": [],
   "source": [
    "X_train = X_train.reset_index()\n",
    "X_train = X_train.drop(['index'], axis = 1)\n",
    "\n",
    "X_test = X_test.reset_index()\n",
    "X_test = X_test.drop(['index'], axis = 1)\n",
    "\n",
    "y_train = y_train.reset_index()\n",
    "y_train = y_train.drop(['index'], axis = 1)\n",
    "\n",
    "y_test = y_test.reset_index()\n",
    "y_test = y_test.drop(['index'], axis = 1)\n",
    "\n",
    "X1_train = X1_train.reset_index()\n",
    "X1_train = X1_train.drop(['index'], axis = 1)\n",
    "\n",
    "X1_test = X1_test.reset_index()\n",
    "X1_test = X1_test.drop(['index'], axis = 1)\n",
    "\n",
    "y1_train = y1_train.reset_index()\n",
    "y1_train = y1_train.drop(['index'], axis = 1)\n",
    "\n",
    "y1_test = y1_test.reset_index()\n",
    "y1_test = y1_test.drop(['index'], axis = 1)"
   ]
  },
  {
   "cell_type": "markdown",
   "metadata": {},
   "source": [
    "# 1. Decision Tree"
   ]
  },
  {
   "cell_type": "markdown",
   "metadata": {},
   "source": [
    "* max_depth를 5로 할당하고, 각 feature의 갯수마다 스코어가 어떻게 다른지 확인 해보기 "
   ]
  },
  {
   "cell_type": "code",
   "execution_count": 351,
   "metadata": {},
   "outputs": [
    {
     "name": "stdout",
     "output_type": "stream",
     "text": [
      "기본 titanic 정제 데이터 점수:\n",
      "Train Score:0.8117021276595745\n",
      "Test Score: 0.8476190476190476\n",
      "\n",
      "\n",
      "titanic 데이터에  age_cat, title 수치화 점수 \n",
      "Train Score:0.8117021276595745\n",
      "Test Score: 0.8476190476190476\n"
     ]
    }
   ],
   "source": [
    "from sklearn.tree import DecisionTreeClassifier\n",
    "\n",
    "tree_clf = DecisionTreeClassifier(max_depth=3, random_state=13)\n",
    "tree_clf.fit(X_train, y_train)\n",
    "\n",
    "tree_clf1 = DecisionTreeClassifier(max_depth=3, random_state=13)\n",
    "tree_clf1.fit(X1_train, y1_train)\n",
    "\n",
    "print('기본 titanic 정제 데이터 점수:')\n",
    "print('Train Score:{}'.format(tree_clf.score(X_train, y_train)))\n",
    "print('Test Score: {}'.format(tree_clf.score(X_test, y_test)))\n",
    "Model.append('Decision Tree')\n",
    "Train_score.append(format(tree_clf.score(X_train, y_train)))\n",
    "Test_score.append(format(tree_clf.score(X_test, y_test)))\n",
    "\n",
    "print('\\n\\ntitanic 데이터에  age_cat, title 수치화 점수 ')\n",
    "\n",
    "print('Train Score:{}'.format(tree_clf1.score(X1_train, y1_train)))\n",
    "print('Test Score: {}'.format(tree_clf1.score(X1_test, y1_test)))"
   ]
  },
  {
   "cell_type": "markdown",
   "metadata": {},
   "source": [
    "* 점수의 차이가 없기 때문에, 각 특성별로 Decision Tree에 적용되는 특성 중요도 살펴보기 "
   ]
  },
  {
   "cell_type": "code",
   "execution_count": 352,
   "metadata": {},
   "outputs": [
    {
     "data": {
      "image/png": "[encoded data removed]",
      "text/plain": [
       "<Figure size 432x288 with 1 Axes>"
      ]
     },
     "metadata": {
      "needs_background": "light"
     },
     "output_type": "display_data"
    }
   ],
   "source": [
    "def plot_feature_importance_titanic(model, train):\n",
    "    n_feature = train.shape[1]\n",
    "    plt.barh(np.arange(n_feature), model.feature_importances_,align = 'center')\n",
    "    plt.yticks(np.arange(n_feature), train.columns)\n",
    "    plt.xlabel('특성 중요도')\n",
    "    plt.ylabel('특성')\n",
    "\n",
    "plot_feature_importance_titanic(tree_clf, X_train)\n"
   ]
  },
  {
   "cell_type": "code",
   "execution_count": 353,
   "metadata": {},
   "outputs": [
    {
     "data": {
      "image/png": "[encoded data removed]",
      "text/plain": [
       "<Figure size 432x288 with 1 Axes>"
      ]
     },
     "metadata": {
      "needs_background": "light"
     },
     "output_type": "display_data"
    }
   ],
   "source": [
    "plot_feature_importance_titanic(tree_clf1, X1_train)"
   ]
  },
  {
   "cell_type": "markdown",
   "metadata": {},
   "source": [
    "## - 결론적으로 age_cat, title feature은 의사결정트리에서 중요도가 없다 -> 생존확률을 예측하는데 고려대상에서 제외"
   ]
  },
  {
   "cell_type": "markdown",
   "metadata": {},
   "source": [
    "# - 생존확률 보기 "
   ]
  },
  {
   "cell_type": "code",
   "execution_count": 354,
   "metadata": {},
   "outputs": [
    {
     "name": "stdout",
     "output_type": "stream",
     "text": [
      "기본 titanic 정제 데이터에서 생존확률\n",
      "Dicaprio is not survived --> 0.875\n",
      "Winslet is survived --> 0.9758064516129032\n",
      "\n",
      "\n",
      " titanic 정제 및 추가 데이터에서 생존확률 \n",
      "Dicaprio is not survived --> 0.875\n",
      "Winslet is survived --> 0.9758064516129032\n"
     ]
    }
   ],
   "source": [
    "def isSurvived(name,person, model):\n",
    "    isSurvive = 'not survived' if model.predict([person])[0] == 0 else 'survived'\n",
    "    print(name, 'is', isSurvive, '-->', max(model.predict_proba([person])[0]))\n",
    "\n",
    "print('기본 titanic 정제 데이터에서 생존확률')\n",
    "isSurvived('Dicaprio', dicaprio, tree_clf)\n",
    "isSurvived('Winslet', winslet, tree_clf)\n",
    "\n",
    "print('\\n\\n titanic 정제 및 추가 데이터에서 생존확률 ')\n",
    "isSurvived('Dicaprio', dicaprio_1, tree_clf1)\n",
    "isSurvived('Winslet', winslet_1, tree_clf1)"
   ]
  },
  {
   "cell_type": "markdown",
   "metadata": {},
   "source": [
    "# 2. 랜덤 포레스트 "
   ]
  },
  {
   "cell_type": "code",
   "execution_count": 355,
   "metadata": {},
   "outputs": [
    {
     "name": "stderr",
     "output_type": "stream",
     "text": [
      "C:\\Users\\A\\Anaconda3\\lib\\site-packages\\ipykernel_launcher.py:3: DataConversionWarning: A column-vector y was passed when a 1d array was expected. Please change the shape of y to (n_samples,), for example using ravel().\n",
      "  This is separate from the ipykernel package so we can avoid doing imports until\n",
      "C:\\Users\\A\\Anaconda3\\lib\\site-packages\\ipykernel_launcher.py:6: DataConversionWarning: A column-vector y was passed when a 1d array was expected. Please change the shape of y to (n_samples,), for example using ravel().\n",
      "  \n"
     ]
    },
    {
     "data": {
      "text/plain": [
       "RandomForestClassifier(bootstrap=True, class_weight=None, criterion='gini',\n",
       "            max_depth=None, max_features='auto', max_leaf_nodes=None,\n",
       "            min_impurity_decrease=0.0, min_impurity_split=None,\n",
       "            min_samples_leaf=1, min_samples_split=2,\n",
       "            min_weight_fraction_leaf=0.0, n_estimators=200, n_jobs=1,\n",
       "            oob_score=False, random_state=0, verbose=0, warm_start=False)"
      ]
     },
     "execution_count": 355,
     "metadata": {},
     "output_type": "execute_result"
    }
   ],
   "source": [
    "from sklearn.ensemble import RandomForestClassifier\n",
    "forest = RandomForestClassifier(n_estimators = 200, random_state = 0)\n",
    "forest.fit(X_train, y_train)\n",
    "\n",
    "forest1 = RandomForestClassifier(n_estimators = 200, random_state = 0)\n",
    "forest1.fit(X1_train, y1_train)"
   ]
  },
  {
   "cell_type": "code",
   "execution_count": 356,
   "metadata": {},
   "outputs": [
    {
     "name": "stdout",
     "output_type": "stream",
     "text": [
      "기본 titanic 정제 데이터 점수:\n",
      "Train Score:0.9819148936170212\n",
      "Test Score: 0.780952380952381\n",
      "\n",
      "\n",
      "titanic 데이터에  age_cat, title 수치화 점수 \n",
      "Train Score:0.9840425531914894\n",
      "Test Score: 0.780952380952381\n"
     ]
    }
   ],
   "source": [
    "print('기본 titanic 정제 데이터 점수:')\n",
    "print('Train Score:{}'.format(forest.score(X_train, y_train)))\n",
    "print('Test Score: {}'.format(forest.score(X_test, y_test)))\n",
    "Model.append('Random Forest')\n",
    "Train_score.append(format(forest.score(X_train, y_train)))\n",
    "Test_score.append(format(forest.score(X_test, y_test)))\n",
    "\n",
    "print('\\n\\ntitanic 데이터에  age_cat, title 수치화 점수 ')\n",
    "\n",
    "print('Train Score:{}'.format(forest1.score(X1_train, y1_train)))\n",
    "print('Test Score: {}'.format(forest1.score(X1_test, y1_test)))"
   ]
  },
  {
   "cell_type": "code",
   "execution_count": 357,
   "metadata": {},
   "outputs": [
    {
     "name": "stdout",
     "output_type": "stream",
     "text": [
      "기본 titanic 정제 데이터에서 생존확률\n",
      "Dicaprio is not survived --> 1.0\n",
      "Winslet is survived --> 0.995\n",
      "\n",
      "\n",
      " titanic 정제 및 추가 데이터에서 생존확률 \n",
      "Dicaprio is not survived --> 0.99\n",
      "Winslet is survived --> 0.97\n"
     ]
    }
   ],
   "source": [
    "print('기본 titanic 정제 데이터에서 생존확률')\n",
    "isSurvived('Dicaprio', dicaprio, forest)\n",
    "isSurvived('Winslet', winslet, forest)\n",
    "\n",
    "print('\\n\\n titanic 정제 및 추가 데이터에서 생존확률 ')\n",
    "isSurvived('Dicaprio', dicaprio_1, forest1)\n",
    "isSurvived('Winslet', winslet_1, forest1)"
   ]
  },
  {
   "cell_type": "code",
   "execution_count": 358,
   "metadata": {},
   "outputs": [
    {
     "data": {
      "image/png": "[encoded data removed]",
      "text/plain": [
       "<Figure size 432x288 with 1 Axes>"
      ]
     },
     "metadata": {
      "needs_background": "light"
     },
     "output_type": "display_data"
    }
   ],
   "source": [
    "plot_feature_importance_titanic(forest, X_train)"
   ]
  },
  {
   "cell_type": "code",
   "execution_count": 359,
   "metadata": {},
   "outputs": [
    {
     "data": {
      "image/png": "[encoded data removed]",
      "text/plain": [
       "<Figure size 432x288 with 1 Axes>"
      ]
     },
     "metadata": {
      "needs_background": "light"
     },
     "output_type": "display_data"
    }
   ],
   "source": [
    "plot_feature_importance_titanic(forest1, X1_train)"
   ]
  },
  {
   "cell_type": "markdown",
   "metadata": {},
   "source": [
    "# 3. knn_ 알고리즘 "
   ]
  },
  {
   "cell_type": "code",
   "execution_count": 360,
   "metadata": {},
   "outputs": [
    {
     "name": "stderr",
     "output_type": "stream",
     "text": [
      "C:\\Users\\A\\Anaconda3\\lib\\site-packages\\ipykernel_launcher.py:3: DataConversionWarning: A column-vector y was passed when a 1d array was expected. Please change the shape of y to (n_samples, ), for example using ravel().\n",
      "  This is separate from the ipykernel package so we can avoid doing imports until\n",
      "C:\\Users\\A\\Anaconda3\\lib\\site-packages\\ipykernel_launcher.py:6: DataConversionWarning: A column-vector y was passed when a 1d array was expected. Please change the shape of y to (n_samples, ), for example using ravel().\n",
      "  \n"
     ]
    },
    {
     "data": {
      "text/plain": [
       "KNeighborsClassifier(algorithm='auto', leaf_size=30, metric='minkowski',\n",
       "           metric_params=None, n_jobs=1, n_neighbors=5, p=2,\n",
       "           weights='uniform')"
      ]
     },
     "execution_count": 360,
     "metadata": {},
     "output_type": "execute_result"
    }
   ],
   "source": [
    "from sklearn.neighbors import KNeighborsClassifier\n",
    "clf = KNeighborsClassifier(n_neighbors = 5)\n",
    "clf.fit(X_train, y_train)\n",
    "\n",
    "clf1 = KNeighborsClassifier(n_neighbors = 5)\n",
    "clf1.fit(X1_train, y1_train)"
   ]
  },
  {
   "cell_type": "markdown",
   "metadata": {},
   "source": [
    "### - knn_알고리즘 정확도 점수"
   ]
  },
  {
   "cell_type": "code",
   "execution_count": 361,
   "metadata": {},
   "outputs": [
    {
     "name": "stdout",
     "output_type": "stream",
     "text": [
      "기본 titanic 정제 데이터 정확도 점수:\n",
      "Train Score:0.7723404255319148\n",
      "Test Score: 0.7333333333333333\n",
      "\n",
      "\n",
      "titanic 데이터에  age_cat, title 수치화 정확도 점수 \n",
      "Train Score:0.7787234042553192\n",
      "Test Score: 0.7238095238095238\n"
     ]
    }
   ],
   "source": [
    "print('기본 titanic 정제 데이터 정확도 점수:')\n",
    "print('Train Score:{}'.format(clf.score(X_train, y_train)))\n",
    "print('Test Score: {}'.format(clf.score(X_test, y_test)))\n",
    "Model.append('KNN')\n",
    "Train_score.append(format(clf.score(X_train, y_train)))\n",
    "Test_score.append(format(clf.score(X_test, y_test)))\n",
    "\n",
    "print('\\n\\ntitanic 데이터에  age_cat, title 수치화 정확도 점수 ')\n",
    "\n",
    "print('Train Score:{}'.format(clf1.score(X1_train, y1_train)))\n",
    "print('Test Score: {}'.format(clf1.score(X1_test, y1_test)))"
   ]
  },
  {
   "cell_type": "code",
   "execution_count": 362,
   "metadata": {},
   "outputs": [
    {
     "name": "stdout",
     "output_type": "stream",
     "text": [
      "기본 titanic 정제 데이터에서 생존확률 \n",
      "\n",
      "Dicaprio is not survived --> 1.0\n",
      "Winslet is survived --> 0.6\n",
      "\n",
      "\n",
      " titanic 정제 및 추가 데이터에서 생존확률 \n",
      "Dicaprio is not survived --> 1.0\n",
      "Winslet is survived --> 0.6\n"
     ]
    }
   ],
   "source": [
    "print('기본 titanic 정제 데이터에서 생존확률 \\n')\n",
    "isSurvived('Dicaprio', dicaprio, clf)\n",
    "isSurvived('Winslet', winslet, clf)\n",
    "\n",
    "print('\\n\\n titanic 정제 및 추가 데이터에서 생존확률 ')\n",
    "isSurvived('Dicaprio', dicaprio_1, clf1)\n",
    "isSurvived('Winslet', winslet_1, clf1)"
   ]
  },
  {
   "cell_type": "markdown",
   "metadata": {},
   "source": [
    "# 4. 선형 분류 알고리즘 -LogisticRegression"
   ]
  },
  {
   "cell_type": "code",
   "execution_count": 363,
   "metadata": {},
   "outputs": [
    {
     "name": "stdout",
     "output_type": "stream",
     "text": [
      "기본 titanic 정제 데이터 정확도 점수:\n",
      "Train Score:0.7840425531914894\n",
      "Test Score: 0.8095238095238095\n",
      "\n",
      "\n",
      "titanic 데이터에  age_cat, title 수치화 정확도 점수 \n",
      "Train Score:0.8\n",
      "Test Score: 0.819047619047619\n"
     ]
    },
    {
     "name": "stderr",
     "output_type": "stream",
     "text": [
      "C:\\Users\\A\\Anaconda3\\lib\\site-packages\\sklearn\\utils\\validation.py:578: DataConversionWarning: A column-vector y was passed when a 1d array was expected. Please change the shape of y to (n_samples, ), for example using ravel().\n",
      "  y = column_or_1d(y, warn=True)\n",
      "C:\\Users\\A\\Anaconda3\\lib\\site-packages\\sklearn\\utils\\validation.py:578: DataConversionWarning: A column-vector y was passed when a 1d array was expected. Please change the shape of y to (n_samples, ), for example using ravel().\n",
      "  y = column_or_1d(y, warn=True)\n"
     ]
    }
   ],
   "source": [
    "from sklearn.linear_model import LogisticRegression\n",
    "logreg = LogisticRegression().fit(X_train, y_train)\n",
    "logreg1 = LogisticRegression().fit(X1_train, y1_train)\n",
    "\n",
    "print('기본 titanic 정제 데이터 정확도 점수:')\n",
    "print('Train Score:{}'.format(logreg.score(X_train, y_train)))\n",
    "print('Test Score: {}'.format(logreg.score(X_test, y_test)))\n",
    "Model.append('LogisticRegression')\n",
    "Train_score.append(format(logreg.score(X_train, y_train)))\n",
    "Test_score.append(format(logreg.score(X_test, y_test)))\n",
    "\n",
    "\n",
    "print('\\n\\ntitanic 데이터에  age_cat, title 수치화 정확도 점수 ')\n",
    "\n",
    "print('Train Score:{}'.format(logreg1.score(X1_train, y1_train)))\n",
    "print('Test Score: {}'.format(logreg1.score(X1_test, y1_test)))"
   ]
  },
  {
   "cell_type": "code",
   "execution_count": 364,
   "metadata": {},
   "outputs": [
    {
     "name": "stdout",
     "output_type": "stream",
     "text": [
      "기본 titanic 정제 데이터에서 생존확률\n",
      "Dicaprio is not survived --> 0.8484388317028668\n",
      "Winslet is survived --> 0.9146979007561423\n",
      "\n",
      "\n",
      " titanic 정제 및 추가 데이터에서 생존확률 \n",
      "Dicaprio is not survived --> 0.8457563538351794\n",
      "Winslet is survived --> 0.9311626350269677\n"
     ]
    }
   ],
   "source": [
    "print('기본 titanic 정제 데이터에서 생존확률')\n",
    "isSurvived('Dicaprio', dicaprio, logreg)\n",
    "isSurvived('Winslet', winslet, logreg)\n",
    "\n",
    "print('\\n\\n titanic 정제 및 추가 데이터에서 생존확률 ')\n",
    "isSurvived('Dicaprio', dicaprio_1, logreg1)\n",
    "isSurvived('Winslet', winslet_1, logreg1)"
   ]
  },
  {
   "cell_type": "markdown",
   "metadata": {},
   "source": [
    "# 5. SVM "
   ]
  },
  {
   "cell_type": "code",
   "execution_count": 365,
   "metadata": {},
   "outputs": [
    {
     "name": "stderr",
     "output_type": "stream",
     "text": [
      "C:\\Users\\A\\Anaconda3\\lib\\site-packages\\sklearn\\utils\\validation.py:578: DataConversionWarning: A column-vector y was passed when a 1d array was expected. Please change the shape of y to (n_samples, ), for example using ravel().\n",
      "  y = column_or_1d(y, warn=True)\n",
      "C:\\Users\\A\\Anaconda3\\lib\\site-packages\\sklearn\\utils\\validation.py:578: DataConversionWarning: A column-vector y was passed when a 1d array was expected. Please change the shape of y to (n_samples, ), for example using ravel().\n",
      "  y = column_or_1d(y, warn=True)\n"
     ]
    },
    {
     "data": {
      "text/plain": [
       "SVC(C=1.0, cache_size=200, class_weight=None, coef0=0.0,\n",
       "  decision_function_shape='ovr', degree=3, gamma='auto', kernel='rbf',\n",
       "  max_iter=-1, probability=False, random_state=None, shrinking=True,\n",
       "  tol=0.001, verbose=False)"
      ]
     },
     "execution_count": 365,
     "metadata": {},
     "output_type": "execute_result"
    }
   ],
   "source": [
    "from sklearn.svm import SVC\n",
    "svc =SVC()\n",
    "svc.fit(X_train, y_train)\n",
    "\n",
    "svc1 =SVC()\n",
    "svc1.fit(X1_train, y1_train)"
   ]
  },
  {
   "cell_type": "markdown",
   "metadata": {},
   "source": [
    "### -데이터셋 전처리전 정확도 검사"
   ]
  },
  {
   "cell_type": "code",
   "execution_count": 366,
   "metadata": {},
   "outputs": [
    {
     "name": "stdout",
     "output_type": "stream",
     "text": [
      "기본 titanic 정제 데이터 정확도 점수:\n",
      "Train Score:0.8872340425531915\n",
      "Test Score: 0.7333333333333333\n",
      "\n",
      "\n",
      "titanic 데이터에  age_cat, title 수치화 정확도 점수 \n",
      "Train Score:0.8882978723404256\n",
      "Test Score: 0.7523809523809524\n"
     ]
    }
   ],
   "source": [
    "print('기본 titanic 정제 데이터 정확도 점수:')\n",
    "print('Train Score:{}'.format(svc.score(X_train, y_train)))\n",
    "print('Test Score: {}'.format(svc.score(X_test, y_test)))\n",
    "\n",
    "print('\\n\\ntitanic 데이터에  age_cat, title 수치화 정확도 점수 ')\n",
    "\n",
    "print('Train Score:{}'.format(svc1.score(X1_train, y1_train)))\n",
    "print('Test Score: {}'.format(svc1.score(X1_test, y1_test)))"
   ]
  },
  {
   "cell_type": "markdown",
   "metadata": {},
   "source": [
    "## SVM을 위한 데이터셋 전처리 후 정확도 검사"
   ]
  },
  {
   "cell_type": "code",
   "execution_count": 367,
   "metadata": {},
   "outputs": [],
   "source": [
    "#g훈련 세트에서 특성별 최솟값 계산\n",
    "min_on_training = X_train.min(axis =0)\n",
    "min_on_training1 = X1_train.min(axis =0)\n",
    "\n",
    "#훈련 세트에서 특성별 (최대값 - 최소값) 범위 계산\n",
    "range_on_training = (X_train - min_on_training).max(axis = 0)\n",
    "range_on_training1 = (X1_train - min_on_training1).max(axis = 0)\n",
    "\n",
    "# 훈련데이터에 최솟값을 빼고 범위로 나누면 \n",
    "# 각 특성에 대해 최솟값은 0 최댓값은 1입니다.\n",
    "X_train_scaled = (X_train - min_on_training) /range_on_training\n",
    "X1_train_scaled = (X1_train - min_on_training1) /range_on_training1\n",
    "\n",
    "X_test_scaled = (X_test - min_on_training) / range_on_training\n",
    "X1_test_scaled = (X1_test - min_on_training1) / range_on_training1\n"
   ]
  },
  {
   "cell_type": "code",
   "execution_count": 368,
   "metadata": {},
   "outputs": [
    {
     "name": "stderr",
     "output_type": "stream",
     "text": [
      "C:\\Users\\A\\Anaconda3\\lib\\site-packages\\sklearn\\utils\\validation.py:578: DataConversionWarning: A column-vector y was passed when a 1d array was expected. Please change the shape of y to (n_samples, ), for example using ravel().\n",
      "  y = column_or_1d(y, warn=True)\n",
      "C:\\Users\\A\\Anaconda3\\lib\\site-packages\\sklearn\\utils\\validation.py:578: DataConversionWarning: A column-vector y was passed when a 1d array was expected. Please change the shape of y to (n_samples, ), for example using ravel().\n",
      "  y = column_or_1d(y, warn=True)\n"
     ]
    },
    {
     "name": "stdout",
     "output_type": "stream",
     "text": [
      "기본 titanic 정제 데이터 정확도 점수:\n",
      "Train Score:0.7755319148936171\n",
      "Test Score: 0.8095238095238095\n",
      "\n",
      "\n",
      "titanic 데이터에  age_cat, title 수치화 정확도 점수 \n",
      "Train Score:0.7755319148936171\n",
      "Test Score: 0.8095238095238095\n"
     ]
    }
   ],
   "source": [
    "svc =SVC()\n",
    "svc.fit(X_train_scaled, y_train)\n",
    "\n",
    "svc1 =SVC()\n",
    "svc1.fit(X1_train_scaled, y1_train)\n",
    "\n",
    "print('기본 titanic 정제 데이터 정확도 점수:')\n",
    "print('Train Score:{}'.format(svc.score(X_train_scaled, y_train)))\n",
    "print('Test Score: {}'.format(svc.score(X_test_scaled, y_test)))\n",
    "\n",
    "Model.append('SVC')\n",
    "Train_score.append(format(svc.score(X_train_scaled, y_train)))\n",
    "Test_score.append(format(svc.score(X_test_scaled, y_test)))\n",
    "\n",
    "\n",
    "print('\\n\\ntitanic 데이터에  age_cat, title 수치화 정확도 점수 ')\n",
    "\n",
    "print('Train Score:{}'.format(svc1.score(X1_train_scaled, y1_train)))\n",
    "print('Test Score: {}'.format(svc1.score(X1_test_scaled, y1_test)))"
   ]
  },
  {
   "cell_type": "code",
   "execution_count": 369,
   "metadata": {},
   "outputs": [],
   "source": [
    "basic_data['Model'] = Model\n",
    "basic_data['Train score'] = Train_score\n",
    "basic_data['Train score'] = basic_data['Train score'].astype(float)\n",
    "basic_data['Test score'] = Test_score\n",
    "basic_data['Test score'] = basic_data['Test score'].astype(float)"
   ]
  },
  {
   "cell_type": "code",
   "execution_count": 370,
   "metadata": {
    "scrolled": false
   },
   "outputs": [
    {
     "data": {
      "text/html": [
       "<div>\n",
       "<style scoped>\n",
       "    .dataframe tbody tr th:only-of-type {\n",
       "        vertical-align: middle;\n",
       "    }\n",
       "\n",
       "    .dataframe tbody tr th {\n",
       "        vertical-align: top;\n",
       "    }\n",
       "\n",
       "    .dataframe thead th {\n",
       "        text-align: right;\n",
       "    }\n",
       "</style>\n",
       "<table border=\"1\" class=\"dataframe\">\n",
       "  <thead>\n",
       "    <tr style=\"text-align: right;\">\n",
       "      <th></th>\n",
       "      <th>Train score</th>\n",
       "      <th>Test score</th>\n",
       "      <th>Model</th>\n",
       "    </tr>\n",
       "  </thead>\n",
       "  <tbody>\n",
       "    <tr>\n",
       "      <th>0</th>\n",
       "      <td>0.811702</td>\n",
       "      <td>0.847619</td>\n",
       "      <td>Decision Tree</td>\n",
       "    </tr>\n",
       "    <tr>\n",
       "      <th>1</th>\n",
       "      <td>0.981915</td>\n",
       "      <td>0.780952</td>\n",
       "      <td>Random Forest</td>\n",
       "    </tr>\n",
       "    <tr>\n",
       "      <th>2</th>\n",
       "      <td>0.772340</td>\n",
       "      <td>0.733333</td>\n",
       "      <td>KNN</td>\n",
       "    </tr>\n",
       "    <tr>\n",
       "      <th>3</th>\n",
       "      <td>0.784043</td>\n",
       "      <td>0.809524</td>\n",
       "      <td>LogisticRegression</td>\n",
       "    </tr>\n",
       "    <tr>\n",
       "      <th>4</th>\n",
       "      <td>0.775532</td>\n",
       "      <td>0.809524</td>\n",
       "      <td>SVC</td>\n",
       "    </tr>\n",
       "  </tbody>\n",
       "</table>\n",
       "</div>"
      ],
      "text/plain": [
       "   Train score  Test score               Model\n",
       "0     0.811702    0.847619       Decision Tree\n",
       "1     0.981915    0.780952       Random Forest\n",
       "2     0.772340    0.733333                 KNN\n",
       "3     0.784043    0.809524  LogisticRegression\n",
       "4     0.775532    0.809524                 SVC"
      ]
     },
     "execution_count": 370,
     "metadata": {},
     "output_type": "execute_result"
    }
   ],
   "source": [
    "basic_data"
   ]
  },
  {
   "cell_type": "code",
   "execution_count": 371,
   "metadata": {},
   "outputs": [
    {
     "data": {
      "text/plain": [
       "(0.0, 1.0)"
      ]
     },
     "execution_count": 371,
     "metadata": {},
     "output_type": "execute_result"
    },
    {
     "data": {
      "image/png": "[encoded data removed]",
      "text/plain": [
       "<Figure size 432x288 with 1 Axes>"
      ]
     },
     "metadata": {
      "needs_background": "light"
     },
     "output_type": "display_data"
    }
   ],
   "source": [
    "plt.bar(basic_data['Model'], basic_data['Test score'])\n",
    "plt.ylim(0,1)"
   ]
  }
 ],
 "metadata": {
  "kernelspec": {
   "display_name": "Python 3",
   "language": "python",
   "name": "python3"
  },
  "language_info": {
   "codemirror_mode": {
    "name": "ipython",
    "version": 3
   },
   "file_extension": ".py",
   "mimetype": "text/x-python",
   "name": "python",
   "nbconvert_exporter": "python",
   "pygments_lexer": "ipython3",
   "version": "3.7.0"
  }
 },
 "nbformat": 4,
 "nbformat_minor": 2
}
